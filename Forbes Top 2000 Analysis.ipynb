{
 "cells": [
  {
   "cell_type": "markdown",
   "id": "152c9ed2",
   "metadata": {},
   "source": [
    "# Forbes Top 2,000 Global Companies"
   ]
  },
  {
   "cell_type": "markdown",
   "id": "158bb3d0",
   "metadata": {},
   "source": [
    "### Data Index\n",
    "\n",
    "This is a webscrapped dataset containing Top 2000 Companies which are ranked by by using four metrics which are their sales, profits, assets, and market value. It has the 11 columns of data and they are:\n",
    "\n",
    "- 2022 Ranking : Organization's Current Year Ranking\n",
    "\n",
    "- Organization Name : Name of the Organization\n",
    "\n",
    "- Industry : The industry type the Organization mainly deals with.\n",
    "\n",
    "- Country : Country of Origin\n",
    "\n",
    "- Year Founded : Year in which the Organization Founded\n",
    "\n",
    "- CEO : CEO of the Organization\n",
    "\n",
    "- Revenue (Billions) : Revenue made in the current year\n",
    "\n",
    "- Profits (Billions) : Profits made in the current year\n",
    "\n",
    "- Assets (Billions) : Assets made in the current year\n",
    "\n",
    "- Market Value (Billions) : Market Value as in current year\n",
    "\n",
    "- Total Employees : Total Number of working employees"
   ]
  },
  {
   "cell_type": "code",
   "execution_count": 1,
   "id": "95dbe1bf",
   "metadata": {},
   "outputs": [],
   "source": [
    "import pandas as pd\n",
    "import numpy as np\n",
    "import seaborn as sns\n",
    "import matplotlib.pyplot as plt\n",
    "import plotly.express as px"
   ]
  },
  {
   "cell_type": "markdown",
   "id": "eb0f1a3e",
   "metadata": {},
   "source": [
    "### Initial EDA to find out data types, columns and statistical information"
   ]
  },
  {
   "cell_type": "code",
   "execution_count": 3,
   "id": "b00013d6",
   "metadata": {},
   "outputs": [
    {
     "data": {
      "text/html": [
       "<div>\n",
       "<style scoped>\n",
       "    .dataframe tbody tr th:only-of-type {\n",
       "        vertical-align: middle;\n",
       "    }\n",
       "\n",
       "    .dataframe tbody tr th {\n",
       "        vertical-align: top;\n",
       "    }\n",
       "\n",
       "    .dataframe thead th {\n",
       "        text-align: right;\n",
       "    }\n",
       "</style>\n",
       "<table border=\"1\" class=\"dataframe\">\n",
       "  <thead>\n",
       "    <tr style=\"text-align: right;\">\n",
       "      <th></th>\n",
       "      <th>2022 Ranking</th>\n",
       "      <th>Organization Name</th>\n",
       "      <th>Industry</th>\n",
       "      <th>Country</th>\n",
       "      <th>Year Founded</th>\n",
       "      <th>CEO</th>\n",
       "      <th>Revenue (Billions)</th>\n",
       "      <th>Profits (Billions)</th>\n",
       "      <th>Assets (Billions)</th>\n",
       "      <th>Market Value (Billions)</th>\n",
       "      <th>Total Employees</th>\n",
       "    </tr>\n",
       "  </thead>\n",
       "  <tbody>\n",
       "    <tr>\n",
       "      <th>0</th>\n",
       "      <td>1</td>\n",
       "      <td>Berkshire Hathaway</td>\n",
       "      <td>Diversified Financials</td>\n",
       "      <td>United States</td>\n",
       "      <td>1939</td>\n",
       "      <td>Warren Edward Buffett</td>\n",
       "      <td>276.09</td>\n",
       "      <td>89.80</td>\n",
       "      <td>958.78</td>\n",
       "      <td>741.48</td>\n",
       "      <td>372000.0</td>\n",
       "    </tr>\n",
       "    <tr>\n",
       "      <th>1</th>\n",
       "      <td>2</td>\n",
       "      <td>ICBC</td>\n",
       "      <td>Banking</td>\n",
       "      <td>China</td>\n",
       "      <td>1984</td>\n",
       "      <td>Shu Gu</td>\n",
       "      <td>208.13</td>\n",
       "      <td>54.03</td>\n",
       "      <td>5518.51</td>\n",
       "      <td>214.42</td>\n",
       "      <td>449296</td>\n",
       "    </tr>\n",
       "    <tr>\n",
       "      <th>2</th>\n",
       "      <td>3</td>\n",
       "      <td>Saudi Arabian Oil Company (Saudi Aramco)</td>\n",
       "      <td>Oil &amp; Gas Operations</td>\n",
       "      <td>Saudi Arabia</td>\n",
       "      <td>1933</td>\n",
       "      <td>Amin bin Hasan Al-Nasser</td>\n",
       "      <td>400.38</td>\n",
       "      <td>105.36</td>\n",
       "      <td>576.04</td>\n",
       "      <td>2292.08</td>\n",
       "      <td>68493.0</td>\n",
       "    </tr>\n",
       "    <tr>\n",
       "      <th>3</th>\n",
       "      <td>4</td>\n",
       "      <td>JPMorgan Chase</td>\n",
       "      <td>Diversified Financials</td>\n",
       "      <td>United States</td>\n",
       "      <td>2000</td>\n",
       "      <td>Jamie Dimon</td>\n",
       "      <td>124.54</td>\n",
       "      <td>42.12</td>\n",
       "      <td>3954.69</td>\n",
       "      <td>374.45</td>\n",
       "      <td>271025.0</td>\n",
       "    </tr>\n",
       "    <tr>\n",
       "      <th>4</th>\n",
       "      <td>5</td>\n",
       "      <td>China Construction Bank</td>\n",
       "      <td>Banking</td>\n",
       "      <td>China</td>\n",
       "      <td>2014</td>\n",
       "      <td>Wang Zuji</td>\n",
       "      <td>202.07</td>\n",
       "      <td>46.89</td>\n",
       "      <td>4746.95</td>\n",
       "      <td>181.32</td>\n",
       "      <td>352621</td>\n",
       "    </tr>\n",
       "  </tbody>\n",
       "</table>\n",
       "</div>"
      ],
      "text/plain": [
       "   2022 Ranking                         Organization Name  \\\n",
       "0             1                        Berkshire Hathaway   \n",
       "1             2                                      ICBC   \n",
       "2             3  Saudi Arabian Oil Company (Saudi Aramco)   \n",
       "3             4                            JPMorgan Chase   \n",
       "4             5                   China Construction Bank   \n",
       "\n",
       "                 Industry        Country  Year Founded  \\\n",
       "0  Diversified Financials  United States          1939   \n",
       "1                 Banking          China          1984   \n",
       "2    Oil & Gas Operations   Saudi Arabia          1933   \n",
       "3  Diversified Financials  United States          2000   \n",
       "4                 Banking          China          2014   \n",
       "\n",
       "                        CEO  Revenue (Billions)  Profits (Billions)  \\\n",
       "0     Warren Edward Buffett              276.09               89.80   \n",
       "1                    Shu Gu              208.13               54.03   \n",
       "2  Amin bin Hasan Al-Nasser              400.38              105.36   \n",
       "3               Jamie Dimon              124.54               42.12   \n",
       "4                 Wang Zuji              202.07               46.89   \n",
       "\n",
       "   Assets (Billions)  Market Value (Billions) Total Employees  \n",
       "0             958.78                   741.48        372000.0  \n",
       "1            5518.51                   214.42          449296  \n",
       "2             576.04                  2292.08         68493.0  \n",
       "3            3954.69                   374.45        271025.0  \n",
       "4            4746.95                   181.32          352621  "
      ]
     },
     "execution_count": 3,
     "metadata": {},
     "output_type": "execute_result"
    }
   ],
   "source": [
    "data = pd.read_csv(\"Forbes_2000_top_company_CLNQ11.csv\")\n",
    "data.head()"
   ]
  },
  {
   "cell_type": "code",
   "execution_count": 4,
   "id": "2fa43fdb",
   "metadata": {},
   "outputs": [
    {
     "data": {
      "text/html": [
       "<div>\n",
       "<style scoped>\n",
       "    .dataframe tbody tr th:only-of-type {\n",
       "        vertical-align: middle;\n",
       "    }\n",
       "\n",
       "    .dataframe tbody tr th {\n",
       "        vertical-align: top;\n",
       "    }\n",
       "\n",
       "    .dataframe thead th {\n",
       "        text-align: right;\n",
       "    }\n",
       "</style>\n",
       "<table border=\"1\" class=\"dataframe\">\n",
       "  <thead>\n",
       "    <tr style=\"text-align: right;\">\n",
       "      <th></th>\n",
       "      <th>2022 Ranking</th>\n",
       "      <th>Year Founded</th>\n",
       "      <th>Revenue (Billions)</th>\n",
       "      <th>Profits (Billions)</th>\n",
       "      <th>Assets (Billions)</th>\n",
       "      <th>Market Value (Billions)</th>\n",
       "    </tr>\n",
       "  </thead>\n",
       "  <tbody>\n",
       "    <tr>\n",
       "      <th>count</th>\n",
       "      <td>1999.000000</td>\n",
       "      <td>1999.000000</td>\n",
       "      <td>1999.000000</td>\n",
       "      <td>1999.000000</td>\n",
       "      <td>1999.000000</td>\n",
       "      <td>1999.000000</td>\n",
       "    </tr>\n",
       "    <tr>\n",
       "      <th>mean</th>\n",
       "      <td>999.818409</td>\n",
       "      <td>1863.992496</td>\n",
       "      <td>23.886628</td>\n",
       "      <td>2.503167</td>\n",
       "      <td>117.176013</td>\n",
       "      <td>38.260675</td>\n",
       "    </tr>\n",
       "    <tr>\n",
       "      <th>std</th>\n",
       "      <td>577.098137</td>\n",
       "      <td>421.815723</td>\n",
       "      <td>40.951362</td>\n",
       "      <td>6.160483</td>\n",
       "      <td>363.826515</td>\n",
       "      <td>117.233301</td>\n",
       "    </tr>\n",
       "    <tr>\n",
       "      <th>min</th>\n",
       "      <td>1.000000</td>\n",
       "      <td>0.000000</td>\n",
       "      <td>0.000000</td>\n",
       "      <td>-12.050000</td>\n",
       "      <td>0.170000</td>\n",
       "      <td>0.140000</td>\n",
       "    </tr>\n",
       "    <tr>\n",
       "      <th>25%</th>\n",
       "      <td>500.500000</td>\n",
       "      <td>1919.000000</td>\n",
       "      <td>5.600000</td>\n",
       "      <td>0.590000</td>\n",
       "      <td>14.800000</td>\n",
       "      <td>7.335000</td>\n",
       "    </tr>\n",
       "    <tr>\n",
       "      <th>50%</th>\n",
       "      <td>1000.000000</td>\n",
       "      <td>1971.000000</td>\n",
       "      <td>12.170000</td>\n",
       "      <td>1.060000</td>\n",
       "      <td>32.100000</td>\n",
       "      <td>16.640000</td>\n",
       "    </tr>\n",
       "    <tr>\n",
       "      <th>75%</th>\n",
       "      <td>1499.000000</td>\n",
       "      <td>1996.000000</td>\n",
       "      <td>23.730000</td>\n",
       "      <td>2.270000</td>\n",
       "      <td>77.880000</td>\n",
       "      <td>34.720000</td>\n",
       "    </tr>\n",
       "    <tr>\n",
       "      <th>max</th>\n",
       "      <td>1999.000000</td>\n",
       "      <td>2022.000000</td>\n",
       "      <td>572.750000</td>\n",
       "      <td>105.360000</td>\n",
       "      <td>5518.510000</td>\n",
       "      <td>2640.320000</td>\n",
       "    </tr>\n",
       "  </tbody>\n",
       "</table>\n",
       "</div>"
      ],
      "text/plain": [
       "       2022 Ranking  Year Founded  Revenue (Billions)  Profits (Billions)  \\\n",
       "count   1999.000000   1999.000000         1999.000000         1999.000000   \n",
       "mean     999.818409   1863.992496           23.886628            2.503167   \n",
       "std      577.098137    421.815723           40.951362            6.160483   \n",
       "min        1.000000      0.000000            0.000000          -12.050000   \n",
       "25%      500.500000   1919.000000            5.600000            0.590000   \n",
       "50%     1000.000000   1971.000000           12.170000            1.060000   \n",
       "75%     1499.000000   1996.000000           23.730000            2.270000   \n",
       "max     1999.000000   2022.000000          572.750000          105.360000   \n",
       "\n",
       "       Assets (Billions)  Market Value (Billions)  \n",
       "count        1999.000000              1999.000000  \n",
       "mean          117.176013                38.260675  \n",
       "std           363.826515               117.233301  \n",
       "min             0.170000                 0.140000  \n",
       "25%            14.800000                 7.335000  \n",
       "50%            32.100000                16.640000  \n",
       "75%            77.880000                34.720000  \n",
       "max          5518.510000              2640.320000  "
      ]
     },
     "execution_count": 4,
     "metadata": {},
     "output_type": "execute_result"
    }
   ],
   "source": [
    "data.describe()"
   ]
  },
  {
   "cell_type": "code",
   "execution_count": 30,
   "id": "800aca5e",
   "metadata": {},
   "outputs": [
    {
     "name": "stdout",
     "output_type": "stream",
     "text": [
      "<class 'pandas.core.frame.DataFrame'>\n",
      "RangeIndex: 1999 entries, 0 to 1998\n",
      "Data columns (total 12 columns):\n",
      " #   Column                   Non-Null Count  Dtype  \n",
      "---  ------                   --------------  -----  \n",
      " 0   2022 Ranking             1999 non-null   int64  \n",
      " 1   Organization Name        1999 non-null   object \n",
      " 2   Industry                 1999 non-null   object \n",
      " 3   Country                  1999 non-null   object \n",
      " 4   Year Founded             1999 non-null   int64  \n",
      " 5   CEO                      1999 non-null   object \n",
      " 6   Revenue (Billions)       1999 non-null   float64\n",
      " 7   Profits (Billions)       1999 non-null   float64\n",
      " 8   Assets (Billions)        1999 non-null   float64\n",
      " 9   Market Value (Billions)  1999 non-null   float64\n",
      " 10  Total Employees          1999 non-null   float64\n",
      " 11  Copy of Total Employees  1999 non-null   float64\n",
      "dtypes: float64(6), int64(2), object(4)\n",
      "memory usage: 187.5+ KB\n"
     ]
    }
   ],
   "source": [
    "# Check nulls and dtypes\n",
    "\n",
    "data.info()"
   ]
  },
  {
   "cell_type": "markdown",
   "id": "9f549dc4",
   "metadata": {},
   "source": [
    "### Histogram to check the frequency and distribution of revenue"
   ]
  },
  {
   "cell_type": "code",
   "execution_count": 6,
   "id": "a5172ad4",
   "metadata": {},
   "outputs": [
    {
     "data": {
      "image/png": "[encoded data removed]",
      "text/plain": [
       "<Figure size 432x288 with 1 Axes>"
      ]
     },
     "metadata": {
      "needs_background": "light"
     },
     "output_type": "display_data"
    }
   ],
   "source": [
    "rev_chart = plt.hist(x = data['Revenue (Billions)'], bins = 10, range = (-5, 500))"
   ]
  },
  {
   "cell_type": "code",
   "execution_count": 7,
   "id": "d252de40",
   "metadata": {},
   "outputs": [
    {
     "data": {
      "text/plain": [
       "(23.8866283141571, 12.17)"
      ]
     },
     "execution_count": 7,
     "metadata": {},
     "output_type": "execute_result"
    }
   ],
   "source": [
    "data['Revenue (Billions)'].mean(), data['Revenue (Billions)'].median() "
   ]
  },
  {
   "cell_type": "markdown",
   "id": "e52f7a31",
   "metadata": {},
   "source": [
    "### Checking which company has the highest overall Profits"
   ]
  },
  {
   "cell_type": "code",
   "execution_count": 8,
   "id": "03a54a97",
   "metadata": {},
   "outputs": [
    {
     "data": {
      "text/plain": [
       "2022 Ranking                                                      3\n",
       "Organization Name          Saudi Arabian Oil Company (Saudi Aramco)\n",
       "Industry                                       Oil & Gas Operations\n",
       "Country                                                Saudi Arabia\n",
       "Year Founded                                                   1933\n",
       "CEO                                        Amin bin Hasan Al-Nasser\n",
       "Revenue (Billions)                                           400.38\n",
       "Profits (Billions)                                           105.36\n",
       "Assets (Billions)                                            576.04\n",
       "Market Value (Billions)                                     2292.08\n",
       "Total Employees                                             68493.0\n",
       "Name: 2, dtype: object"
      ]
     },
     "execution_count": 8,
     "metadata": {},
     "output_type": "execute_result"
    }
   ],
   "source": [
    "data.loc[data['Profits (Billions)'].idxmax()]"
   ]
  },
  {
   "cell_type": "markdown",
   "id": "a0aeaa0b",
   "metadata": {},
   "source": [
    "### Checking which company has the highest revenue in each industry"
   ]
  },
  {
   "cell_type": "code",
   "execution_count": 9,
   "id": "255321a5",
   "metadata": {},
   "outputs": [
    {
     "data": {
      "text/html": [
       "<div>\n",
       "<style scoped>\n",
       "    .dataframe tbody tr th:only-of-type {\n",
       "        vertical-align: middle;\n",
       "    }\n",
       "\n",
       "    .dataframe tbody tr th {\n",
       "        vertical-align: top;\n",
       "    }\n",
       "\n",
       "    .dataframe thead th {\n",
       "        text-align: right;\n",
       "    }\n",
       "</style>\n",
       "<table border=\"1\" class=\"dataframe\">\n",
       "  <thead>\n",
       "    <tr style=\"text-align: right;\">\n",
       "      <th></th>\n",
       "      <th>2022 Ranking</th>\n",
       "      <th>Organization Name</th>\n",
       "      <th>Industry</th>\n",
       "      <th>Country</th>\n",
       "      <th>Year Founded</th>\n",
       "      <th>CEO</th>\n",
       "      <th>Revenue (Billions)</th>\n",
       "      <th>Profits (Billions)</th>\n",
       "      <th>Assets (Billions)</th>\n",
       "      <th>Market Value (Billions)</th>\n",
       "      <th>Total Employees</th>\n",
       "    </tr>\n",
       "  </thead>\n",
       "  <tbody>\n",
       "    <tr>\n",
       "      <th>171</th>\n",
       "      <td>172</td>\n",
       "      <td>Lockheed Martin</td>\n",
       "      <td>Aerospace &amp; Defense</td>\n",
       "      <td>United States</td>\n",
       "      <td>1912</td>\n",
       "      <td>James D. Taiclet</td>\n",
       "      <td>65.75</td>\n",
       "      <td>6.21</td>\n",
       "      <td>51.51</td>\n",
       "      <td>118.82</td>\n",
       "      <td>114000.0</td>\n",
       "    </tr>\n",
       "    <tr>\n",
       "      <th>1439</th>\n",
       "      <td>1440</td>\n",
       "      <td>Rivian</td>\n",
       "      <td>Automotive</td>\n",
       "      <td>United States</td>\n",
       "      <td>2009</td>\n",
       "      <td>Robert Joseph Scaringe</td>\n",
       "      <td>0.06</td>\n",
       "      <td>-4.69</td>\n",
       "      <td>22.29</td>\n",
       "      <td>30.27</td>\n",
       "      <td>10422.0</td>\n",
       "    </tr>\n",
       "    <tr>\n",
       "      <th>1</th>\n",
       "      <td>2</td>\n",
       "      <td>ICBC</td>\n",
       "      <td>Banking</td>\n",
       "      <td>China</td>\n",
       "      <td>1984</td>\n",
       "      <td>Shu Gu</td>\n",
       "      <td>208.13</td>\n",
       "      <td>54.03</td>\n",
       "      <td>5518.51</td>\n",
       "      <td>214.42</td>\n",
       "      <td>449296</td>\n",
       "    </tr>\n",
       "    <tr>\n",
       "      <th>337</th>\n",
       "      <td>338</td>\n",
       "      <td>Fannie Mae</td>\n",
       "      <td>Business Services &amp; Supplies</td>\n",
       "      <td>United States</td>\n",
       "      <td>1938</td>\n",
       "      <td>David C. Benson</td>\n",
       "      <td>100.33</td>\n",
       "      <td>22.18</td>\n",
       "      <td>4229.90</td>\n",
       "      <td>0.88</td>\n",
       "      <td>7400.0</td>\n",
       "    </tr>\n",
       "    <tr>\n",
       "      <th>138</th>\n",
       "      <td>139</td>\n",
       "      <td>Caterpillar</td>\n",
       "      <td>Capital Goods</td>\n",
       "      <td>United States</td>\n",
       "      <td>1925</td>\n",
       "      <td>James Umpleby</td>\n",
       "      <td>50.98</td>\n",
       "      <td>6.49</td>\n",
       "      <td>82.79</td>\n",
       "      <td>115.91</td>\n",
       "      <td>107700.0</td>\n",
       "    </tr>\n",
       "    <tr>\n",
       "      <th>132</th>\n",
       "      <td>133</td>\n",
       "      <td>BASF</td>\n",
       "      <td>Chemicals</td>\n",
       "      <td>Germany</td>\n",
       "      <td>1865</td>\n",
       "      <td>Martin Brudermüller</td>\n",
       "      <td>92.90</td>\n",
       "      <td>6.53</td>\n",
       "      <td>102.41</td>\n",
       "      <td>51.78</td>\n",
       "      <td>111047.0</td>\n",
       "    </tr>\n",
       "    <tr>\n",
       "      <th>144</th>\n",
       "      <td>145</td>\n",
       "      <td>Hitachi</td>\n",
       "      <td>Conglomerates</td>\n",
       "      <td>Japan</td>\n",
       "      <td>1910</td>\n",
       "      <td>Toshiaki Higashihara</td>\n",
       "      <td>91.90</td>\n",
       "      <td>5.87</td>\n",
       "      <td>116.57</td>\n",
       "      <td>45.78</td>\n",
       "      <td>350864.0</td>\n",
       "    </tr>\n",
       "    <tr>\n",
       "      <th>104</th>\n",
       "      <td>105</td>\n",
       "      <td>China State Construction Engineering</td>\n",
       "      <td>Construction</td>\n",
       "      <td>China</td>\n",
       "      <td>1982</td>\n",
       "      <td>Xiang Ming Wang</td>\n",
       "      <td>205.79</td>\n",
       "      <td>5.87</td>\n",
       "      <td>374.72</td>\n",
       "      <td>36.91</td>\n",
       "      <td>335038</td>\n",
       "    </tr>\n",
       "    <tr>\n",
       "      <th>24</th>\n",
       "      <td>25</td>\n",
       "      <td>Volkswagen Group</td>\n",
       "      <td>Consumer Durables</td>\n",
       "      <td>Germany</td>\n",
       "      <td>1937</td>\n",
       "      <td>Herbert Diess</td>\n",
       "      <td>295.73</td>\n",
       "      <td>17.54</td>\n",
       "      <td>638.26</td>\n",
       "      <td>82.40</td>\n",
       "      <td>672789.0</td>\n",
       "    </tr>\n",
       "    <tr>\n",
       "      <th>0</th>\n",
       "      <td>1</td>\n",
       "      <td>Berkshire Hathaway</td>\n",
       "      <td>Diversified Financials</td>\n",
       "      <td>United States</td>\n",
       "      <td>1939</td>\n",
       "      <td>Warren Edward Buffett</td>\n",
       "      <td>276.09</td>\n",
       "      <td>89.80</td>\n",
       "      <td>958.78</td>\n",
       "      <td>741.48</td>\n",
       "      <td>372000.0</td>\n",
       "    </tr>\n",
       "    <tr>\n",
       "      <th>277</th>\n",
       "      <td>278</td>\n",
       "      <td>McKesson</td>\n",
       "      <td>Drugs &amp; Biotechnology</td>\n",
       "      <td>United States</td>\n",
       "      <td>1833</td>\n",
       "      <td>Brian S. Tyler</td>\n",
       "      <td>257.01</td>\n",
       "      <td>1.41</td>\n",
       "      <td>63.71</td>\n",
       "      <td>47.66</td>\n",
       "      <td>76000.0</td>\n",
       "    </tr>\n",
       "    <tr>\n",
       "      <th>1058</th>\n",
       "      <td>1059</td>\n",
       "      <td>JDE Peet's</td>\n",
       "      <td>Food &amp; Drink</td>\n",
       "      <td>Netherlands</td>\n",
       "      <td>2018</td>\n",
       "      <td>Fabien Jacques Simon</td>\n",
       "      <td>8.28</td>\n",
       "      <td>0.90</td>\n",
       "      <td>25.00</td>\n",
       "      <td>15.03</td>\n",
       "      <td>19621.0</td>\n",
       "    </tr>\n",
       "    <tr>\n",
       "      <th>290</th>\n",
       "      <td>291</td>\n",
       "      <td>Kroger</td>\n",
       "      <td>Food Markets</td>\n",
       "      <td>United States</td>\n",
       "      <td>1883</td>\n",
       "      <td>W. Rodney McMullen</td>\n",
       "      <td>137.89</td>\n",
       "      <td>1.64</td>\n",
       "      <td>51.83</td>\n",
       "      <td>41.23</td>\n",
       "      <td>420000.0</td>\n",
       "    </tr>\n",
       "    <tr>\n",
       "      <th>46</th>\n",
       "      <td>47</td>\n",
       "      <td>Nestlé</td>\n",
       "      <td>Food, Drink &amp; Tobacco</td>\n",
       "      <td>Switzerland</td>\n",
       "      <td>1866</td>\n",
       "      <td>Ulf Mark Schneider</td>\n",
       "      <td>95.26</td>\n",
       "      <td>18.49</td>\n",
       "      <td>152.71</td>\n",
       "      <td>360.01</td>\n",
       "      <td>276000.0</td>\n",
       "    </tr>\n",
       "    <tr>\n",
       "      <th>194</th>\n",
       "      <td>195</td>\n",
       "      <td>HCA Healthcare</td>\n",
       "      <td>Health Care Equipment &amp; Services</td>\n",
       "      <td>United States</td>\n",
       "      <td>1968</td>\n",
       "      <td>Samuel N. Hazen</td>\n",
       "      <td>59.72</td>\n",
       "      <td>6.81</td>\n",
       "      <td>52.21</td>\n",
       "      <td>63.62</td>\n",
       "      <td>284000.0</td>\n",
       "    </tr>\n",
       "    <tr>\n",
       "      <th>302</th>\n",
       "      <td>303</td>\n",
       "      <td>Starbucks</td>\n",
       "      <td>Hotels, Restaurants &amp; Leisure</td>\n",
       "      <td>United States</td>\n",
       "      <td>1971</td>\n",
       "      <td>Howard Schultz</td>\n",
       "      <td>30.36</td>\n",
       "      <td>4.39</td>\n",
       "      <td>28.83</td>\n",
       "      <td>89.63</td>\n",
       "      <td>383000.0</td>\n",
       "    </tr>\n",
       "    <tr>\n",
       "      <th>62</th>\n",
       "      <td>63</td>\n",
       "      <td>Procter &amp; Gamble</td>\n",
       "      <td>Household &amp; Personal Products</td>\n",
       "      <td>United States</td>\n",
       "      <td>1837</td>\n",
       "      <td>Jon R. Moeller</td>\n",
       "      <td>79.62</td>\n",
       "      <td>14.60</td>\n",
       "      <td>120.22</td>\n",
       "      <td>386.53</td>\n",
       "      <td>101000.0</td>\n",
       "    </tr>\n",
       "    <tr>\n",
       "      <th>10</th>\n",
       "      <td>11</td>\n",
       "      <td>Alphabet</td>\n",
       "      <td>IT Software &amp; Services</td>\n",
       "      <td>United States</td>\n",
       "      <td>1998</td>\n",
       "      <td>Sundar Pichai</td>\n",
       "      <td>257.49</td>\n",
       "      <td>76.03</td>\n",
       "      <td>359.27</td>\n",
       "      <td>1581.72</td>\n",
       "      <td>156500.0</td>\n",
       "    </tr>\n",
       "    <tr>\n",
       "      <th>21</th>\n",
       "      <td>22</td>\n",
       "      <td>UnitedHealth Group</td>\n",
       "      <td>Insurance</td>\n",
       "      <td>United States</td>\n",
       "      <td>1977</td>\n",
       "      <td>Andrew Witty</td>\n",
       "      <td>297.55</td>\n",
       "      <td>17.45</td>\n",
       "      <td>221.24</td>\n",
       "      <td>490.15</td>\n",
       "      <td>350000.0</td>\n",
       "    </tr>\n",
       "    <tr>\n",
       "      <th>90</th>\n",
       "      <td>91</td>\n",
       "      <td>Glencore International</td>\n",
       "      <td>Materials</td>\n",
       "      <td>Switzerland</td>\n",
       "      <td>1974</td>\n",
       "      <td>Gary Nagle</td>\n",
       "      <td>203.41</td>\n",
       "      <td>5.00</td>\n",
       "      <td>127.51</td>\n",
       "      <td>79.90</td>\n",
       "      <td>135000.0</td>\n",
       "    </tr>\n",
       "    <tr>\n",
       "      <th>31</th>\n",
       "      <td>32</td>\n",
       "      <td>Comcast</td>\n",
       "      <td>Media</td>\n",
       "      <td>United States</td>\n",
       "      <td>1963</td>\n",
       "      <td>Brian L. Roberts</td>\n",
       "      <td>116.38</td>\n",
       "      <td>14.16</td>\n",
       "      <td>275.90</td>\n",
       "      <td>205.72</td>\n",
       "      <td>189000.0</td>\n",
       "    </tr>\n",
       "    <tr>\n",
       "      <th>2</th>\n",
       "      <td>3</td>\n",
       "      <td>Saudi Arabian Oil Company (Saudi Aramco)</td>\n",
       "      <td>Oil &amp; Gas Operations</td>\n",
       "      <td>Saudi Arabia</td>\n",
       "      <td>1933</td>\n",
       "      <td>Amin bin Hasan Al-Nasser</td>\n",
       "      <td>400.38</td>\n",
       "      <td>105.36</td>\n",
       "      <td>576.04</td>\n",
       "      <td>2292.08</td>\n",
       "      <td>68493.0</td>\n",
       "    </tr>\n",
       "    <tr>\n",
       "      <th>22</th>\n",
       "      <td>23</td>\n",
       "      <td>Walmart</td>\n",
       "      <td>Retailing</td>\n",
       "      <td>United States</td>\n",
       "      <td>1962</td>\n",
       "      <td>C. Douglas McMillon</td>\n",
       "      <td>572.75</td>\n",
       "      <td>13.67</td>\n",
       "      <td>244.86</td>\n",
       "      <td>431.64</td>\n",
       "      <td>2300000.0</td>\n",
       "    </tr>\n",
       "    <tr>\n",
       "      <th>50</th>\n",
       "      <td>51</td>\n",
       "      <td>Intel</td>\n",
       "      <td>Semiconductors</td>\n",
       "      <td>United States</td>\n",
       "      <td>1968</td>\n",
       "      <td>Patrick Gelsinger</td>\n",
       "      <td>79.02</td>\n",
       "      <td>19.87</td>\n",
       "      <td>168.41</td>\n",
       "      <td>190.29</td>\n",
       "      <td>121100.0</td>\n",
       "    </tr>\n",
       "    <tr>\n",
       "      <th>6</th>\n",
       "      <td>7</td>\n",
       "      <td>Apple</td>\n",
       "      <td>Technology Hardware &amp; Equipment</td>\n",
       "      <td>United States</td>\n",
       "      <td>1976</td>\n",
       "      <td>Tim Cook</td>\n",
       "      <td>378.70</td>\n",
       "      <td>100.56</td>\n",
       "      <td>381.19</td>\n",
       "      <td>2640.32</td>\n",
       "      <td>154000.0</td>\n",
       "    </tr>\n",
       "    <tr>\n",
       "      <th>19</th>\n",
       "      <td>20</td>\n",
       "      <td>AT&amp;T</td>\n",
       "      <td>Telecommunications Services</td>\n",
       "      <td>United States</td>\n",
       "      <td>1876</td>\n",
       "      <td>John Stankey</td>\n",
       "      <td>163.02</td>\n",
       "      <td>17.33</td>\n",
       "      <td>551.62</td>\n",
       "      <td>141.79</td>\n",
       "      <td>203000.0</td>\n",
       "    </tr>\n",
       "    <tr>\n",
       "      <th>103</th>\n",
       "      <td>104</td>\n",
       "      <td>Mitsubishi</td>\n",
       "      <td>Trading Companies</td>\n",
       "      <td>Japan</td>\n",
       "      <td>1870</td>\n",
       "      <td>Takehiko Kakiuchi</td>\n",
       "      <td>146.94</td>\n",
       "      <td>5.90</td>\n",
       "      <td>178.14</td>\n",
       "      <td>50.86</td>\n",
       "      <td>82997.0</td>\n",
       "    </tr>\n",
       "    <tr>\n",
       "      <th>99</th>\n",
       "      <td>100</td>\n",
       "      <td>United Parcel Service</td>\n",
       "      <td>Transportation</td>\n",
       "      <td>United States</td>\n",
       "      <td>1907</td>\n",
       "      <td>Carol B. Tomé</td>\n",
       "      <td>97.20</td>\n",
       "      <td>12.89</td>\n",
       "      <td>69.40</td>\n",
       "      <td>163.03</td>\n",
       "      <td>534000.0</td>\n",
       "    </tr>\n",
       "    <tr>\n",
       "      <th>442</th>\n",
       "      <td>443</td>\n",
       "      <td>Fortum</td>\n",
       "      <td>Utilities</td>\n",
       "      <td>Finland</td>\n",
       "      <td>1998</td>\n",
       "      <td>Markus Erdem Rauramo</td>\n",
       "      <td>132.85</td>\n",
       "      <td>0.87</td>\n",
       "      <td>170.19</td>\n",
       "      <td>15.64</td>\n",
       "      <td>19140.0</td>\n",
       "    </tr>\n",
       "  </tbody>\n",
       "</table>\n",
       "</div>"
      ],
      "text/plain": [
       "      2022 Ranking                         Organization Name  \\\n",
       "171            172                           Lockheed Martin   \n",
       "1439          1440                                    Rivian   \n",
       "1                2                                      ICBC   \n",
       "337            338                                Fannie Mae   \n",
       "138            139                               Caterpillar   \n",
       "132            133                                      BASF   \n",
       "144            145                                   Hitachi   \n",
       "104            105      China State Construction Engineering   \n",
       "24              25                          Volkswagen Group   \n",
       "0                1                        Berkshire Hathaway   \n",
       "277            278                                  McKesson   \n",
       "1058          1059                                JDE Peet's   \n",
       "290            291                                    Kroger   \n",
       "46              47                                    Nestlé   \n",
       "194            195                            HCA Healthcare   \n",
       "302            303                                 Starbucks   \n",
       "62              63                          Procter & Gamble   \n",
       "10              11                                  Alphabet   \n",
       "21              22                        UnitedHealth Group   \n",
       "90              91                    Glencore International   \n",
       "31              32                                   Comcast   \n",
       "2                3  Saudi Arabian Oil Company (Saudi Aramco)   \n",
       "22              23                                   Walmart   \n",
       "50              51                                     Intel   \n",
       "6                7                                     Apple   \n",
       "19              20                                      AT&T   \n",
       "103            104                                Mitsubishi   \n",
       "99             100                     United Parcel Service   \n",
       "442            443                                    Fortum   \n",
       "\n",
       "                              Industry        Country  Year Founded  \\\n",
       "171                Aerospace & Defense  United States          1912   \n",
       "1439                        Automotive  United States          2009   \n",
       "1                              Banking          China          1984   \n",
       "337       Business Services & Supplies  United States          1938   \n",
       "138                      Capital Goods  United States          1925   \n",
       "132                          Chemicals        Germany          1865   \n",
       "144                      Conglomerates          Japan          1910   \n",
       "104                       Construction          China          1982   \n",
       "24                   Consumer Durables        Germany          1937   \n",
       "0               Diversified Financials  United States          1939   \n",
       "277              Drugs & Biotechnology  United States          1833   \n",
       "1058                      Food & Drink    Netherlands          2018   \n",
       "290                       Food Markets  United States          1883   \n",
       "46               Food, Drink & Tobacco    Switzerland          1866   \n",
       "194   Health Care Equipment & Services  United States          1968   \n",
       "302      Hotels, Restaurants & Leisure  United States          1971   \n",
       "62       Household & Personal Products  United States          1837   \n",
       "10              IT Software & Services  United States          1998   \n",
       "21                           Insurance  United States          1977   \n",
       "90                           Materials    Switzerland          1974   \n",
       "31                               Media  United States          1963   \n",
       "2                 Oil & Gas Operations   Saudi Arabia          1933   \n",
       "22                           Retailing  United States          1962   \n",
       "50                      Semiconductors  United States          1968   \n",
       "6      Technology Hardware & Equipment  United States          1976   \n",
       "19         Telecommunications Services  United States          1876   \n",
       "103                  Trading Companies          Japan          1870   \n",
       "99                      Transportation  United States          1907   \n",
       "442                          Utilities        Finland          1998   \n",
       "\n",
       "                           CEO  Revenue (Billions)  Profits (Billions)  \\\n",
       "171           James D. Taiclet               65.75                6.21   \n",
       "1439    Robert Joseph Scaringe                0.06               -4.69   \n",
       "1                       Shu Gu              208.13               54.03   \n",
       "337            David C. Benson              100.33               22.18   \n",
       "138              James Umpleby               50.98                6.49   \n",
       "132        Martin Brudermüller               92.90                6.53   \n",
       "144       Toshiaki Higashihara               91.90                5.87   \n",
       "104            Xiang Ming Wang              205.79                5.87   \n",
       "24               Herbert Diess              295.73               17.54   \n",
       "0        Warren Edward Buffett              276.09               89.80   \n",
       "277             Brian S. Tyler              257.01                1.41   \n",
       "1058      Fabien Jacques Simon                8.28                0.90   \n",
       "290         W. Rodney McMullen              137.89                1.64   \n",
       "46          Ulf Mark Schneider               95.26               18.49   \n",
       "194            Samuel N. Hazen               59.72                6.81   \n",
       "302             Howard Schultz               30.36                4.39   \n",
       "62              Jon R. Moeller               79.62               14.60   \n",
       "10               Sundar Pichai              257.49               76.03   \n",
       "21                Andrew Witty              297.55               17.45   \n",
       "90                  Gary Nagle              203.41                5.00   \n",
       "31            Brian L. Roberts              116.38               14.16   \n",
       "2     Amin bin Hasan Al-Nasser              400.38              105.36   \n",
       "22         C. Douglas McMillon              572.75               13.67   \n",
       "50           Patrick Gelsinger               79.02               19.87   \n",
       "6                     Tim Cook              378.70              100.56   \n",
       "19                John Stankey              163.02               17.33   \n",
       "103          Takehiko Kakiuchi              146.94                5.90   \n",
       "99               Carol B. Tomé               97.20               12.89   \n",
       "442       Markus Erdem Rauramo              132.85                0.87   \n",
       "\n",
       "      Assets (Billions)  Market Value (Billions) Total Employees  \n",
       "171               51.51                   118.82        114000.0  \n",
       "1439              22.29                    30.27         10422.0  \n",
       "1               5518.51                   214.42          449296  \n",
       "337             4229.90                     0.88          7400.0  \n",
       "138               82.79                   115.91        107700.0  \n",
       "132              102.41                    51.78        111047.0  \n",
       "144              116.57                    45.78        350864.0  \n",
       "104              374.72                    36.91          335038  \n",
       "24               638.26                    82.40        672789.0  \n",
       "0                958.78                   741.48        372000.0  \n",
       "277               63.71                    47.66         76000.0  \n",
       "1058              25.00                    15.03         19621.0  \n",
       "290               51.83                    41.23        420000.0  \n",
       "46               152.71                   360.01        276000.0  \n",
       "194               52.21                    63.62        284000.0  \n",
       "302               28.83                    89.63        383000.0  \n",
       "62               120.22                   386.53        101000.0  \n",
       "10               359.27                  1581.72        156500.0  \n",
       "21               221.24                   490.15        350000.0  \n",
       "90               127.51                    79.90        135000.0  \n",
       "31               275.90                   205.72        189000.0  \n",
       "2                576.04                  2292.08         68493.0  \n",
       "22               244.86                   431.64       2300000.0  \n",
       "50               168.41                   190.29        121100.0  \n",
       "6                381.19                  2640.32        154000.0  \n",
       "19               551.62                   141.79        203000.0  \n",
       "103              178.14                    50.86         82997.0  \n",
       "99                69.40                   163.03        534000.0  \n",
       "442              170.19                    15.64         19140.0  "
      ]
     },
     "execution_count": 9,
     "metadata": {},
     "output_type": "execute_result"
    }
   ],
   "source": [
    "industry_revenue = data.loc[data.groupby('Industry')['Revenue (Billions)'].idxmax()]\n",
    "industry_revenue"
   ]
  },
  {
   "cell_type": "markdown",
   "id": "143559f9",
   "metadata": {},
   "source": [
    "### Plotting Highest Revenue By Industry"
   ]
  },
  {
   "cell_type": "code",
   "execution_count": 10,
   "id": "440a105a",
   "metadata": {},
   "outputs": [
    {
     "data": {
      "image/png": "[encoded data removed]",
      "text/plain": [
       "<Figure size 864x432 with 1 Axes>"
      ]
     },
     "metadata": {
      "needs_background": "light"
     },
     "output_type": "display_data"
    }
   ],
   "source": [
    "\n",
    "fig, ax = plt.subplots(figsize = (12,6))\n",
    "sns.barplot(x = 'Industry', y = 'Revenue (Billions)', data = industry_revenue, ci = None)\n",
    "plt.title(\"Highest Revenue by Industry\")\n",
    "plt.xlabel(\"Industry\")\n",
    "plt.ylabel(\"Revenue (Billions)\")\n",
    "plt.xticks(rotation=90)\n",
    "plt.show();"
   ]
  },
  {
   "cell_type": "markdown",
   "id": "65c005f2",
   "metadata": {},
   "source": [
    "### Histogram of Profit for visibility of frequency"
   ]
  },
  {
   "cell_type": "code",
   "execution_count": 11,
   "id": "2cebda32",
   "metadata": {},
   "outputs": [
    {
     "data": {
      "image/png": "[encoded data removed]",
      "text/plain": [
       "<Figure size 432x288 with 1 Axes>"
      ]
     },
     "metadata": {
      "needs_background": "light"
     },
     "output_type": "display_data"
    }
   ],
   "source": [
    "profit_chart = plt.hist(x = data['Profits (Billions)'], bins = 10, range = (-10, 50));"
   ]
  },
  {
   "cell_type": "markdown",
   "id": "7f5e47fa",
   "metadata": {},
   "source": [
    "### Next we want to see how many of the top 2000 companies are in each industry"
   ]
  },
  {
   "cell_type": "code",
   "execution_count": 35,
   "id": "dee41e0e",
   "metadata": {
    "scrolled": false
   },
   "outputs": [
    {
     "data": {
      "application/vnd.plotly.v1+json": {
       "config": {
        "plotlyServerURL": "https://plot.ly"
       },
       "data": [
        {
         "alignmentgroup": "True",
         "hovertemplate": "Industry=%{y}<extra></extra>",
         "legendgroup": "Diversified Financials",
         "marker": {
          "color": "#636efa",
          "pattern": {
           "shape": ""
          }
         },
         "name": "Diversified Financials",
         "offsetgroup": "Diversified Financials",
         "orientation": "v",
         "showlegend": true,
         "textposition": "auto",
         "type": "bar",
         "x": [
          "Diversified Financials",
          "Diversified Financials",
          "Diversified Financials",
          "Diversified Financials",
          "Diversified Financials",
          "Diversified Financials",
          "Diversified Financials",
          "Diversified Financials",
          "Diversified Financials",
          "Diversified Financials",
          "Diversified Financials",
          "Diversified Financials",
          "Diversified Financials",
          "Diversified Financials",
          "Diversified Financials",
          "Diversified Financials",
          "Diversified Financials",
          "Diversified Financials",
          "Diversified Financials",
          "Diversified Financials",
          "Diversified Financials",
          "Diversified Financials",
          "Diversified Financials",
          "Diversified Financials",
          "Diversified Financials",
          "Diversified Financials",
          "Diversified Financials",
          "Diversified Financials",
          "Diversified Financials",
          "Diversified Financials",
          "Diversified Financials",
          "Diversified Financials",
          "Diversified Financials",
          "Diversified Financials",
          "Diversified Financials",
          "Diversified Financials",
          "Diversified Financials",
          "Diversified Financials",
          "Diversified Financials",
          "Diversified Financials",
          "Diversified Financials",
          "Diversified Financials",
          "Diversified Financials",
          "Diversified Financials",
          "Diversified Financials",
          "Diversified Financials",
          "Diversified Financials",
          "Diversified Financials",
          "Diversified Financials",
          "Diversified Financials",
          "Diversified Financials",
          "Diversified Financials",
          "Diversified Financials",
          "Diversified Financials",
          "Diversified Financials",
          "Diversified Financials",
          "Diversified Financials",
          "Diversified Financials",
          "Diversified Financials",
          "Diversified Financials",
          "Diversified Financials",
          "Diversified Financials",
          "Diversified Financials",
          "Diversified Financials",
          "Diversified Financials",
          "Diversified Financials",
          "Diversified Financials",
          "Diversified Financials",
          "Diversified Financials",
          "Diversified Financials",
          "Diversified Financials",
          "Diversified Financials",
          "Diversified Financials",
          "Diversified Financials",
          "Diversified Financials",
          "Diversified Financials",
          "Diversified Financials",
          "Diversified Financials",
          "Diversified Financials",
          "Diversified Financials",
          "Diversified Financials",
          "Diversified Financials",
          "Diversified Financials",
          "Diversified Financials",
          "Diversified Financials",
          "Diversified Financials",
          "Diversified Financials",
          "Diversified Financials",
          "Diversified Financials",
          "Diversified Financials",
          "Diversified Financials",
          "Diversified Financials",
          "Diversified Financials",
          "Diversified Financials",
          "Diversified Financials",
          "Diversified Financials",
          "Diversified Financials",
          "Diversified Financials",
          "Diversified Financials",
          "Diversified Financials",
          "Diversified Financials",
          "Diversified Financials",
          "Diversified Financials",
          "Diversified Financials",
          "Diversified Financials",
          "Diversified Financials",
          "Diversified Financials",
          "Diversified Financials",
          "Diversified Financials",
          "Diversified Financials",
          "Diversified Financials",
          "Diversified Financials",
          "Diversified Financials",
          "Diversified Financials",
          "Diversified Financials",
          "Diversified Financials",
          "Diversified Financials",
          "Diversified Financials",
          "Diversified Financials",
          "Diversified Financials",
          "Diversified Financials",
          "Diversified Financials",
          "Diversified Financials",
          "Diversified Financials",
          "Diversified Financials",
          "Diversified Financials",
          "Diversified Financials",
          "Diversified Financials",
          "Diversified Financials",
          "Diversified Financials",
          "Diversified Financials",
          "Diversified Financials",
          "Diversified Financials",
          "Diversified Financials",
          "Diversified Financials",
          "Diversified Financials",
          "Diversified Financials",
          "Diversified Financials",
          "Diversified Financials",
          "Diversified Financials",
          "Diversified Financials",
          "Diversified Financials",
          "Diversified Financials",
          "Diversified Financials",
          "Diversified Financials",
          "Diversified Financials"
         ],
         "xaxis": "x",
         "y": [
          "Diversified Financials",
          "Diversified Financials",
          "Diversified Financials",
          "Diversified Financials",
          "Diversified Financials",
          "Diversified Financials",
          "Diversified Financials",
          "Diversified Financials",
          "Diversified Financials",
          "Diversified Financials",
          "Diversified Financials",
          "Diversified Financials",
          "Diversified Financials",
          "Diversified Financials",
          "Diversified Financials",
          "Diversified Financials",
          "Diversified Financials",
          "Diversified Financials",
          "Diversified Financials",
          "Diversified Financials",
          "Diversified Financials",
          "Diversified Financials",
          "Diversified Financials",
          "Diversified Financials",
          "Diversified Financials",
          "Diversified Financials",
          "Diversified Financials",
          "Diversified Financials",
          "Diversified Financials",
          "Diversified Financials",
          "Diversified Financials",
          "Diversified Financials",
          "Diversified Financials",
          "Diversified Financials",
          "Diversified Financials",
          "Diversified Financials",
          "Diversified Financials",
          "Diversified Financials",
          "Diversified Financials",
          "Diversified Financials",
          "Diversified Financials",
          "Diversified Financials",
          "Diversified Financials",
          "Diversified Financials",
          "Diversified Financials",
          "Diversified Financials",
          "Diversified Financials",
          "Diversified Financials",
          "Diversified Financials",
          "Diversified Financials",
          "Diversified Financials",
          "Diversified Financials",
          "Diversified Financials",
          "Diversified Financials",
          "Diversified Financials",
          "Diversified Financials",
          "Diversified Financials",
          "Diversified Financials",
          "Diversified Financials",
          "Diversified Financials",
          "Diversified Financials",
          "Diversified Financials",
          "Diversified Financials",
          "Diversified Financials",
          "Diversified Financials",
          "Diversified Financials",
          "Diversified Financials",
          "Diversified Financials",
          "Diversified Financials",
          "Diversified Financials",
          "Diversified Financials",
          "Diversified Financials",
          "Diversified Financials",
          "Diversified Financials",
          "Diversified Financials",
          "Diversified Financials",
          "Diversified Financials",
          "Diversified Financials",
          "Diversified Financials",
          "Diversified Financials",
          "Diversified Financials",
          "Diversified Financials",
          "Diversified Financials",
          "Diversified Financials",
          "Diversified Financials",
          "Diversified Financials",
          "Diversified Financials",
          "Diversified Financials",
          "Diversified Financials",
          "Diversified Financials",
          "Diversified Financials",
          "Diversified Financials",
          "Diversified Financials",
          "Diversified Financials",
          "Diversified Financials",
          "Diversified Financials",
          "Diversified Financials",
          "Diversified Financials",
          "Diversified Financials",
          "Diversified Financials",
          "Diversified Financials",
          "Diversified Financials",
          "Diversified Financials",
          "Diversified Financials",
          "Diversified Financials",
          "Diversified Financials",
          "Diversified Financials",
          "Diversified Financials",
          "Diversified Financials",
          "Diversified Financials",
          "Diversified Financials",
          "Diversified Financials",
          "Diversified Financials",
          "Diversified Financials",
          "Diversified Financials",
          "Diversified Financials",
          "Diversified Financials",
          "Diversified Financials",
          "Diversified Financials",
          "Diversified Financials",
          "Diversified Financials",
          "Diversified Financials",
          "Diversified Financials",
          "Diversified Financials",
          "Diversified Financials",
          "Diversified Financials",
          "Diversified Financials",
          "Diversified Financials",
          "Diversified Financials",
          "Diversified Financials",
          "Diversified Financials",
          "Diversified Financials",
          "Diversified Financials",
          "Diversified Financials",
          "Diversified Financials",
          "Diversified Financials",
          "Diversified Financials",
          "Diversified Financials",
          "Diversified Financials",
          "Diversified Financials",
          "Diversified Financials",
          "Diversified Financials",
          "Diversified Financials",
          "Diversified Financials",
          "Diversified Financials",
          "Diversified Financials"
         ],
         "yaxis": "y"
        },
        {
         "alignmentgroup": "True",
         "hovertemplate": "Industry=%{y}<extra></extra>",
         "legendgroup": "Banking",
         "marker": {
          "color": "#EF553B",
          "pattern": {
           "shape": ""
          }
         },
         "name": "Banking",
         "offsetgroup": "Banking",
         "orientation": "v",
         "showlegend": true,
         "textposition": "auto",
         "type": "bar",
         "x": [
          "Banking",
          "Banking",
          "Banking",
          "Banking",
          "Banking",
          "Banking",
          "Banking",
          "Banking",
          "Banking",
          "Banking",
          "Banking",
          "Banking",
          "Banking",
          "Banking",
          "Banking",
          "Banking",
          "Banking",
          "Banking",
          "Banking",
          "Banking",
          "Banking",
          "Banking",
          "Banking",
          "Banking",
          "Banking",
          "Banking",
          "Banking",
          "Banking",
          "Banking",
          "Banking",
          "Banking",
          "Banking",
          "Banking",
          "Banking",
          "Banking",
          "Banking",
          "Banking",
          "Banking",
          "Banking",
          "Banking",
          "Banking",
          "Banking",
          "Banking",
          "Banking",
          "Banking",
          "Banking",
          "Banking",
          "Banking",
          "Banking",
          "Banking",
          "Banking",
          "Banking",
          "Banking",
          "Banking",
          "Banking",
          "Banking",
          "Banking",
          "Banking",
          "Banking",
          "Banking",
          "Banking",
          "Banking",
          "Banking",
          "Banking",
          "Banking",
          "Banking",
          "Banking",
          "Banking",
          "Banking",
          "Banking",
          "Banking",
          "Banking",
          "Banking",
          "Banking",
          "Banking",
          "Banking",
          "Banking",
          "Banking",
          "Banking",
          "Banking",
          "Banking",
          "Banking",
          "Banking",
          "Banking",
          "Banking",
          "Banking",
          "Banking",
          "Banking",
          "Banking",
          "Banking",
          "Banking",
          "Banking",
          "Banking",
          "Banking",
          "Banking",
          "Banking",
          "Banking",
          "Banking",
          "Banking",
          "Banking",
          "Banking",
          "Banking",
          "Banking",
          "Banking",
          "Banking",
          "Banking",
          "Banking",
          "Banking",
          "Banking",
          "Banking",
          "Banking",
          "Banking",
          "Banking",
          "Banking",
          "Banking",
          "Banking",
          "Banking",
          "Banking",
          "Banking",
          "Banking",
          "Banking",
          "Banking",
          "Banking",
          "Banking",
          "Banking",
          "Banking",
          "Banking",
          "Banking",
          "Banking",
          "Banking",
          "Banking",
          "Banking",
          "Banking",
          "Banking",
          "Banking",
          "Banking",
          "Banking",
          "Banking",
          "Banking",
          "Banking",
          "Banking",
          "Banking",
          "Banking",
          "Banking",
          "Banking",
          "Banking",
          "Banking",
          "Banking",
          "Banking",
          "Banking",
          "Banking",
          "Banking",
          "Banking",
          "Banking",
          "Banking",
          "Banking",
          "Banking",
          "Banking",
          "Banking",
          "Banking",
          "Banking",
          "Banking",
          "Banking",
          "Banking",
          "Banking",
          "Banking",
          "Banking",
          "Banking",
          "Banking",
          "Banking",
          "Banking",
          "Banking",
          "Banking",
          "Banking",
          "Banking",
          "Banking",
          "Banking",
          "Banking",
          "Banking",
          "Banking",
          "Banking",
          "Banking",
          "Banking",
          "Banking",
          "Banking",
          "Banking",
          "Banking",
          "Banking",
          "Banking",
          "Banking",
          "Banking",
          "Banking",
          "Banking",
          "Banking",
          "Banking",
          "Banking",
          "Banking",
          "Banking",
          "Banking",
          "Banking",
          "Banking",
          "Banking",
          "Banking",
          "Banking",
          "Banking",
          "Banking",
          "Banking",
          "Banking",
          "Banking",
          "Banking",
          "Banking",
          "Banking",
          "Banking",
          "Banking",
          "Banking",
          "Banking",
          "Banking",
          "Banking",
          "Banking",
          "Banking",
          "Banking",
          "Banking",
          "Banking",
          "Banking",
          "Banking",
          "Banking",
          "Banking",
          "Banking",
          "Banking",
          "Banking",
          "Banking",
          "Banking",
          "Banking",
          "Banking",
          "Banking",
          "Banking",
          "Banking",
          "Banking",
          "Banking",
          "Banking",
          "Banking",
          "Banking",
          "Banking",
          "Banking",
          "Banking",
          "Banking",
          "Banking",
          "Banking",
          "Banking",
          "Banking",
          "Banking",
          "Banking",
          "Banking",
          "Banking",
          "Banking",
          "Banking",
          "Banking",
          "Banking",
          "Banking",
          "Banking",
          "Banking",
          "Banking",
          "Banking",
          "Banking",
          "Banking",
          "Banking",
          "Banking",
          "Banking",
          "Banking",
          "Banking",
          "Banking",
          "Banking",
          "Banking",
          "Banking",
          "Banking",
          "Banking",
          "Banking",
          "Banking",
          "Banking",
          "Banking",
          "Banking",
          "Banking",
          "Banking",
          "Banking",
          "Banking",
          "Banking",
          "Banking",
          "Banking",
          "Banking"
         ],
         "xaxis": "x",
         "y": [
          "Banking",
          "Banking",
          "Banking",
          "Banking",
          "Banking",
          "Banking",
          "Banking",
          "Banking",
          "Banking",
          "Banking",
          "Banking",
          "Banking",
          "Banking",
          "Banking",
          "Banking",
          "Banking",
          "Banking",
          "Banking",
          "Banking",
          "Banking",
          "Banking",
          "Banking",
          "Banking",
          "Banking",
          "Banking",
          "Banking",
          "Banking",
          "Banking",
          "Banking",
          "Banking",
          "Banking",
          "Banking",
          "Banking",
          "Banking",
          "Banking",
          "Banking",
          "Banking",
          "Banking",
          "Banking",
          "Banking",
          "Banking",
          "Banking",
          "Banking",
          "Banking",
          "Banking",
          "Banking",
          "Banking",
          "Banking",
          "Banking",
          "Banking",
          "Banking",
          "Banking",
          "Banking",
          "Banking",
          "Banking",
          "Banking",
          "Banking",
          "Banking",
          "Banking",
          "Banking",
          "Banking",
          "Banking",
          "Banking",
          "Banking",
          "Banking",
          "Banking",
          "Banking",
          "Banking",
          "Banking",
          "Banking",
          "Banking",
          "Banking",
          "Banking",
          "Banking",
          "Banking",
          "Banking",
          "Banking",
          "Banking",
          "Banking",
          "Banking",
          "Banking",
          "Banking",
          "Banking",
          "Banking",
          "Banking",
          "Banking",
          "Banking",
          "Banking",
          "Banking",
          "Banking",
          "Banking",
          "Banking",
          "Banking",
          "Banking",
          "Banking",
          "Banking",
          "Banking",
          "Banking",
          "Banking",
          "Banking",
          "Banking",
          "Banking",
          "Banking",
          "Banking",
          "Banking",
          "Banking",
          "Banking",
          "Banking",
          "Banking",
          "Banking",
          "Banking",
          "Banking",
          "Banking",
          "Banking",
          "Banking",
          "Banking",
          "Banking",
          "Banking",
          "Banking",
          "Banking",
          "Banking",
          "Banking",
          "Banking",
          "Banking",
          "Banking",
          "Banking",
          "Banking",
          "Banking",
          "Banking",
          "Banking",
          "Banking",
          "Banking",
          "Banking",
          "Banking",
          "Banking",
          "Banking",
          "Banking",
          "Banking",
          "Banking",
          "Banking",
          "Banking",
          "Banking",
          "Banking",
          "Banking",
          "Banking",
          "Banking",
          "Banking",
          "Banking",
          "Banking",
          "Banking",
          "Banking",
          "Banking",
          "Banking",
          "Banking",
          "Banking",
          "Banking",
          "Banking",
          "Banking",
          "Banking",
          "Banking",
          "Banking",
          "Banking",
          "Banking",
          "Banking",
          "Banking",
          "Banking",
          "Banking",
          "Banking",
          "Banking",
          "Banking",
          "Banking",
          "Banking",
          "Banking",
          "Banking",
          "Banking",
          "Banking",
          "Banking",
          "Banking",
          "Banking",
          "Banking",
          "Banking",
          "Banking",
          "Banking",
          "Banking",
          "Banking",
          "Banking",
          "Banking",
          "Banking",
          "Banking",
          "Banking",
          "Banking",
          "Banking",
          "Banking",
          "Banking",
          "Banking",
          "Banking",
          "Banking",
          "Banking",
          "Banking",
          "Banking",
          "Banking",
          "Banking",
          "Banking",
          "Banking",
          "Banking",
          "Banking",
          "Banking",
          "Banking",
          "Banking",
          "Banking",
          "Banking",
          "Banking",
          "Banking",
          "Banking",
          "Banking",
          "Banking",
          "Banking",
          "Banking",
          "Banking",
          "Banking",
          "Banking",
          "Banking",
          "Banking",
          "Banking",
          "Banking",
          "Banking",
          "Banking",
          "Banking",
          "Banking",
          "Banking",
          "Banking",
          "Banking",
          "Banking",
          "Banking",
          "Banking",
          "Banking",
          "Banking",
          "Banking",
          "Banking",
          "Banking",
          "Banking",
          "Banking",
          "Banking",
          "Banking",
          "Banking",
          "Banking",
          "Banking",
          "Banking",
          "Banking",
          "Banking",
          "Banking",
          "Banking",
          "Banking",
          "Banking",
          "Banking",
          "Banking",
          "Banking",
          "Banking",
          "Banking",
          "Banking",
          "Banking",
          "Banking",
          "Banking",
          "Banking",
          "Banking",
          "Banking",
          "Banking",
          "Banking",
          "Banking",
          "Banking",
          "Banking",
          "Banking",
          "Banking",
          "Banking",
          "Banking",
          "Banking",
          "Banking",
          "Banking",
          "Banking",
          "Banking",
          "Banking",
          "Banking",
          "Banking",
          "Banking",
          "Banking",
          "Banking",
          "Banking",
          "Banking",
          "Banking"
         ],
         "yaxis": "y"
        },
        {
         "alignmentgroup": "True",
         "hovertemplate": "Industry=%{y}<extra></extra>",
         "legendgroup": "Oil & Gas Operations",
         "marker": {
          "color": "#00cc96",
          "pattern": {
           "shape": ""
          }
         },
         "name": "Oil & Gas Operations",
         "offsetgroup": "Oil & Gas Operations",
         "orientation": "v",
         "showlegend": true,
         "textposition": "auto",
         "type": "bar",
         "x": [
          "Oil & Gas Operations",
          "Oil & Gas Operations",
          "Oil & Gas Operations",
          "Oil & Gas Operations",
          "Oil & Gas Operations",
          "Oil & Gas Operations",
          "Oil & Gas Operations",
          "Oil & Gas Operations",
          "Oil & Gas Operations",
          "Oil & Gas Operations",
          "Oil & Gas Operations",
          "Oil & Gas Operations",
          "Oil & Gas Operations",
          "Oil & Gas Operations",
          "Oil & Gas Operations",
          "Oil & Gas Operations",
          "Oil & Gas Operations",
          "Oil & Gas Operations",
          "Oil & Gas Operations",
          "Oil & Gas Operations",
          "Oil & Gas Operations",
          "Oil & Gas Operations",
          "Oil & Gas Operations",
          "Oil & Gas Operations",
          "Oil & Gas Operations",
          "Oil & Gas Operations",
          "Oil & Gas Operations",
          "Oil & Gas Operations",
          "Oil & Gas Operations",
          "Oil & Gas Operations",
          "Oil & Gas Operations",
          "Oil & Gas Operations",
          "Oil & Gas Operations",
          "Oil & Gas Operations",
          "Oil & Gas Operations",
          "Oil & Gas Operations",
          "Oil & Gas Operations",
          "Oil & Gas Operations",
          "Oil & Gas Operations",
          "Oil & Gas Operations",
          "Oil & Gas Operations",
          "Oil & Gas Operations",
          "Oil & Gas Operations",
          "Oil & Gas Operations",
          "Oil & Gas Operations",
          "Oil & Gas Operations",
          "Oil & Gas Operations",
          "Oil & Gas Operations",
          "Oil & Gas Operations",
          "Oil & Gas Operations",
          "Oil & Gas Operations",
          "Oil & Gas Operations",
          "Oil & Gas Operations",
          "Oil & Gas Operations",
          "Oil & Gas Operations",
          "Oil & Gas Operations",
          "Oil & Gas Operations",
          "Oil & Gas Operations",
          "Oil & Gas Operations",
          "Oil & Gas Operations",
          "Oil & Gas Operations",
          "Oil & Gas Operations",
          "Oil & Gas Operations",
          "Oil & Gas Operations",
          "Oil & Gas Operations",
          "Oil & Gas Operations",
          "Oil & Gas Operations",
          "Oil & Gas Operations",
          "Oil & Gas Operations",
          "Oil & Gas Operations",
          "Oil & Gas Operations",
          "Oil & Gas Operations",
          "Oil & Gas Operations",
          "Oil & Gas Operations",
          "Oil & Gas Operations",
          "Oil & Gas Operations",
          "Oil & Gas Operations",
          "Oil & Gas Operations",
          "Oil & Gas Operations",
          "Oil & Gas Operations",
          "Oil & Gas Operations",
          "Oil & Gas Operations",
          "Oil & Gas Operations",
          "Oil & Gas Operations",
          "Oil & Gas Operations",
          "Oil & Gas Operations",
          "Oil & Gas Operations",
          "Oil & Gas Operations",
          "Oil & Gas Operations",
          "Oil & Gas Operations",
          "Oil & Gas Operations",
          "Oil & Gas Operations",
          "Oil & Gas Operations",
          "Oil & Gas Operations",
          "Oil & Gas Operations",
          "Oil & Gas Operations",
          "Oil & Gas Operations",
          "Oil & Gas Operations",
          "Oil & Gas Operations",
          "Oil & Gas Operations",
          "Oil & Gas Operations",
          "Oil & Gas Operations",
          "Oil & Gas Operations",
          "Oil & Gas Operations",
          "Oil & Gas Operations",
          "Oil & Gas Operations"
         ],
         "xaxis": "x",
         "y": [
          "Oil & Gas Operations",
          "Oil & Gas Operations",
          "Oil & Gas Operations",
          "Oil & Gas Operations",
          "Oil & Gas Operations",
          "Oil & Gas Operations",
          "Oil & Gas Operations",
          "Oil & Gas Operations",
          "Oil & Gas Operations",
          "Oil & Gas Operations",
          "Oil & Gas Operations",
          "Oil & Gas Operations",
          "Oil & Gas Operations",
          "Oil & Gas Operations",
          "Oil & Gas Operations",
          "Oil & Gas Operations",
          "Oil & Gas Operations",
          "Oil & Gas Operations",
          "Oil & Gas Operations",
          "Oil & Gas Operations",
          "Oil & Gas Operations",
          "Oil & Gas Operations",
          "Oil & Gas Operations",
          "Oil & Gas Operations",
          "Oil & Gas Operations",
          "Oil & Gas Operations",
          "Oil & Gas Operations",
          "Oil & Gas Operations",
          "Oil & Gas Operations",
          "Oil & Gas Operations",
          "Oil & Gas Operations",
          "Oil & Gas Operations",
          "Oil & Gas Operations",
          "Oil & Gas Operations",
          "Oil & Gas Operations",
          "Oil & Gas Operations",
          "Oil & Gas Operations",
          "Oil & Gas Operations",
          "Oil & Gas Operations",
          "Oil & Gas Operations",
          "Oil & Gas Operations",
          "Oil & Gas Operations",
          "Oil & Gas Operations",
          "Oil & Gas Operations",
          "Oil & Gas Operations",
          "Oil & Gas Operations",
          "Oil & Gas Operations",
          "Oil & Gas Operations",
          "Oil & Gas Operations",
          "Oil & Gas Operations",
          "Oil & Gas Operations",
          "Oil & Gas Operations",
          "Oil & Gas Operations",
          "Oil & Gas Operations",
          "Oil & Gas Operations",
          "Oil & Gas Operations",
          "Oil & Gas Operations",
          "Oil & Gas Operations",
          "Oil & Gas Operations",
          "Oil & Gas Operations",
          "Oil & Gas Operations",
          "Oil & Gas Operations",
          "Oil & Gas Operations",
          "Oil & Gas Operations",
          "Oil & Gas Operations",
          "Oil & Gas Operations",
          "Oil & Gas Operations",
          "Oil & Gas Operations",
          "Oil & Gas Operations",
          "Oil & Gas Operations",
          "Oil & Gas Operations",
          "Oil & Gas Operations",
          "Oil & Gas Operations",
          "Oil & Gas Operations",
          "Oil & Gas Operations",
          "Oil & Gas Operations",
          "Oil & Gas Operations",
          "Oil & Gas Operations",
          "Oil & Gas Operations",
          "Oil & Gas Operations",
          "Oil & Gas Operations",
          "Oil & Gas Operations",
          "Oil & Gas Operations",
          "Oil & Gas Operations",
          "Oil & Gas Operations",
          "Oil & Gas Operations",
          "Oil & Gas Operations",
          "Oil & Gas Operations",
          "Oil & Gas Operations",
          "Oil & Gas Operations",
          "Oil & Gas Operations",
          "Oil & Gas Operations",
          "Oil & Gas Operations",
          "Oil & Gas Operations",
          "Oil & Gas Operations",
          "Oil & Gas Operations",
          "Oil & Gas Operations",
          "Oil & Gas Operations",
          "Oil & Gas Operations",
          "Oil & Gas Operations",
          "Oil & Gas Operations",
          "Oil & Gas Operations",
          "Oil & Gas Operations",
          "Oil & Gas Operations",
          "Oil & Gas Operations",
          "Oil & Gas Operations"
         ],
         "yaxis": "y"
        },
        {
         "alignmentgroup": "True",
         "hovertemplate": "Industry=%{y}<extra></extra>",
         "legendgroup": "Retailing",
         "marker": {
          "color": "#ab63fa",
          "pattern": {
           "shape": ""
          }
         },
         "name": "Retailing",
         "offsetgroup": "Retailing",
         "orientation": "v",
         "showlegend": true,
         "textposition": "auto",
         "type": "bar",
         "x": [
          "Retailing",
          "Retailing",
          "Retailing",
          "Retailing",
          "Retailing",
          "Retailing",
          "Retailing",
          "Retailing",
          "Retailing",
          "Retailing",
          "Retailing",
          "Retailing",
          "Retailing",
          "Retailing",
          "Retailing",
          "Retailing",
          "Retailing",
          "Retailing",
          "Retailing",
          "Retailing",
          "Retailing",
          "Retailing",
          "Retailing",
          "Retailing",
          "Retailing",
          "Retailing",
          "Retailing",
          "Retailing",
          "Retailing",
          "Retailing",
          "Retailing",
          "Retailing",
          "Retailing",
          "Retailing",
          "Retailing",
          "Retailing",
          "Retailing",
          "Retailing",
          "Retailing",
          "Retailing",
          "Retailing",
          "Retailing",
          "Retailing",
          "Retailing",
          "Retailing",
          "Retailing",
          "Retailing",
          "Retailing",
          "Retailing",
          "Retailing",
          "Retailing",
          "Retailing",
          "Retailing",
          "Retailing",
          "Retailing",
          "Retailing",
          "Retailing",
          "Retailing",
          "Retailing",
          "Retailing",
          "Retailing",
          "Retailing",
          "Retailing",
          "Retailing",
          "Retailing",
          "Retailing",
          "Retailing",
          "Retailing",
          "Retailing"
         ],
         "xaxis": "x",
         "y": [
          "Retailing",
          "Retailing",
          "Retailing",
          "Retailing",
          "Retailing",
          "Retailing",
          "Retailing",
          "Retailing",
          "Retailing",
          "Retailing",
          "Retailing",
          "Retailing",
          "Retailing",
          "Retailing",
          "Retailing",
          "Retailing",
          "Retailing",
          "Retailing",
          "Retailing",
          "Retailing",
          "Retailing",
          "Retailing",
          "Retailing",
          "Retailing",
          "Retailing",
          "Retailing",
          "Retailing",
          "Retailing",
          "Retailing",
          "Retailing",
          "Retailing",
          "Retailing",
          "Retailing",
          "Retailing",
          "Retailing",
          "Retailing",
          "Retailing",
          "Retailing",
          "Retailing",
          "Retailing",
          "Retailing",
          "Retailing",
          "Retailing",
          "Retailing",
          "Retailing",
          "Retailing",
          "Retailing",
          "Retailing",
          "Retailing",
          "Retailing",
          "Retailing",
          "Retailing",
          "Retailing",
          "Retailing",
          "Retailing",
          "Retailing",
          "Retailing",
          "Retailing",
          "Retailing",
          "Retailing",
          "Retailing",
          "Retailing",
          "Retailing",
          "Retailing",
          "Retailing",
          "Retailing",
          "Retailing",
          "Retailing",
          "Retailing"
         ],
         "yaxis": "y"
        },
        {
         "alignmentgroup": "True",
         "hovertemplate": "Industry=%{y}<extra></extra>",
         "legendgroup": "Technology Hardware & Equipment",
         "marker": {
          "color": "#FFA15A",
          "pattern": {
           "shape": ""
          }
         },
         "name": "Technology Hardware & Equipment",
         "offsetgroup": "Technology Hardware & Equipment",
         "orientation": "v",
         "showlegend": true,
         "textposition": "auto",
         "type": "bar",
         "x": [
          "Technology Hardware & Equipment",
          "Technology Hardware & Equipment",
          "Technology Hardware & Equipment",
          "Technology Hardware & Equipment",
          "Technology Hardware & Equipment",
          "Technology Hardware & Equipment",
          "Technology Hardware & Equipment",
          "Technology Hardware & Equipment",
          "Technology Hardware & Equipment",
          "Technology Hardware & Equipment",
          "Technology Hardware & Equipment",
          "Technology Hardware & Equipment",
          "Technology Hardware & Equipment",
          "Technology Hardware & Equipment",
          "Technology Hardware & Equipment",
          "Technology Hardware & Equipment",
          "Technology Hardware & Equipment",
          "Technology Hardware & Equipment",
          "Technology Hardware & Equipment",
          "Technology Hardware & Equipment",
          "Technology Hardware & Equipment",
          "Technology Hardware & Equipment",
          "Technology Hardware & Equipment",
          "Technology Hardware & Equipment",
          "Technology Hardware & Equipment",
          "Technology Hardware & Equipment",
          "Technology Hardware & Equipment",
          "Technology Hardware & Equipment",
          "Technology Hardware & Equipment",
          "Technology Hardware & Equipment",
          "Technology Hardware & Equipment",
          "Technology Hardware & Equipment",
          "Technology Hardware & Equipment",
          "Technology Hardware & Equipment",
          "Technology Hardware & Equipment",
          "Technology Hardware & Equipment",
          "Technology Hardware & Equipment",
          "Technology Hardware & Equipment",
          "Technology Hardware & Equipment",
          "Technology Hardware & Equipment",
          "Technology Hardware & Equipment",
          "Technology Hardware & Equipment",
          "Technology Hardware & Equipment",
          "Technology Hardware & Equipment",
          "Technology Hardware & Equipment",
          "Technology Hardware & Equipment",
          "Technology Hardware & Equipment",
          "Technology Hardware & Equipment",
          "Technology Hardware & Equipment",
          "Technology Hardware & Equipment",
          "Technology Hardware & Equipment",
          "Technology Hardware & Equipment",
          "Technology Hardware & Equipment",
          "Technology Hardware & Equipment",
          "Technology Hardware & Equipment",
          "Technology Hardware & Equipment"
         ],
         "xaxis": "x",
         "y": [
          "Technology Hardware & Equipment",
          "Technology Hardware & Equipment",
          "Technology Hardware & Equipment",
          "Technology Hardware & Equipment",
          "Technology Hardware & Equipment",
          "Technology Hardware & Equipment",
          "Technology Hardware & Equipment",
          "Technology Hardware & Equipment",
          "Technology Hardware & Equipment",
          "Technology Hardware & Equipment",
          "Technology Hardware & Equipment",
          "Technology Hardware & Equipment",
          "Technology Hardware & Equipment",
          "Technology Hardware & Equipment",
          "Technology Hardware & Equipment",
          "Technology Hardware & Equipment",
          "Technology Hardware & Equipment",
          "Technology Hardware & Equipment",
          "Technology Hardware & Equipment",
          "Technology Hardware & Equipment",
          "Technology Hardware & Equipment",
          "Technology Hardware & Equipment",
          "Technology Hardware & Equipment",
          "Technology Hardware & Equipment",
          "Technology Hardware & Equipment",
          "Technology Hardware & Equipment",
          "Technology Hardware & Equipment",
          "Technology Hardware & Equipment",
          "Technology Hardware & Equipment",
          "Technology Hardware & Equipment",
          "Technology Hardware & Equipment",
          "Technology Hardware & Equipment",
          "Technology Hardware & Equipment",
          "Technology Hardware & Equipment",
          "Technology Hardware & Equipment",
          "Technology Hardware & Equipment",
          "Technology Hardware & Equipment",
          "Technology Hardware & Equipment",
          "Technology Hardware & Equipment",
          "Technology Hardware & Equipment",
          "Technology Hardware & Equipment",
          "Technology Hardware & Equipment",
          "Technology Hardware & Equipment",
          "Technology Hardware & Equipment",
          "Technology Hardware & Equipment",
          "Technology Hardware & Equipment",
          "Technology Hardware & Equipment",
          "Technology Hardware & Equipment",
          "Technology Hardware & Equipment",
          "Technology Hardware & Equipment",
          "Technology Hardware & Equipment",
          "Technology Hardware & Equipment",
          "Technology Hardware & Equipment",
          "Technology Hardware & Equipment",
          "Technology Hardware & Equipment",
          "Technology Hardware & Equipment"
         ],
         "yaxis": "y"
        },
        {
         "alignmentgroup": "True",
         "hovertemplate": "Industry=%{y}<extra></extra>",
         "legendgroup": "Consumer Durables",
         "marker": {
          "color": "#19d3f3",
          "pattern": {
           "shape": ""
          }
         },
         "name": "Consumer Durables",
         "offsetgroup": "Consumer Durables",
         "orientation": "v",
         "showlegend": true,
         "textposition": "auto",
         "type": "bar",
         "x": [
          "Consumer Durables",
          "Consumer Durables",
          "Consumer Durables",
          "Consumer Durables",
          "Consumer Durables",
          "Consumer Durables",
          "Consumer Durables",
          "Consumer Durables",
          "Consumer Durables",
          "Consumer Durables",
          "Consumer Durables",
          "Consumer Durables",
          "Consumer Durables",
          "Consumer Durables",
          "Consumer Durables",
          "Consumer Durables",
          "Consumer Durables",
          "Consumer Durables",
          "Consumer Durables",
          "Consumer Durables",
          "Consumer Durables",
          "Consumer Durables",
          "Consumer Durables",
          "Consumer Durables",
          "Consumer Durables",
          "Consumer Durables",
          "Consumer Durables",
          "Consumer Durables",
          "Consumer Durables",
          "Consumer Durables",
          "Consumer Durables",
          "Consumer Durables",
          "Consumer Durables",
          "Consumer Durables",
          "Consumer Durables",
          "Consumer Durables",
          "Consumer Durables",
          "Consumer Durables",
          "Consumer Durables",
          "Consumer Durables",
          "Consumer Durables",
          "Consumer Durables",
          "Consumer Durables",
          "Consumer Durables",
          "Consumer Durables",
          "Consumer Durables",
          "Consumer Durables",
          "Consumer Durables",
          "Consumer Durables",
          "Consumer Durables",
          "Consumer Durables",
          "Consumer Durables",
          "Consumer Durables",
          "Consumer Durables",
          "Consumer Durables",
          "Consumer Durables",
          "Consumer Durables",
          "Consumer Durables",
          "Consumer Durables",
          "Consumer Durables",
          "Consumer Durables",
          "Consumer Durables",
          "Consumer Durables",
          "Consumer Durables",
          "Consumer Durables",
          "Consumer Durables",
          "Consumer Durables",
          "Consumer Durables",
          "Consumer Durables",
          "Consumer Durables",
          "Consumer Durables",
          "Consumer Durables",
          "Consumer Durables",
          "Consumer Durables",
          "Consumer Durables",
          "Consumer Durables",
          "Consumer Durables",
          "Consumer Durables",
          "Consumer Durables",
          "Consumer Durables",
          "Consumer Durables",
          "Consumer Durables",
          "Consumer Durables",
          "Consumer Durables",
          "Consumer Durables",
          "Consumer Durables",
          "Consumer Durables",
          "Consumer Durables",
          "Consumer Durables"
         ],
         "xaxis": "x",
         "y": [
          "Consumer Durables",
          "Consumer Durables",
          "Consumer Durables",
          "Consumer Durables",
          "Consumer Durables",
          "Consumer Durables",
          "Consumer Durables",
          "Consumer Durables",
          "Consumer Durables",
          "Consumer Durables",
          "Consumer Durables",
          "Consumer Durables",
          "Consumer Durables",
          "Consumer Durables",
          "Consumer Durables",
          "Consumer Durables",
          "Consumer Durables",
          "Consumer Durables",
          "Consumer Durables",
          "Consumer Durables",
          "Consumer Durables",
          "Consumer Durables",
          "Consumer Durables",
          "Consumer Durables",
          "Consumer Durables",
          "Consumer Durables",
          "Consumer Durables",
          "Consumer Durables",
          "Consumer Durables",
          "Consumer Durables",
          "Consumer Durables",
          "Consumer Durables",
          "Consumer Durables",
          "Consumer Durables",
          "Consumer Durables",
          "Consumer Durables",
          "Consumer Durables",
          "Consumer Durables",
          "Consumer Durables",
          "Consumer Durables",
          "Consumer Durables",
          "Consumer Durables",
          "Consumer Durables",
          "Consumer Durables",
          "Consumer Durables",
          "Consumer Durables",
          "Consumer Durables",
          "Consumer Durables",
          "Consumer Durables",
          "Consumer Durables",
          "Consumer Durables",
          "Consumer Durables",
          "Consumer Durables",
          "Consumer Durables",
          "Consumer Durables",
          "Consumer Durables",
          "Consumer Durables",
          "Consumer Durables",
          "Consumer Durables",
          "Consumer Durables",
          "Consumer Durables",
          "Consumer Durables",
          "Consumer Durables",
          "Consumer Durables",
          "Consumer Durables",
          "Consumer Durables",
          "Consumer Durables",
          "Consumer Durables",
          "Consumer Durables",
          "Consumer Durables",
          "Consumer Durables",
          "Consumer Durables",
          "Consumer Durables",
          "Consumer Durables",
          "Consumer Durables",
          "Consumer Durables",
          "Consumer Durables",
          "Consumer Durables",
          "Consumer Durables",
          "Consumer Durables",
          "Consumer Durables",
          "Consumer Durables",
          "Consumer Durables",
          "Consumer Durables",
          "Consumer Durables",
          "Consumer Durables",
          "Consumer Durables",
          "Consumer Durables",
          "Consumer Durables"
         ],
         "yaxis": "y"
        },
        {
         "alignmentgroup": "True",
         "hovertemplate": "Industry=%{y}<extra></extra>",
         "legendgroup": "IT Software & Services",
         "marker": {
          "color": "#FF6692",
          "pattern": {
           "shape": ""
          }
         },
         "name": "IT Software & Services",
         "offsetgroup": "IT Software & Services",
         "orientation": "v",
         "showlegend": true,
         "textposition": "auto",
         "type": "bar",
         "x": [
          "IT Software & Services",
          "IT Software & Services",
          "IT Software & Services",
          "IT Software & Services",
          "IT Software & Services",
          "IT Software & Services",
          "IT Software & Services",
          "IT Software & Services",
          "IT Software & Services",
          "IT Software & Services",
          "IT Software & Services",
          "IT Software & Services",
          "IT Software & Services",
          "IT Software & Services",
          "IT Software & Services",
          "IT Software & Services",
          "IT Software & Services",
          "IT Software & Services",
          "IT Software & Services",
          "IT Software & Services",
          "IT Software & Services",
          "IT Software & Services",
          "IT Software & Services",
          "IT Software & Services",
          "IT Software & Services",
          "IT Software & Services",
          "IT Software & Services",
          "IT Software & Services",
          "IT Software & Services",
          "IT Software & Services",
          "IT Software & Services",
          "IT Software & Services",
          "IT Software & Services",
          "IT Software & Services",
          "IT Software & Services",
          "IT Software & Services",
          "IT Software & Services",
          "IT Software & Services",
          "IT Software & Services",
          "IT Software & Services",
          "IT Software & Services",
          "IT Software & Services",
          "IT Software & Services",
          "IT Software & Services",
          "IT Software & Services",
          "IT Software & Services",
          "IT Software & Services",
          "IT Software & Services",
          "IT Software & Services",
          "IT Software & Services",
          "IT Software & Services",
          "IT Software & Services",
          "IT Software & Services",
          "IT Software & Services",
          "IT Software & Services",
          "IT Software & Services",
          "IT Software & Services",
          "IT Software & Services",
          "IT Software & Services",
          "IT Software & Services",
          "IT Software & Services",
          "IT Software & Services",
          "IT Software & Services",
          "IT Software & Services",
          "IT Software & Services",
          "IT Software & Services",
          "IT Software & Services",
          "IT Software & Services",
          "IT Software & Services",
          "IT Software & Services",
          "IT Software & Services",
          "IT Software & Services",
          "IT Software & Services"
         ],
         "xaxis": "x",
         "y": [
          "IT Software & Services",
          "IT Software & Services",
          "IT Software & Services",
          "IT Software & Services",
          "IT Software & Services",
          "IT Software & Services",
          "IT Software & Services",
          "IT Software & Services",
          "IT Software & Services",
          "IT Software & Services",
          "IT Software & Services",
          "IT Software & Services",
          "IT Software & Services",
          "IT Software & Services",
          "IT Software & Services",
          "IT Software & Services",
          "IT Software & Services",
          "IT Software & Services",
          "IT Software & Services",
          "IT Software & Services",
          "IT Software & Services",
          "IT Software & Services",
          "IT Software & Services",
          "IT Software & Services",
          "IT Software & Services",
          "IT Software & Services",
          "IT Software & Services",
          "IT Software & Services",
          "IT Software & Services",
          "IT Software & Services",
          "IT Software & Services",
          "IT Software & Services",
          "IT Software & Services",
          "IT Software & Services",
          "IT Software & Services",
          "IT Software & Services",
          "IT Software & Services",
          "IT Software & Services",
          "IT Software & Services",
          "IT Software & Services",
          "IT Software & Services",
          "IT Software & Services",
          "IT Software & Services",
          "IT Software & Services",
          "IT Software & Services",
          "IT Software & Services",
          "IT Software & Services",
          "IT Software & Services",
          "IT Software & Services",
          "IT Software & Services",
          "IT Software & Services",
          "IT Software & Services",
          "IT Software & Services",
          "IT Software & Services",
          "IT Software & Services",
          "IT Software & Services",
          "IT Software & Services",
          "IT Software & Services",
          "IT Software & Services",
          "IT Software & Services",
          "IT Software & Services",
          "IT Software & Services",
          "IT Software & Services",
          "IT Software & Services",
          "IT Software & Services",
          "IT Software & Services",
          "IT Software & Services",
          "IT Software & Services",
          "IT Software & Services",
          "IT Software & Services",
          "IT Software & Services",
          "IT Software & Services",
          "IT Software & Services"
         ],
         "yaxis": "y"
        },
        {
         "alignmentgroup": "True",
         "hovertemplate": "Industry=%{y}<extra></extra>",
         "legendgroup": "Insurance",
         "marker": {
          "color": "#B6E880",
          "pattern": {
           "shape": ""
          }
         },
         "name": "Insurance",
         "offsetgroup": "Insurance",
         "orientation": "v",
         "showlegend": true,
         "textposition": "auto",
         "type": "bar",
         "x": [
          "Insurance",
          "Insurance",
          "Insurance",
          "Insurance",
          "Insurance",
          "Insurance",
          "Insurance",
          "Insurance",
          "Insurance",
          "Insurance",
          "Insurance",
          "Insurance",
          "Insurance",
          "Insurance",
          "Insurance",
          "Insurance",
          "Insurance",
          "Insurance",
          "Insurance",
          "Insurance",
          "Insurance",
          "Insurance",
          "Insurance",
          "Insurance",
          "Insurance",
          "Insurance",
          "Insurance",
          "Insurance",
          "Insurance",
          "Insurance",
          "Insurance",
          "Insurance",
          "Insurance",
          "Insurance",
          "Insurance",
          "Insurance",
          "Insurance",
          "Insurance",
          "Insurance",
          "Insurance",
          "Insurance",
          "Insurance",
          "Insurance",
          "Insurance",
          "Insurance",
          "Insurance",
          "Insurance",
          "Insurance",
          "Insurance",
          "Insurance",
          "Insurance",
          "Insurance",
          "Insurance",
          "Insurance",
          "Insurance",
          "Insurance",
          "Insurance",
          "Insurance",
          "Insurance",
          "Insurance",
          "Insurance",
          "Insurance",
          "Insurance",
          "Insurance",
          "Insurance",
          "Insurance",
          "Insurance",
          "Insurance",
          "Insurance",
          "Insurance",
          "Insurance",
          "Insurance",
          "Insurance",
          "Insurance",
          "Insurance",
          "Insurance",
          "Insurance",
          "Insurance",
          "Insurance",
          "Insurance",
          "Insurance",
          "Insurance",
          "Insurance",
          "Insurance",
          "Insurance",
          "Insurance",
          "Insurance",
          "Insurance",
          "Insurance",
          "Insurance",
          "Insurance",
          "Insurance",
          "Insurance",
          "Insurance",
          "Insurance",
          "Insurance",
          "Insurance",
          "Insurance",
          "Insurance",
          "Insurance",
          "Insurance",
          "Insurance",
          "Insurance",
          "Insurance",
          "Insurance"
         ],
         "xaxis": "x",
         "y": [
          "Insurance",
          "Insurance",
          "Insurance",
          "Insurance",
          "Insurance",
          "Insurance",
          "Insurance",
          "Insurance",
          "Insurance",
          "Insurance",
          "Insurance",
          "Insurance",
          "Insurance",
          "Insurance",
          "Insurance",
          "Insurance",
          "Insurance",
          "Insurance",
          "Insurance",
          "Insurance",
          "Insurance",
          "Insurance",
          "Insurance",
          "Insurance",
          "Insurance",
          "Insurance",
          "Insurance",
          "Insurance",
          "Insurance",
          "Insurance",
          "Insurance",
          "Insurance",
          "Insurance",
          "Insurance",
          "Insurance",
          "Insurance",
          "Insurance",
          "Insurance",
          "Insurance",
          "Insurance",
          "Insurance",
          "Insurance",
          "Insurance",
          "Insurance",
          "Insurance",
          "Insurance",
          "Insurance",
          "Insurance",
          "Insurance",
          "Insurance",
          "Insurance",
          "Insurance",
          "Insurance",
          "Insurance",
          "Insurance",
          "Insurance",
          "Insurance",
          "Insurance",
          "Insurance",
          "Insurance",
          "Insurance",
          "Insurance",
          "Insurance",
          "Insurance",
          "Insurance",
          "Insurance",
          "Insurance",
          "Insurance",
          "Insurance",
          "Insurance",
          "Insurance",
          "Insurance",
          "Insurance",
          "Insurance",
          "Insurance",
          "Insurance",
          "Insurance",
          "Insurance",
          "Insurance",
          "Insurance",
          "Insurance",
          "Insurance",
          "Insurance",
          "Insurance",
          "Insurance",
          "Insurance",
          "Insurance",
          "Insurance",
          "Insurance",
          "Insurance",
          "Insurance",
          "Insurance",
          "Insurance",
          "Insurance",
          "Insurance",
          "Insurance",
          "Insurance",
          "Insurance",
          "Insurance",
          "Insurance",
          "Insurance",
          "Insurance",
          "Insurance",
          "Insurance",
          "Insurance"
         ],
         "yaxis": "y"
        },
        {
         "alignmentgroup": "True",
         "hovertemplate": "Industry=%{y}<extra></extra>",
         "legendgroup": "Telecommunications Services",
         "marker": {
          "color": "#FF97FF",
          "pattern": {
           "shape": ""
          }
         },
         "name": "Telecommunications Services",
         "offsetgroup": "Telecommunications Services",
         "orientation": "v",
         "showlegend": true,
         "textposition": "auto",
         "type": "bar",
         "x": [
          "Telecommunications Services",
          "Telecommunications Services",
          "Telecommunications Services",
          "Telecommunications Services",
          "Telecommunications Services",
          "Telecommunications Services",
          "Telecommunications Services",
          "Telecommunications Services",
          "Telecommunications Services",
          "Telecommunications Services",
          "Telecommunications Services",
          "Telecommunications Services",
          "Telecommunications Services",
          "Telecommunications Services",
          "Telecommunications Services",
          "Telecommunications Services",
          "Telecommunications Services",
          "Telecommunications Services",
          "Telecommunications Services",
          "Telecommunications Services",
          "Telecommunications Services",
          "Telecommunications Services",
          "Telecommunications Services",
          "Telecommunications Services",
          "Telecommunications Services",
          "Telecommunications Services",
          "Telecommunications Services",
          "Telecommunications Services",
          "Telecommunications Services",
          "Telecommunications Services",
          "Telecommunications Services",
          "Telecommunications Services",
          "Telecommunications Services",
          "Telecommunications Services",
          "Telecommunications Services",
          "Telecommunications Services",
          "Telecommunications Services",
          "Telecommunications Services",
          "Telecommunications Services",
          "Telecommunications Services",
          "Telecommunications Services",
          "Telecommunications Services",
          "Telecommunications Services"
         ],
         "xaxis": "x",
         "y": [
          "Telecommunications Services",
          "Telecommunications Services",
          "Telecommunications Services",
          "Telecommunications Services",
          "Telecommunications Services",
          "Telecommunications Services",
          "Telecommunications Services",
          "Telecommunications Services",
          "Telecommunications Services",
          "Telecommunications Services",
          "Telecommunications Services",
          "Telecommunications Services",
          "Telecommunications Services",
          "Telecommunications Services",
          "Telecommunications Services",
          "Telecommunications Services",
          "Telecommunications Services",
          "Telecommunications Services",
          "Telecommunications Services",
          "Telecommunications Services",
          "Telecommunications Services",
          "Telecommunications Services",
          "Telecommunications Services",
          "Telecommunications Services",
          "Telecommunications Services",
          "Telecommunications Services",
          "Telecommunications Services",
          "Telecommunications Services",
          "Telecommunications Services",
          "Telecommunications Services",
          "Telecommunications Services",
          "Telecommunications Services",
          "Telecommunications Services",
          "Telecommunications Services",
          "Telecommunications Services",
          "Telecommunications Services",
          "Telecommunications Services",
          "Telecommunications Services",
          "Telecommunications Services",
          "Telecommunications Services",
          "Telecommunications Services",
          "Telecommunications Services",
          "Telecommunications Services"
         ],
         "yaxis": "y"
        },
        {
         "alignmentgroup": "True",
         "hovertemplate": "Industry=%{y}<extra></extra>",
         "legendgroup": "Media",
         "marker": {
          "color": "#FECB52",
          "pattern": {
           "shape": ""
          }
         },
         "name": "Media",
         "offsetgroup": "Media",
         "orientation": "v",
         "showlegend": true,
         "textposition": "auto",
         "type": "bar",
         "x": [
          "Media",
          "Media",
          "Media",
          "Media",
          "Media",
          "Media",
          "Media",
          "Media",
          "Media",
          "Media",
          "Media",
          "Media",
          "Media",
          "Media",
          "Media",
          "Media",
          "Media",
          "Media",
          "Media",
          "Media",
          "Media",
          "Media",
          "Media",
          "Media",
          "Media"
         ],
         "xaxis": "x",
         "y": [
          "Media",
          "Media",
          "Media",
          "Media",
          "Media",
          "Media",
          "Media",
          "Media",
          "Media",
          "Media",
          "Media",
          "Media",
          "Media",
          "Media",
          "Media",
          "Media",
          "Media",
          "Media",
          "Media",
          "Media",
          "Media",
          "Media",
          "Media",
          "Media",
          "Media"
         ],
         "yaxis": "y"
        },
        {
         "alignmentgroup": "True",
         "hovertemplate": "Industry=%{y}<extra></extra>",
         "legendgroup": "Drugs & Biotechnology",
         "marker": {
          "color": "#636efa",
          "pattern": {
           "shape": ""
          }
         },
         "name": "Drugs & Biotechnology",
         "offsetgroup": "Drugs & Biotechnology",
         "orientation": "v",
         "showlegend": true,
         "textposition": "auto",
         "type": "bar",
         "x": [
          "Drugs & Biotechnology",
          "Drugs & Biotechnology",
          "Drugs & Biotechnology",
          "Drugs & Biotechnology",
          "Drugs & Biotechnology",
          "Drugs & Biotechnology",
          "Drugs & Biotechnology",
          "Drugs & Biotechnology",
          "Drugs & Biotechnology",
          "Drugs & Biotechnology",
          "Drugs & Biotechnology",
          "Drugs & Biotechnology",
          "Drugs & Biotechnology",
          "Drugs & Biotechnology",
          "Drugs & Biotechnology",
          "Drugs & Biotechnology",
          "Drugs & Biotechnology",
          "Drugs & Biotechnology",
          "Drugs & Biotechnology",
          "Drugs & Biotechnology",
          "Drugs & Biotechnology",
          "Drugs & Biotechnology",
          "Drugs & Biotechnology",
          "Drugs & Biotechnology",
          "Drugs & Biotechnology",
          "Drugs & Biotechnology",
          "Drugs & Biotechnology",
          "Drugs & Biotechnology",
          "Drugs & Biotechnology",
          "Drugs & Biotechnology",
          "Drugs & Biotechnology",
          "Drugs & Biotechnology",
          "Drugs & Biotechnology",
          "Drugs & Biotechnology",
          "Drugs & Biotechnology",
          "Drugs & Biotechnology",
          "Drugs & Biotechnology",
          "Drugs & Biotechnology",
          "Drugs & Biotechnology",
          "Drugs & Biotechnology",
          "Drugs & Biotechnology",
          "Drugs & Biotechnology",
          "Drugs & Biotechnology",
          "Drugs & Biotechnology",
          "Drugs & Biotechnology",
          "Drugs & Biotechnology",
          "Drugs & Biotechnology",
          "Drugs & Biotechnology",
          "Drugs & Biotechnology",
          "Drugs & Biotechnology",
          "Drugs & Biotechnology",
          "Drugs & Biotechnology",
          "Drugs & Biotechnology",
          "Drugs & Biotechnology",
          "Drugs & Biotechnology",
          "Drugs & Biotechnology",
          "Drugs & Biotechnology",
          "Drugs & Biotechnology",
          "Drugs & Biotechnology",
          "Drugs & Biotechnology",
          "Drugs & Biotechnology",
          "Drugs & Biotechnology",
          "Drugs & Biotechnology",
          "Drugs & Biotechnology",
          "Drugs & Biotechnology",
          "Drugs & Biotechnology",
          "Drugs & Biotechnology"
         ],
         "xaxis": "x",
         "y": [
          "Drugs & Biotechnology",
          "Drugs & Biotechnology",
          "Drugs & Biotechnology",
          "Drugs & Biotechnology",
          "Drugs & Biotechnology",
          "Drugs & Biotechnology",
          "Drugs & Biotechnology",
          "Drugs & Biotechnology",
          "Drugs & Biotechnology",
          "Drugs & Biotechnology",
          "Drugs & Biotechnology",
          "Drugs & Biotechnology",
          "Drugs & Biotechnology",
          "Drugs & Biotechnology",
          "Drugs & Biotechnology",
          "Drugs & Biotechnology",
          "Drugs & Biotechnology",
          "Drugs & Biotechnology",
          "Drugs & Biotechnology",
          "Drugs & Biotechnology",
          "Drugs & Biotechnology",
          "Drugs & Biotechnology",
          "Drugs & Biotechnology",
          "Drugs & Biotechnology",
          "Drugs & Biotechnology",
          "Drugs & Biotechnology",
          "Drugs & Biotechnology",
          "Drugs & Biotechnology",
          "Drugs & Biotechnology",
          "Drugs & Biotechnology",
          "Drugs & Biotechnology",
          "Drugs & Biotechnology",
          "Drugs & Biotechnology",
          "Drugs & Biotechnology",
          "Drugs & Biotechnology",
          "Drugs & Biotechnology",
          "Drugs & Biotechnology",
          "Drugs & Biotechnology",
          "Drugs & Biotechnology",
          "Drugs & Biotechnology",
          "Drugs & Biotechnology",
          "Drugs & Biotechnology",
          "Drugs & Biotechnology",
          "Drugs & Biotechnology",
          "Drugs & Biotechnology",
          "Drugs & Biotechnology",
          "Drugs & Biotechnology",
          "Drugs & Biotechnology",
          "Drugs & Biotechnology",
          "Drugs & Biotechnology",
          "Drugs & Biotechnology",
          "Drugs & Biotechnology",
          "Drugs & Biotechnology",
          "Drugs & Biotechnology",
          "Drugs & Biotechnology",
          "Drugs & Biotechnology",
          "Drugs & Biotechnology",
          "Drugs & Biotechnology",
          "Drugs & Biotechnology",
          "Drugs & Biotechnology",
          "Drugs & Biotechnology",
          "Drugs & Biotechnology",
          "Drugs & Biotechnology",
          "Drugs & Biotechnology",
          "Drugs & Biotechnology",
          "Drugs & Biotechnology",
          "Drugs & Biotechnology"
         ],
         "yaxis": "y"
        },
        {
         "alignmentgroup": "True",
         "hovertemplate": "Industry=%{y}<extra></extra>",
         "legendgroup": "Food, Drink & Tobacco",
         "marker": {
          "color": "#EF553B",
          "pattern": {
           "shape": ""
          }
         },
         "name": "Food, Drink & Tobacco",
         "offsetgroup": "Food, Drink & Tobacco",
         "orientation": "v",
         "showlegend": true,
         "textposition": "auto",
         "type": "bar",
         "x": [
          "Food, Drink & Tobacco",
          "Food, Drink & Tobacco",
          "Food, Drink & Tobacco",
          "Food, Drink & Tobacco",
          "Food, Drink & Tobacco",
          "Food, Drink & Tobacco",
          "Food, Drink & Tobacco",
          "Food, Drink & Tobacco",
          "Food, Drink & Tobacco",
          "Food, Drink & Tobacco",
          "Food, Drink & Tobacco",
          "Food, Drink & Tobacco",
          "Food, Drink & Tobacco",
          "Food, Drink & Tobacco",
          "Food, Drink & Tobacco",
          "Food, Drink & Tobacco",
          "Food, Drink & Tobacco",
          "Food, Drink & Tobacco",
          "Food, Drink & Tobacco",
          "Food, Drink & Tobacco",
          "Food, Drink & Tobacco",
          "Food, Drink & Tobacco",
          "Food, Drink & Tobacco",
          "Food, Drink & Tobacco",
          "Food, Drink & Tobacco",
          "Food, Drink & Tobacco",
          "Food, Drink & Tobacco",
          "Food, Drink & Tobacco",
          "Food, Drink & Tobacco",
          "Food, Drink & Tobacco",
          "Food, Drink & Tobacco",
          "Food, Drink & Tobacco",
          "Food, Drink & Tobacco",
          "Food, Drink & Tobacco",
          "Food, Drink & Tobacco",
          "Food, Drink & Tobacco",
          "Food, Drink & Tobacco",
          "Food, Drink & Tobacco",
          "Food, Drink & Tobacco",
          "Food, Drink & Tobacco",
          "Food, Drink & Tobacco",
          "Food, Drink & Tobacco",
          "Food, Drink & Tobacco",
          "Food, Drink & Tobacco",
          "Food, Drink & Tobacco",
          "Food, Drink & Tobacco",
          "Food, Drink & Tobacco",
          "Food, Drink & Tobacco",
          "Food, Drink & Tobacco",
          "Food, Drink & Tobacco",
          "Food, Drink & Tobacco",
          "Food, Drink & Tobacco",
          "Food, Drink & Tobacco",
          "Food, Drink & Tobacco",
          "Food, Drink & Tobacco",
          "Food, Drink & Tobacco",
          "Food, Drink & Tobacco",
          "Food, Drink & Tobacco",
          "Food, Drink & Tobacco",
          "Food, Drink & Tobacco",
          "Food, Drink & Tobacco",
          "Food, Drink & Tobacco",
          "Food, Drink & Tobacco",
          "Food, Drink & Tobacco",
          "Food, Drink & Tobacco",
          "Food, Drink & Tobacco",
          "Food, Drink & Tobacco",
          "Food, Drink & Tobacco",
          "Food, Drink & Tobacco",
          "Food, Drink & Tobacco",
          "Food, Drink & Tobacco",
          "Food, Drink & Tobacco",
          "Food, Drink & Tobacco"
         ],
         "xaxis": "x",
         "y": [
          "Food, Drink & Tobacco",
          "Food, Drink & Tobacco",
          "Food, Drink & Tobacco",
          "Food, Drink & Tobacco",
          "Food, Drink & Tobacco",
          "Food, Drink & Tobacco",
          "Food, Drink & Tobacco",
          "Food, Drink & Tobacco",
          "Food, Drink & Tobacco",
          "Food, Drink & Tobacco",
          "Food, Drink & Tobacco",
          "Food, Drink & Tobacco",
          "Food, Drink & Tobacco",
          "Food, Drink & Tobacco",
          "Food, Drink & Tobacco",
          "Food, Drink & Tobacco",
          "Food, Drink & Tobacco",
          "Food, Drink & Tobacco",
          "Food, Drink & Tobacco",
          "Food, Drink & Tobacco",
          "Food, Drink & Tobacco",
          "Food, Drink & Tobacco",
          "Food, Drink & Tobacco",
          "Food, Drink & Tobacco",
          "Food, Drink & Tobacco",
          "Food, Drink & Tobacco",
          "Food, Drink & Tobacco",
          "Food, Drink & Tobacco",
          "Food, Drink & Tobacco",
          "Food, Drink & Tobacco",
          "Food, Drink & Tobacco",
          "Food, Drink & Tobacco",
          "Food, Drink & Tobacco",
          "Food, Drink & Tobacco",
          "Food, Drink & Tobacco",
          "Food, Drink & Tobacco",
          "Food, Drink & Tobacco",
          "Food, Drink & Tobacco",
          "Food, Drink & Tobacco",
          "Food, Drink & Tobacco",
          "Food, Drink & Tobacco",
          "Food, Drink & Tobacco",
          "Food, Drink & Tobacco",
          "Food, Drink & Tobacco",
          "Food, Drink & Tobacco",
          "Food, Drink & Tobacco",
          "Food, Drink & Tobacco",
          "Food, Drink & Tobacco",
          "Food, Drink & Tobacco",
          "Food, Drink & Tobacco",
          "Food, Drink & Tobacco",
          "Food, Drink & Tobacco",
          "Food, Drink & Tobacco",
          "Food, Drink & Tobacco",
          "Food, Drink & Tobacco",
          "Food, Drink & Tobacco",
          "Food, Drink & Tobacco",
          "Food, Drink & Tobacco",
          "Food, Drink & Tobacco",
          "Food, Drink & Tobacco",
          "Food, Drink & Tobacco",
          "Food, Drink & Tobacco",
          "Food, Drink & Tobacco",
          "Food, Drink & Tobacco",
          "Food, Drink & Tobacco",
          "Food, Drink & Tobacco",
          "Food, Drink & Tobacco",
          "Food, Drink & Tobacco",
          "Food, Drink & Tobacco",
          "Food, Drink & Tobacco",
          "Food, Drink & Tobacco",
          "Food, Drink & Tobacco",
          "Food, Drink & Tobacco"
         ],
         "yaxis": "y"
        },
        {
         "alignmentgroup": "True",
         "hovertemplate": "Industry=%{y}<extra></extra>",
         "legendgroup": "Semiconductors",
         "marker": {
          "color": "#00cc96",
          "pattern": {
           "shape": ""
          }
         },
         "name": "Semiconductors",
         "offsetgroup": "Semiconductors",
         "orientation": "v",
         "showlegend": true,
         "textposition": "auto",
         "type": "bar",
         "x": [
          "Semiconductors",
          "Semiconductors",
          "Semiconductors",
          "Semiconductors",
          "Semiconductors",
          "Semiconductors",
          "Semiconductors",
          "Semiconductors",
          "Semiconductors",
          "Semiconductors",
          "Semiconductors",
          "Semiconductors",
          "Semiconductors",
          "Semiconductors",
          "Semiconductors",
          "Semiconductors",
          "Semiconductors",
          "Semiconductors",
          "Semiconductors",
          "Semiconductors",
          "Semiconductors",
          "Semiconductors",
          "Semiconductors",
          "Semiconductors",
          "Semiconductors",
          "Semiconductors",
          "Semiconductors",
          "Semiconductors",
          "Semiconductors",
          "Semiconductors",
          "Semiconductors",
          "Semiconductors",
          "Semiconductors",
          "Semiconductors",
          "Semiconductors"
         ],
         "xaxis": "x",
         "y": [
          "Semiconductors",
          "Semiconductors",
          "Semiconductors",
          "Semiconductors",
          "Semiconductors",
          "Semiconductors",
          "Semiconductors",
          "Semiconductors",
          "Semiconductors",
          "Semiconductors",
          "Semiconductors",
          "Semiconductors",
          "Semiconductors",
          "Semiconductors",
          "Semiconductors",
          "Semiconductors",
          "Semiconductors",
          "Semiconductors",
          "Semiconductors",
          "Semiconductors",
          "Semiconductors",
          "Semiconductors",
          "Semiconductors",
          "Semiconductors",
          "Semiconductors",
          "Semiconductors",
          "Semiconductors",
          "Semiconductors",
          "Semiconductors",
          "Semiconductors",
          "Semiconductors",
          "Semiconductors",
          "Semiconductors",
          "Semiconductors",
          "Semiconductors"
         ],
         "yaxis": "y"
        },
        {
         "alignmentgroup": "True",
         "hovertemplate": "Industry=%{y}<extra></extra>",
         "legendgroup": "Household & Personal Products",
         "marker": {
          "color": "#ab63fa",
          "pattern": {
           "shape": ""
          }
         },
         "name": "Household & Personal Products",
         "offsetgroup": "Household & Personal Products",
         "orientation": "v",
         "showlegend": true,
         "textposition": "auto",
         "type": "bar",
         "x": [
          "Household & Personal Products",
          "Household & Personal Products",
          "Household & Personal Products",
          "Household & Personal Products",
          "Household & Personal Products",
          "Household & Personal Products",
          "Household & Personal Products",
          "Household & Personal Products",
          "Household & Personal Products",
          "Household & Personal Products",
          "Household & Personal Products",
          "Household & Personal Products",
          "Household & Personal Products",
          "Household & Personal Products",
          "Household & Personal Products",
          "Household & Personal Products",
          "Household & Personal Products",
          "Household & Personal Products",
          "Household & Personal Products",
          "Household & Personal Products",
          "Household & Personal Products",
          "Household & Personal Products",
          "Household & Personal Products",
          "Household & Personal Products",
          "Household & Personal Products",
          "Household & Personal Products",
          "Household & Personal Products",
          "Household & Personal Products",
          "Household & Personal Products",
          "Household & Personal Products",
          "Household & Personal Products",
          "Household & Personal Products",
          "Household & Personal Products"
         ],
         "xaxis": "x",
         "y": [
          "Household & Personal Products",
          "Household & Personal Products",
          "Household & Personal Products",
          "Household & Personal Products",
          "Household & Personal Products",
          "Household & Personal Products",
          "Household & Personal Products",
          "Household & Personal Products",
          "Household & Personal Products",
          "Household & Personal Products",
          "Household & Personal Products",
          "Household & Personal Products",
          "Household & Personal Products",
          "Household & Personal Products",
          "Household & Personal Products",
          "Household & Personal Products",
          "Household & Personal Products",
          "Household & Personal Products",
          "Household & Personal Products",
          "Household & Personal Products",
          "Household & Personal Products",
          "Household & Personal Products",
          "Household & Personal Products",
          "Household & Personal Products",
          "Household & Personal Products",
          "Household & Personal Products",
          "Household & Personal Products",
          "Household & Personal Products",
          "Household & Personal Products",
          "Household & Personal Products",
          "Household & Personal Products",
          "Household & Personal Products",
          "Household & Personal Products"
         ],
         "yaxis": "y"
        },
        {
         "alignmentgroup": "True",
         "hovertemplate": "Industry=%{y}<extra></extra>",
         "legendgroup": "Materials",
         "marker": {
          "color": "#FFA15A",
          "pattern": {
           "shape": ""
          }
         },
         "name": "Materials",
         "offsetgroup": "Materials",
         "orientation": "v",
         "showlegend": true,
         "textposition": "auto",
         "type": "bar",
         "x": [
          "Materials",
          "Materials",
          "Materials",
          "Materials",
          "Materials",
          "Materials",
          "Materials",
          "Materials",
          "Materials",
          "Materials",
          "Materials",
          "Materials",
          "Materials",
          "Materials",
          "Materials",
          "Materials",
          "Materials",
          "Materials",
          "Materials",
          "Materials",
          "Materials",
          "Materials",
          "Materials",
          "Materials",
          "Materials",
          "Materials",
          "Materials",
          "Materials",
          "Materials",
          "Materials",
          "Materials",
          "Materials",
          "Materials",
          "Materials",
          "Materials",
          "Materials",
          "Materials",
          "Materials",
          "Materials",
          "Materials",
          "Materials",
          "Materials",
          "Materials",
          "Materials",
          "Materials",
          "Materials",
          "Materials",
          "Materials",
          "Materials",
          "Materials",
          "Materials",
          "Materials",
          "Materials",
          "Materials",
          "Materials",
          "Materials",
          "Materials",
          "Materials",
          "Materials",
          "Materials",
          "Materials",
          "Materials",
          "Materials",
          "Materials",
          "Materials",
          "Materials",
          "Materials",
          "Materials",
          "Materials",
          "Materials",
          "Materials",
          "Materials",
          "Materials",
          "Materials",
          "Materials",
          "Materials",
          "Materials",
          "Materials",
          "Materials",
          "Materials",
          "Materials",
          "Materials",
          "Materials",
          "Materials",
          "Materials",
          "Materials",
          "Materials",
          "Materials",
          "Materials",
          "Materials",
          "Materials",
          "Materials",
          "Materials",
          "Materials",
          "Materials",
          "Materials",
          "Materials",
          "Materials",
          "Materials",
          "Materials",
          "Materials",
          "Materials",
          "Materials",
          "Materials",
          "Materials",
          "Materials",
          "Materials",
          "Materials",
          "Materials",
          "Materials",
          "Materials",
          "Materials",
          "Materials",
          "Materials",
          "Materials",
          "Materials",
          "Materials"
         ],
         "xaxis": "x",
         "y": [
          "Materials",
          "Materials",
          "Materials",
          "Materials",
          "Materials",
          "Materials",
          "Materials",
          "Materials",
          "Materials",
          "Materials",
          "Materials",
          "Materials",
          "Materials",
          "Materials",
          "Materials",
          "Materials",
          "Materials",
          "Materials",
          "Materials",
          "Materials",
          "Materials",
          "Materials",
          "Materials",
          "Materials",
          "Materials",
          "Materials",
          "Materials",
          "Materials",
          "Materials",
          "Materials",
          "Materials",
          "Materials",
          "Materials",
          "Materials",
          "Materials",
          "Materials",
          "Materials",
          "Materials",
          "Materials",
          "Materials",
          "Materials",
          "Materials",
          "Materials",
          "Materials",
          "Materials",
          "Materials",
          "Materials",
          "Materials",
          "Materials",
          "Materials",
          "Materials",
          "Materials",
          "Materials",
          "Materials",
          "Materials",
          "Materials",
          "Materials",
          "Materials",
          "Materials",
          "Materials",
          "Materials",
          "Materials",
          "Materials",
          "Materials",
          "Materials",
          "Materials",
          "Materials",
          "Materials",
          "Materials",
          "Materials",
          "Materials",
          "Materials",
          "Materials",
          "Materials",
          "Materials",
          "Materials",
          "Materials",
          "Materials",
          "Materials",
          "Materials",
          "Materials",
          "Materials",
          "Materials",
          "Materials",
          "Materials",
          "Materials",
          "Materials",
          "Materials",
          "Materials",
          "Materials",
          "Materials",
          "Materials",
          "Materials",
          "Materials",
          "Materials",
          "Materials",
          "Materials",
          "Materials",
          "Materials",
          "Materials",
          "Materials",
          "Materials",
          "Materials",
          "Materials",
          "Materials",
          "Materials",
          "Materials",
          "Materials",
          "Materials",
          "Materials",
          "Materials",
          "Materials",
          "Materials",
          "Materials",
          "Materials",
          "Materials",
          "Materials"
         ],
         "yaxis": "y"
        },
        {
         "alignmentgroup": "True",
         "hovertemplate": "Industry=%{y}<extra></extra>",
         "legendgroup": "Conglomerates",
         "marker": {
          "color": "#19d3f3",
          "pattern": {
           "shape": ""
          }
         },
         "name": "Conglomerates",
         "offsetgroup": "Conglomerates",
         "orientation": "v",
         "showlegend": true,
         "textposition": "auto",
         "type": "bar",
         "x": [
          "Conglomerates",
          "Conglomerates",
          "Conglomerates",
          "Conglomerates",
          "Conglomerates",
          "Conglomerates",
          "Conglomerates",
          "Conglomerates",
          "Conglomerates",
          "Conglomerates",
          "Conglomerates",
          "Conglomerates",
          "Conglomerates",
          "Conglomerates",
          "Conglomerates",
          "Conglomerates",
          "Conglomerates",
          "Conglomerates",
          "Conglomerates",
          "Conglomerates",
          "Conglomerates",
          "Conglomerates",
          "Conglomerates",
          "Conglomerates",
          "Conglomerates",
          "Conglomerates",
          "Conglomerates",
          "Conglomerates",
          "Conglomerates"
         ],
         "xaxis": "x",
         "y": [
          "Conglomerates",
          "Conglomerates",
          "Conglomerates",
          "Conglomerates",
          "Conglomerates",
          "Conglomerates",
          "Conglomerates",
          "Conglomerates",
          "Conglomerates",
          "Conglomerates",
          "Conglomerates",
          "Conglomerates",
          "Conglomerates",
          "Conglomerates",
          "Conglomerates",
          "Conglomerates",
          "Conglomerates",
          "Conglomerates",
          "Conglomerates",
          "Conglomerates",
          "Conglomerates",
          "Conglomerates",
          "Conglomerates",
          "Conglomerates",
          "Conglomerates",
          "Conglomerates",
          "Conglomerates",
          "Conglomerates",
          "Conglomerates"
         ],
         "yaxis": "y"
        },
        {
         "alignmentgroup": "True",
         "hovertemplate": "Industry=%{y}<extra></extra>",
         "legendgroup": "Trading Companies",
         "marker": {
          "color": "#FF6692",
          "pattern": {
           "shape": ""
          }
         },
         "name": "Trading Companies",
         "offsetgroup": "Trading Companies",
         "orientation": "v",
         "showlegend": true,
         "textposition": "auto",
         "type": "bar",
         "x": [
          "Trading Companies",
          "Trading Companies",
          "Trading Companies",
          "Trading Companies",
          "Trading Companies",
          "Trading Companies",
          "Trading Companies",
          "Trading Companies",
          "Trading Companies",
          "Trading Companies",
          "Trading Companies",
          "Trading Companies",
          "Trading Companies",
          "Trading Companies",
          "Trading Companies",
          "Trading Companies",
          "Trading Companies",
          "Trading Companies",
          "Trading Companies",
          "Trading Companies",
          "Trading Companies",
          "Trading Companies",
          "Trading Companies",
          "Trading Companies",
          "Trading Companies",
          "Trading Companies",
          "Trading Companies",
          "Trading Companies",
          "Trading Companies",
          "Trading Companies",
          "Trading Companies",
          "Trading Companies",
          "Trading Companies",
          "Trading Companies",
          "Trading Companies",
          "Trading Companies",
          "Trading Companies"
         ],
         "xaxis": "x",
         "y": [
          "Trading Companies",
          "Trading Companies",
          "Trading Companies",
          "Trading Companies",
          "Trading Companies",
          "Trading Companies",
          "Trading Companies",
          "Trading Companies",
          "Trading Companies",
          "Trading Companies",
          "Trading Companies",
          "Trading Companies",
          "Trading Companies",
          "Trading Companies",
          "Trading Companies",
          "Trading Companies",
          "Trading Companies",
          "Trading Companies",
          "Trading Companies",
          "Trading Companies",
          "Trading Companies",
          "Trading Companies",
          "Trading Companies",
          "Trading Companies",
          "Trading Companies",
          "Trading Companies",
          "Trading Companies",
          "Trading Companies",
          "Trading Companies",
          "Trading Companies",
          "Trading Companies",
          "Trading Companies",
          "Trading Companies",
          "Trading Companies",
          "Trading Companies",
          "Trading Companies",
          "Trading Companies"
         ],
         "yaxis": "y"
        },
        {
         "alignmentgroup": "True",
         "hovertemplate": "Industry=%{y}<extra></extra>",
         "legendgroup": "Transportation",
         "marker": {
          "color": "#B6E880",
          "pattern": {
           "shape": ""
          }
         },
         "name": "Transportation",
         "offsetgroup": "Transportation",
         "orientation": "v",
         "showlegend": true,
         "textposition": "auto",
         "type": "bar",
         "x": [
          "Transportation",
          "Transportation",
          "Transportation",
          "Transportation",
          "Transportation",
          "Transportation",
          "Transportation",
          "Transportation",
          "Transportation",
          "Transportation",
          "Transportation",
          "Transportation",
          "Transportation",
          "Transportation",
          "Transportation",
          "Transportation",
          "Transportation",
          "Transportation",
          "Transportation",
          "Transportation",
          "Transportation",
          "Transportation",
          "Transportation",
          "Transportation",
          "Transportation",
          "Transportation",
          "Transportation",
          "Transportation",
          "Transportation",
          "Transportation",
          "Transportation",
          "Transportation",
          "Transportation",
          "Transportation",
          "Transportation",
          "Transportation",
          "Transportation",
          "Transportation",
          "Transportation",
          "Transportation",
          "Transportation",
          "Transportation",
          "Transportation",
          "Transportation",
          "Transportation",
          "Transportation",
          "Transportation",
          "Transportation",
          "Transportation",
          "Transportation",
          "Transportation",
          "Transportation",
          "Transportation",
          "Transportation",
          "Transportation",
          "Transportation",
          "Transportation",
          "Transportation",
          "Transportation",
          "Transportation",
          "Transportation",
          "Transportation",
          "Transportation",
          "Transportation",
          "Transportation",
          "Transportation",
          "Transportation",
          "Transportation",
          "Transportation",
          "Transportation"
         ],
         "xaxis": "x",
         "y": [
          "Transportation",
          "Transportation",
          "Transportation",
          "Transportation",
          "Transportation",
          "Transportation",
          "Transportation",
          "Transportation",
          "Transportation",
          "Transportation",
          "Transportation",
          "Transportation",
          "Transportation",
          "Transportation",
          "Transportation",
          "Transportation",
          "Transportation",
          "Transportation",
          "Transportation",
          "Transportation",
          "Transportation",
          "Transportation",
          "Transportation",
          "Transportation",
          "Transportation",
          "Transportation",
          "Transportation",
          "Transportation",
          "Transportation",
          "Transportation",
          "Transportation",
          "Transportation",
          "Transportation",
          "Transportation",
          "Transportation",
          "Transportation",
          "Transportation",
          "Transportation",
          "Transportation",
          "Transportation",
          "Transportation",
          "Transportation",
          "Transportation",
          "Transportation",
          "Transportation",
          "Transportation",
          "Transportation",
          "Transportation",
          "Transportation",
          "Transportation",
          "Transportation",
          "Transportation",
          "Transportation",
          "Transportation",
          "Transportation",
          "Transportation",
          "Transportation",
          "Transportation",
          "Transportation",
          "Transportation",
          "Transportation",
          "Transportation",
          "Transportation",
          "Transportation",
          "Transportation",
          "Transportation",
          "Transportation",
          "Transportation",
          "Transportation",
          "Transportation"
         ],
         "yaxis": "y"
        },
        {
         "alignmentgroup": "True",
         "hovertemplate": "Industry=%{y}<extra></extra>",
         "legendgroup": "Construction",
         "marker": {
          "color": "#FF97FF",
          "pattern": {
           "shape": ""
          }
         },
         "name": "Construction",
         "offsetgroup": "Construction",
         "orientation": "v",
         "showlegend": true,
         "textposition": "auto",
         "type": "bar",
         "x": [
          "Construction",
          "Construction",
          "Construction",
          "Construction",
          "Construction",
          "Construction",
          "Construction",
          "Construction",
          "Construction",
          "Construction",
          "Construction",
          "Construction",
          "Construction",
          "Construction",
          "Construction",
          "Construction",
          "Construction",
          "Construction",
          "Construction",
          "Construction",
          "Construction",
          "Construction",
          "Construction",
          "Construction",
          "Construction",
          "Construction",
          "Construction",
          "Construction",
          "Construction",
          "Construction",
          "Construction",
          "Construction",
          "Construction",
          "Construction",
          "Construction",
          "Construction",
          "Construction",
          "Construction",
          "Construction",
          "Construction",
          "Construction",
          "Construction",
          "Construction",
          "Construction",
          "Construction",
          "Construction",
          "Construction",
          "Construction",
          "Construction",
          "Construction",
          "Construction",
          "Construction",
          "Construction",
          "Construction",
          "Construction",
          "Construction",
          "Construction",
          "Construction",
          "Construction",
          "Construction",
          "Construction",
          "Construction",
          "Construction",
          "Construction",
          "Construction",
          "Construction",
          "Construction",
          "Construction",
          "Construction",
          "Construction",
          "Construction",
          "Construction",
          "Construction",
          "Construction",
          "Construction",
          "Construction",
          "Construction",
          "Construction",
          "Construction",
          "Construction",
          "Construction",
          "Construction",
          "Construction",
          "Construction",
          "Construction",
          "Construction",
          "Construction",
          "Construction",
          "Construction",
          "Construction",
          "Construction",
          "Construction",
          "Construction",
          "Construction",
          "Construction",
          "Construction",
          "Construction",
          "Construction",
          "Construction",
          "Construction",
          "Construction",
          "Construction",
          "Construction",
          "Construction",
          "Construction",
          "Construction",
          "Construction",
          "Construction",
          "Construction",
          "Construction",
          "Construction",
          "Construction",
          "Construction",
          "Construction",
          "Construction",
          "Construction",
          "Construction",
          "Construction",
          "Construction",
          "Construction",
          "Construction",
          "Construction",
          "Construction",
          "Construction",
          "Construction",
          "Construction",
          "Construction"
         ],
         "xaxis": "x",
         "y": [
          "Construction",
          "Construction",
          "Construction",
          "Construction",
          "Construction",
          "Construction",
          "Construction",
          "Construction",
          "Construction",
          "Construction",
          "Construction",
          "Construction",
          "Construction",
          "Construction",
          "Construction",
          "Construction",
          "Construction",
          "Construction",
          "Construction",
          "Construction",
          "Construction",
          "Construction",
          "Construction",
          "Construction",
          "Construction",
          "Construction",
          "Construction",
          "Construction",
          "Construction",
          "Construction",
          "Construction",
          "Construction",
          "Construction",
          "Construction",
          "Construction",
          "Construction",
          "Construction",
          "Construction",
          "Construction",
          "Construction",
          "Construction",
          "Construction",
          "Construction",
          "Construction",
          "Construction",
          "Construction",
          "Construction",
          "Construction",
          "Construction",
          "Construction",
          "Construction",
          "Construction",
          "Construction",
          "Construction",
          "Construction",
          "Construction",
          "Construction",
          "Construction",
          "Construction",
          "Construction",
          "Construction",
          "Construction",
          "Construction",
          "Construction",
          "Construction",
          "Construction",
          "Construction",
          "Construction",
          "Construction",
          "Construction",
          "Construction",
          "Construction",
          "Construction",
          "Construction",
          "Construction",
          "Construction",
          "Construction",
          "Construction",
          "Construction",
          "Construction",
          "Construction",
          "Construction",
          "Construction",
          "Construction",
          "Construction",
          "Construction",
          "Construction",
          "Construction",
          "Construction",
          "Construction",
          "Construction",
          "Construction",
          "Construction",
          "Construction",
          "Construction",
          "Construction",
          "Construction",
          "Construction",
          "Construction",
          "Construction",
          "Construction",
          "Construction",
          "Construction",
          "Construction",
          "Construction",
          "Construction",
          "Construction",
          "Construction",
          "Construction",
          "Construction",
          "Construction",
          "Construction",
          "Construction",
          "Construction",
          "Construction",
          "Construction",
          "Construction",
          "Construction",
          "Construction",
          "Construction",
          "Construction",
          "Construction",
          "Construction",
          "Construction",
          "Construction",
          "Construction",
          "Construction"
         ],
         "yaxis": "y"
        },
        {
         "alignmentgroup": "True",
         "hovertemplate": "Industry=%{y}<extra></extra>",
         "legendgroup": "Aerospace & Defense",
         "marker": {
          "color": "#FECB52",
          "pattern": {
           "shape": ""
          }
         },
         "name": "Aerospace & Defense",
         "offsetgroup": "Aerospace & Defense",
         "orientation": "v",
         "showlegend": true,
         "textposition": "auto",
         "type": "bar",
         "x": [
          "Aerospace & Defense",
          "Aerospace & Defense",
          "Aerospace & Defense",
          "Aerospace & Defense",
          "Aerospace & Defense",
          "Aerospace & Defense",
          "Aerospace & Defense",
          "Aerospace & Defense",
          "Aerospace & Defense",
          "Aerospace & Defense",
          "Aerospace & Defense",
          "Aerospace & Defense",
          "Aerospace & Defense",
          "Aerospace & Defense",
          "Aerospace & Defense",
          "Aerospace & Defense",
          "Aerospace & Defense",
          "Aerospace & Defense"
         ],
         "xaxis": "x",
         "y": [
          "Aerospace & Defense",
          "Aerospace & Defense",
          "Aerospace & Defense",
          "Aerospace & Defense",
          "Aerospace & Defense",
          "Aerospace & Defense",
          "Aerospace & Defense",
          "Aerospace & Defense",
          "Aerospace & Defense",
          "Aerospace & Defense",
          "Aerospace & Defense",
          "Aerospace & Defense",
          "Aerospace & Defense",
          "Aerospace & Defense",
          "Aerospace & Defense",
          "Aerospace & Defense",
          "Aerospace & Defense",
          "Aerospace & Defense"
         ],
         "yaxis": "y"
        },
        {
         "alignmentgroup": "True",
         "hovertemplate": "Industry=%{y}<extra></extra>",
         "legendgroup": "Utilities",
         "marker": {
          "color": "#636efa",
          "pattern": {
           "shape": ""
          }
         },
         "name": "Utilities",
         "offsetgroup": "Utilities",
         "orientation": "v",
         "showlegend": true,
         "textposition": "auto",
         "type": "bar",
         "x": [
          "Utilities",
          "Utilities",
          "Utilities",
          "Utilities",
          "Utilities",
          "Utilities",
          "Utilities",
          "Utilities",
          "Utilities",
          "Utilities",
          "Utilities",
          "Utilities",
          "Utilities",
          "Utilities",
          "Utilities",
          "Utilities",
          "Utilities",
          "Utilities",
          "Utilities",
          "Utilities",
          "Utilities",
          "Utilities",
          "Utilities",
          "Utilities",
          "Utilities",
          "Utilities",
          "Utilities",
          "Utilities",
          "Utilities",
          "Utilities",
          "Utilities",
          "Utilities",
          "Utilities",
          "Utilities",
          "Utilities",
          "Utilities",
          "Utilities",
          "Utilities",
          "Utilities",
          "Utilities",
          "Utilities",
          "Utilities",
          "Utilities",
          "Utilities",
          "Utilities",
          "Utilities",
          "Utilities",
          "Utilities",
          "Utilities",
          "Utilities",
          "Utilities",
          "Utilities",
          "Utilities",
          "Utilities",
          "Utilities",
          "Utilities",
          "Utilities",
          "Utilities",
          "Utilities",
          "Utilities",
          "Utilities",
          "Utilities",
          "Utilities",
          "Utilities",
          "Utilities",
          "Utilities",
          "Utilities",
          "Utilities",
          "Utilities",
          "Utilities",
          "Utilities",
          "Utilities",
          "Utilities",
          "Utilities",
          "Utilities",
          "Utilities",
          "Utilities",
          "Utilities",
          "Utilities",
          "Utilities",
          "Utilities",
          "Utilities",
          "Utilities"
         ],
         "xaxis": "x",
         "y": [
          "Utilities",
          "Utilities",
          "Utilities",
          "Utilities",
          "Utilities",
          "Utilities",
          "Utilities",
          "Utilities",
          "Utilities",
          "Utilities",
          "Utilities",
          "Utilities",
          "Utilities",
          "Utilities",
          "Utilities",
          "Utilities",
          "Utilities",
          "Utilities",
          "Utilities",
          "Utilities",
          "Utilities",
          "Utilities",
          "Utilities",
          "Utilities",
          "Utilities",
          "Utilities",
          "Utilities",
          "Utilities",
          "Utilities",
          "Utilities",
          "Utilities",
          "Utilities",
          "Utilities",
          "Utilities",
          "Utilities",
          "Utilities",
          "Utilities",
          "Utilities",
          "Utilities",
          "Utilities",
          "Utilities",
          "Utilities",
          "Utilities",
          "Utilities",
          "Utilities",
          "Utilities",
          "Utilities",
          "Utilities",
          "Utilities",
          "Utilities",
          "Utilities",
          "Utilities",
          "Utilities",
          "Utilities",
          "Utilities",
          "Utilities",
          "Utilities",
          "Utilities",
          "Utilities",
          "Utilities",
          "Utilities",
          "Utilities",
          "Utilities",
          "Utilities",
          "Utilities",
          "Utilities",
          "Utilities",
          "Utilities",
          "Utilities",
          "Utilities",
          "Utilities",
          "Utilities",
          "Utilities",
          "Utilities",
          "Utilities",
          "Utilities",
          "Utilities",
          "Utilities",
          "Utilities",
          "Utilities",
          "Utilities",
          "Utilities",
          "Utilities"
         ],
         "yaxis": "y"
        },
        {
         "alignmentgroup": "True",
         "hovertemplate": "Industry=%{y}<extra></extra>",
         "legendgroup": "Health Care Equipment & Services",
         "marker": {
          "color": "#EF553B",
          "pattern": {
           "shape": ""
          }
         },
         "name": "Health Care Equipment & Services",
         "offsetgroup": "Health Care Equipment & Services",
         "orientation": "v",
         "showlegend": true,
         "textposition": "auto",
         "type": "bar",
         "x": [
          "Health Care Equipment & Services",
          "Health Care Equipment & Services",
          "Health Care Equipment & Services",
          "Health Care Equipment & Services",
          "Health Care Equipment & Services",
          "Health Care Equipment & Services",
          "Health Care Equipment & Services",
          "Health Care Equipment & Services",
          "Health Care Equipment & Services",
          "Health Care Equipment & Services",
          "Health Care Equipment & Services",
          "Health Care Equipment & Services",
          "Health Care Equipment & Services",
          "Health Care Equipment & Services",
          "Health Care Equipment & Services",
          "Health Care Equipment & Services",
          "Health Care Equipment & Services",
          "Health Care Equipment & Services",
          "Health Care Equipment & Services",
          "Health Care Equipment & Services",
          "Health Care Equipment & Services",
          "Health Care Equipment & Services",
          "Health Care Equipment & Services",
          "Health Care Equipment & Services",
          "Health Care Equipment & Services",
          "Health Care Equipment & Services",
          "Health Care Equipment & Services",
          "Health Care Equipment & Services",
          "Health Care Equipment & Services",
          "Health Care Equipment & Services",
          "Health Care Equipment & Services",
          "Health Care Equipment & Services",
          "Health Care Equipment & Services",
          "Health Care Equipment & Services",
          "Health Care Equipment & Services",
          "Health Care Equipment & Services",
          "Health Care Equipment & Services",
          "Health Care Equipment & Services",
          "Health Care Equipment & Services",
          "Health Care Equipment & Services",
          "Health Care Equipment & Services",
          "Health Care Equipment & Services",
          "Health Care Equipment & Services",
          "Health Care Equipment & Services"
         ],
         "xaxis": "x",
         "y": [
          "Health Care Equipment & Services",
          "Health Care Equipment & Services",
          "Health Care Equipment & Services",
          "Health Care Equipment & Services",
          "Health Care Equipment & Services",
          "Health Care Equipment & Services",
          "Health Care Equipment & Services",
          "Health Care Equipment & Services",
          "Health Care Equipment & Services",
          "Health Care Equipment & Services",
          "Health Care Equipment & Services",
          "Health Care Equipment & Services",
          "Health Care Equipment & Services",
          "Health Care Equipment & Services",
          "Health Care Equipment & Services",
          "Health Care Equipment & Services",
          "Health Care Equipment & Services",
          "Health Care Equipment & Services",
          "Health Care Equipment & Services",
          "Health Care Equipment & Services",
          "Health Care Equipment & Services",
          "Health Care Equipment & Services",
          "Health Care Equipment & Services",
          "Health Care Equipment & Services",
          "Health Care Equipment & Services",
          "Health Care Equipment & Services",
          "Health Care Equipment & Services",
          "Health Care Equipment & Services",
          "Health Care Equipment & Services",
          "Health Care Equipment & Services",
          "Health Care Equipment & Services",
          "Health Care Equipment & Services",
          "Health Care Equipment & Services",
          "Health Care Equipment & Services",
          "Health Care Equipment & Services",
          "Health Care Equipment & Services",
          "Health Care Equipment & Services",
          "Health Care Equipment & Services",
          "Health Care Equipment & Services",
          "Health Care Equipment & Services",
          "Health Care Equipment & Services",
          "Health Care Equipment & Services",
          "Health Care Equipment & Services",
          "Health Care Equipment & Services"
         ],
         "yaxis": "y"
        },
        {
         "alignmentgroup": "True",
         "hovertemplate": "Industry=%{y}<extra></extra>",
         "legendgroup": "Chemicals",
         "marker": {
          "color": "#00cc96",
          "pattern": {
           "shape": ""
          }
         },
         "name": "Chemicals",
         "offsetgroup": "Chemicals",
         "orientation": "v",
         "showlegend": true,
         "textposition": "auto",
         "type": "bar",
         "x": [
          "Chemicals",
          "Chemicals",
          "Chemicals",
          "Chemicals",
          "Chemicals",
          "Chemicals",
          "Chemicals",
          "Chemicals",
          "Chemicals",
          "Chemicals",
          "Chemicals",
          "Chemicals",
          "Chemicals",
          "Chemicals",
          "Chemicals",
          "Chemicals",
          "Chemicals",
          "Chemicals",
          "Chemicals",
          "Chemicals",
          "Chemicals",
          "Chemicals",
          "Chemicals",
          "Chemicals",
          "Chemicals",
          "Chemicals",
          "Chemicals",
          "Chemicals",
          "Chemicals",
          "Chemicals",
          "Chemicals",
          "Chemicals",
          "Chemicals",
          "Chemicals",
          "Chemicals",
          "Chemicals",
          "Chemicals",
          "Chemicals",
          "Chemicals",
          "Chemicals",
          "Chemicals",
          "Chemicals",
          "Chemicals",
          "Chemicals",
          "Chemicals",
          "Chemicals",
          "Chemicals",
          "Chemicals",
          "Chemicals",
          "Chemicals",
          "Chemicals",
          "Chemicals",
          "Chemicals",
          "Chemicals",
          "Chemicals",
          "Chemicals",
          "Chemicals",
          "Chemicals",
          "Chemicals",
          "Chemicals",
          "Chemicals",
          "Chemicals",
          "Chemicals",
          "Chemicals",
          "Chemicals",
          "Chemicals",
          "Chemicals",
          "Chemicals",
          "Chemicals",
          "Chemicals",
          "Chemicals",
          "Chemicals",
          "Chemicals",
          "Chemicals",
          "Chemicals"
         ],
         "xaxis": "x",
         "y": [
          "Chemicals",
          "Chemicals",
          "Chemicals",
          "Chemicals",
          "Chemicals",
          "Chemicals",
          "Chemicals",
          "Chemicals",
          "Chemicals",
          "Chemicals",
          "Chemicals",
          "Chemicals",
          "Chemicals",
          "Chemicals",
          "Chemicals",
          "Chemicals",
          "Chemicals",
          "Chemicals",
          "Chemicals",
          "Chemicals",
          "Chemicals",
          "Chemicals",
          "Chemicals",
          "Chemicals",
          "Chemicals",
          "Chemicals",
          "Chemicals",
          "Chemicals",
          "Chemicals",
          "Chemicals",
          "Chemicals",
          "Chemicals",
          "Chemicals",
          "Chemicals",
          "Chemicals",
          "Chemicals",
          "Chemicals",
          "Chemicals",
          "Chemicals",
          "Chemicals",
          "Chemicals",
          "Chemicals",
          "Chemicals",
          "Chemicals",
          "Chemicals",
          "Chemicals",
          "Chemicals",
          "Chemicals",
          "Chemicals",
          "Chemicals",
          "Chemicals",
          "Chemicals",
          "Chemicals",
          "Chemicals",
          "Chemicals",
          "Chemicals",
          "Chemicals",
          "Chemicals",
          "Chemicals",
          "Chemicals",
          "Chemicals",
          "Chemicals",
          "Chemicals",
          "Chemicals",
          "Chemicals",
          "Chemicals",
          "Chemicals",
          "Chemicals",
          "Chemicals",
          "Chemicals",
          "Chemicals",
          "Chemicals",
          "Chemicals",
          "Chemicals",
          "Chemicals"
         ],
         "yaxis": "y"
        },
        {
         "alignmentgroup": "True",
         "hovertemplate": "Industry=%{y}<extra></extra>",
         "legendgroup": "Capital Goods",
         "marker": {
          "color": "#ab63fa",
          "pattern": {
           "shape": ""
          }
         },
         "name": "Capital Goods",
         "offsetgroup": "Capital Goods",
         "orientation": "v",
         "showlegend": true,
         "textposition": "auto",
         "type": "bar",
         "x": [
          "Capital Goods",
          "Capital Goods",
          "Capital Goods",
          "Capital Goods",
          "Capital Goods",
          "Capital Goods",
          "Capital Goods",
          "Capital Goods",
          "Capital Goods",
          "Capital Goods",
          "Capital Goods",
          "Capital Goods",
          "Capital Goods",
          "Capital Goods",
          "Capital Goods",
          "Capital Goods",
          "Capital Goods",
          "Capital Goods",
          "Capital Goods",
          "Capital Goods",
          "Capital Goods",
          "Capital Goods",
          "Capital Goods",
          "Capital Goods",
          "Capital Goods",
          "Capital Goods",
          "Capital Goods",
          "Capital Goods",
          "Capital Goods",
          "Capital Goods",
          "Capital Goods",
          "Capital Goods",
          "Capital Goods",
          "Capital Goods",
          "Capital Goods",
          "Capital Goods",
          "Capital Goods",
          "Capital Goods",
          "Capital Goods",
          "Capital Goods",
          "Capital Goods",
          "Capital Goods",
          "Capital Goods",
          "Capital Goods",
          "Capital Goods",
          "Capital Goods",
          "Capital Goods",
          "Capital Goods",
          "Capital Goods",
          "Capital Goods",
          "Capital Goods",
          "Capital Goods",
          "Capital Goods",
          "Capital Goods",
          "Capital Goods",
          "Capital Goods",
          "Capital Goods",
          "Capital Goods",
          "Capital Goods"
         ],
         "xaxis": "x",
         "y": [
          "Capital Goods",
          "Capital Goods",
          "Capital Goods",
          "Capital Goods",
          "Capital Goods",
          "Capital Goods",
          "Capital Goods",
          "Capital Goods",
          "Capital Goods",
          "Capital Goods",
          "Capital Goods",
          "Capital Goods",
          "Capital Goods",
          "Capital Goods",
          "Capital Goods",
          "Capital Goods",
          "Capital Goods",
          "Capital Goods",
          "Capital Goods",
          "Capital Goods",
          "Capital Goods",
          "Capital Goods",
          "Capital Goods",
          "Capital Goods",
          "Capital Goods",
          "Capital Goods",
          "Capital Goods",
          "Capital Goods",
          "Capital Goods",
          "Capital Goods",
          "Capital Goods",
          "Capital Goods",
          "Capital Goods",
          "Capital Goods",
          "Capital Goods",
          "Capital Goods",
          "Capital Goods",
          "Capital Goods",
          "Capital Goods",
          "Capital Goods",
          "Capital Goods",
          "Capital Goods",
          "Capital Goods",
          "Capital Goods",
          "Capital Goods",
          "Capital Goods",
          "Capital Goods",
          "Capital Goods",
          "Capital Goods",
          "Capital Goods",
          "Capital Goods",
          "Capital Goods",
          "Capital Goods",
          "Capital Goods",
          "Capital Goods",
          "Capital Goods",
          "Capital Goods",
          "Capital Goods",
          "Capital Goods"
         ],
         "yaxis": "y"
        },
        {
         "alignmentgroup": "True",
         "hovertemplate": "Industry=%{y}<extra></extra>",
         "legendgroup": "Business Services & Supplies",
         "marker": {
          "color": "#FFA15A",
          "pattern": {
           "shape": ""
          }
         },
         "name": "Business Services & Supplies",
         "offsetgroup": "Business Services & Supplies",
         "orientation": "v",
         "showlegend": true,
         "textposition": "auto",
         "type": "bar",
         "x": [
          "Business Services & Supplies",
          "Business Services & Supplies",
          "Business Services & Supplies",
          "Business Services & Supplies",
          "Business Services & Supplies",
          "Business Services & Supplies",
          "Business Services & Supplies",
          "Business Services & Supplies",
          "Business Services & Supplies",
          "Business Services & Supplies",
          "Business Services & Supplies",
          "Business Services & Supplies",
          "Business Services & Supplies",
          "Business Services & Supplies",
          "Business Services & Supplies",
          "Business Services & Supplies",
          "Business Services & Supplies",
          "Business Services & Supplies",
          "Business Services & Supplies",
          "Business Services & Supplies",
          "Business Services & Supplies",
          "Business Services & Supplies",
          "Business Services & Supplies",
          "Business Services & Supplies",
          "Business Services & Supplies",
          "Business Services & Supplies",
          "Business Services & Supplies",
          "Business Services & Supplies",
          "Business Services & Supplies",
          "Business Services & Supplies",
          "Business Services & Supplies",
          "Business Services & Supplies",
          "Business Services & Supplies",
          "Business Services & Supplies",
          "Business Services & Supplies",
          "Business Services & Supplies",
          "Business Services & Supplies",
          "Business Services & Supplies",
          "Business Services & Supplies",
          "Business Services & Supplies",
          "Business Services & Supplies",
          "Business Services & Supplies",
          "Business Services & Supplies",
          "Business Services & Supplies",
          "Business Services & Supplies",
          "Business Services & Supplies",
          "Business Services & Supplies",
          "Business Services & Supplies",
          "Business Services & Supplies",
          "Business Services & Supplies",
          "Business Services & Supplies",
          "Business Services & Supplies",
          "Business Services & Supplies",
          "Business Services & Supplies",
          "Business Services & Supplies",
          "Business Services & Supplies",
          "Business Services & Supplies",
          "Business Services & Supplies",
          "Business Services & Supplies",
          "Business Services & Supplies",
          "Business Services & Supplies",
          "Business Services & Supplies",
          "Business Services & Supplies",
          "Business Services & Supplies",
          "Business Services & Supplies",
          "Business Services & Supplies",
          "Business Services & Supplies",
          "Business Services & Supplies",
          "Business Services & Supplies",
          "Business Services & Supplies",
          "Business Services & Supplies",
          "Business Services & Supplies",
          "Business Services & Supplies",
          "Business Services & Supplies",
          "Business Services & Supplies",
          "Business Services & Supplies",
          "Business Services & Supplies",
          "Business Services & Supplies",
          "Business Services & Supplies",
          "Business Services & Supplies",
          "Business Services & Supplies",
          "Business Services & Supplies"
         ],
         "xaxis": "x",
         "y": [
          "Business Services & Supplies",
          "Business Services & Supplies",
          "Business Services & Supplies",
          "Business Services & Supplies",
          "Business Services & Supplies",
          "Business Services & Supplies",
          "Business Services & Supplies",
          "Business Services & Supplies",
          "Business Services & Supplies",
          "Business Services & Supplies",
          "Business Services & Supplies",
          "Business Services & Supplies",
          "Business Services & Supplies",
          "Business Services & Supplies",
          "Business Services & Supplies",
          "Business Services & Supplies",
          "Business Services & Supplies",
          "Business Services & Supplies",
          "Business Services & Supplies",
          "Business Services & Supplies",
          "Business Services & Supplies",
          "Business Services & Supplies",
          "Business Services & Supplies",
          "Business Services & Supplies",
          "Business Services & Supplies",
          "Business Services & Supplies",
          "Business Services & Supplies",
          "Business Services & Supplies",
          "Business Services & Supplies",
          "Business Services & Supplies",
          "Business Services & Supplies",
          "Business Services & Supplies",
          "Business Services & Supplies",
          "Business Services & Supplies",
          "Business Services & Supplies",
          "Business Services & Supplies",
          "Business Services & Supplies",
          "Business Services & Supplies",
          "Business Services & Supplies",
          "Business Services & Supplies",
          "Business Services & Supplies",
          "Business Services & Supplies",
          "Business Services & Supplies",
          "Business Services & Supplies",
          "Business Services & Supplies",
          "Business Services & Supplies",
          "Business Services & Supplies",
          "Business Services & Supplies",
          "Business Services & Supplies",
          "Business Services & Supplies",
          "Business Services & Supplies",
          "Business Services & Supplies",
          "Business Services & Supplies",
          "Business Services & Supplies",
          "Business Services & Supplies",
          "Business Services & Supplies",
          "Business Services & Supplies",
          "Business Services & Supplies",
          "Business Services & Supplies",
          "Business Services & Supplies",
          "Business Services & Supplies",
          "Business Services & Supplies",
          "Business Services & Supplies",
          "Business Services & Supplies",
          "Business Services & Supplies",
          "Business Services & Supplies",
          "Business Services & Supplies",
          "Business Services & Supplies",
          "Business Services & Supplies",
          "Business Services & Supplies",
          "Business Services & Supplies",
          "Business Services & Supplies",
          "Business Services & Supplies",
          "Business Services & Supplies",
          "Business Services & Supplies",
          "Business Services & Supplies",
          "Business Services & Supplies",
          "Business Services & Supplies",
          "Business Services & Supplies",
          "Business Services & Supplies",
          "Business Services & Supplies",
          "Business Services & Supplies"
         ],
         "yaxis": "y"
        },
        {
         "alignmentgroup": "True",
         "hovertemplate": "Industry=%{y}<extra></extra>",
         "legendgroup": "Hotels, Restaurants & Leisure",
         "marker": {
          "color": "#19d3f3",
          "pattern": {
           "shape": ""
          }
         },
         "name": "Hotels, Restaurants & Leisure",
         "offsetgroup": "Hotels, Restaurants & Leisure",
         "orientation": "v",
         "showlegend": true,
         "textposition": "auto",
         "type": "bar",
         "x": [
          "Hotels, Restaurants & Leisure",
          "Hotels, Restaurants & Leisure",
          "Hotels, Restaurants & Leisure",
          "Hotels, Restaurants & Leisure",
          "Hotels, Restaurants & Leisure",
          "Hotels, Restaurants & Leisure",
          "Hotels, Restaurants & Leisure",
          "Hotels, Restaurants & Leisure",
          "Hotels, Restaurants & Leisure",
          "Hotels, Restaurants & Leisure",
          "Hotels, Restaurants & Leisure",
          "Hotels, Restaurants & Leisure",
          "Hotels, Restaurants & Leisure",
          "Hotels, Restaurants & Leisure",
          "Hotels, Restaurants & Leisure",
          "Hotels, Restaurants & Leisure",
          "Hotels, Restaurants & Leisure",
          "Hotels, Restaurants & Leisure",
          "Hotels, Restaurants & Leisure"
         ],
         "xaxis": "x",
         "y": [
          "Hotels, Restaurants & Leisure",
          "Hotels, Restaurants & Leisure",
          "Hotels, Restaurants & Leisure",
          "Hotels, Restaurants & Leisure",
          "Hotels, Restaurants & Leisure",
          "Hotels, Restaurants & Leisure",
          "Hotels, Restaurants & Leisure",
          "Hotels, Restaurants & Leisure",
          "Hotels, Restaurants & Leisure",
          "Hotels, Restaurants & Leisure",
          "Hotels, Restaurants & Leisure",
          "Hotels, Restaurants & Leisure",
          "Hotels, Restaurants & Leisure",
          "Hotels, Restaurants & Leisure",
          "Hotels, Restaurants & Leisure",
          "Hotels, Restaurants & Leisure",
          "Hotels, Restaurants & Leisure",
          "Hotels, Restaurants & Leisure",
          "Hotels, Restaurants & Leisure"
         ],
         "yaxis": "y"
        },
        {
         "alignmentgroup": "True",
         "hovertemplate": "Industry=%{y}<extra></extra>",
         "legendgroup": "Food Markets",
         "marker": {
          "color": "#FF6692",
          "pattern": {
           "shape": ""
          }
         },
         "name": "Food Markets",
         "offsetgroup": "Food Markets",
         "orientation": "v",
         "showlegend": true,
         "textposition": "auto",
         "type": "bar",
         "x": [
          "Food Markets",
          "Food Markets",
          "Food Markets",
          "Food Markets",
          "Food Markets",
          "Food Markets",
          "Food Markets",
          "Food Markets",
          "Food Markets",
          "Food Markets",
          "Food Markets",
          "Food Markets",
          "Food Markets",
          "Food Markets",
          "Food Markets",
          "Food Markets",
          "Food Markets",
          "Food Markets",
          "Food Markets",
          "Food Markets",
          "Food Markets",
          "Food Markets",
          "Food Markets",
          "Food Markets",
          "Food Markets",
          "Food Markets"
         ],
         "xaxis": "x",
         "y": [
          "Food Markets",
          "Food Markets",
          "Food Markets",
          "Food Markets",
          "Food Markets",
          "Food Markets",
          "Food Markets",
          "Food Markets",
          "Food Markets",
          "Food Markets",
          "Food Markets",
          "Food Markets",
          "Food Markets",
          "Food Markets",
          "Food Markets",
          "Food Markets",
          "Food Markets",
          "Food Markets",
          "Food Markets",
          "Food Markets",
          "Food Markets",
          "Food Markets",
          "Food Markets",
          "Food Markets",
          "Food Markets",
          "Food Markets"
         ],
         "yaxis": "y"
        },
        {
         "alignmentgroup": "True",
         "hovertemplate": "Industry=%{y}<extra></extra>",
         "legendgroup": "Food & Drink",
         "marker": {
          "color": "#B6E880",
          "pattern": {
           "shape": ""
          }
         },
         "name": "Food & Drink",
         "offsetgroup": "Food & Drink",
         "orientation": "v",
         "showlegend": true,
         "textposition": "auto",
         "type": "bar",
         "x": [
          "Food & Drink",
          "Food & Drink"
         ],
         "xaxis": "x",
         "y": [
          "Food & Drink",
          "Food & Drink"
         ],
         "yaxis": "y"
        },
        {
         "alignmentgroup": "True",
         "hovertemplate": "Industry=%{y}<extra></extra>",
         "legendgroup": "Automotive",
         "marker": {
          "color": "#FF97FF",
          "pattern": {
           "shape": ""
          }
         },
         "name": "Automotive",
         "offsetgroup": "Automotive",
         "orientation": "v",
         "showlegend": true,
         "textposition": "auto",
         "type": "bar",
         "x": [
          "Automotive",
          "Automotive"
         ],
         "xaxis": "x",
         "y": [
          "Automotive",
          "Automotive"
         ],
         "yaxis": "y"
        }
       ],
       "layout": {
        "barmode": "relative",
        "height": 800,
        "legend": {
         "title": {
          "text": "Industry"
         },
         "tracegroupgap": 0
        },
        "template": {
         "data": {
          "bar": [
           {
            "error_x": {
             "color": "#2a3f5f"
            },
            "error_y": {
             "color": "#2a3f5f"
            },
            "marker": {
             "line": {
              "color": "#E5ECF6",
              "width": 0.5
             },
             "pattern": {
              "fillmode": "overlay",
              "size": 10,
              "solidity": 0.2
             }
            },
            "type": "bar"
           }
          ],
          "barpolar": [
           {
            "marker": {
             "line": {
              "color": "#E5ECF6",
              "width": 0.5
             },
             "pattern": {
              "fillmode": "overlay",
              "size": 10,
              "solidity": 0.2
             }
            },
            "type": "barpolar"
           }
          ],
          "carpet": [
           {
            "aaxis": {
             "endlinecolor": "#2a3f5f",
             "gridcolor": "white",
             "linecolor": "white",
             "minorgridcolor": "white",
             "startlinecolor": "#2a3f5f"
            },
            "baxis": {
             "endlinecolor": "#2a3f5f",
             "gridcolor": "white",
             "linecolor": "white",
             "minorgridcolor": "white",
             "startlinecolor": "#2a3f5f"
            },
            "type": "carpet"
           }
          ],
          "choropleth": [
           {
            "colorbar": {
             "outlinewidth": 0,
             "ticks": ""
            },
            "type": "choropleth"
           }
          ],
          "contour": [
           {
            "colorbar": {
             "outlinewidth": 0,
             "ticks": ""
            },
            "colorscale": [
             [
              0,
              "#0d0887"
             ],
             [
              0.1111111111111111,
              "#46039f"
             ],
             [
              0.2222222222222222,
              "#7201a8"
             ],
             [
              0.3333333333333333,
              "#9c179e"
             ],
             [
              0.4444444444444444,
              "#bd3786"
             ],
             [
              0.5555555555555556,
              "#d8576b"
             ],
             [
              0.6666666666666666,
              "#ed7953"
             ],
             [
              0.7777777777777778,
              "#fb9f3a"
             ],
             [
              0.8888888888888888,
              "#fdca26"
             ],
             [
              1,
              "#f0f921"
             ]
            ],
            "type": "contour"
           }
          ],
          "contourcarpet": [
           {
            "colorbar": {
             "outlinewidth": 0,
             "ticks": ""
            },
            "type": "contourcarpet"
           }
          ],
          "heatmap": [
           {
            "colorbar": {
             "outlinewidth": 0,
             "ticks": ""
            },
            "colorscale": [
             [
              0,
              "#0d0887"
             ],
             [
              0.1111111111111111,
              "#46039f"
             ],
             [
              0.2222222222222222,
              "#7201a8"
             ],
             [
              0.3333333333333333,
              "#9c179e"
             ],
             [
              0.4444444444444444,
              "#bd3786"
             ],
             [
              0.5555555555555556,
              "#d8576b"
             ],
             [
              0.6666666666666666,
              "#ed7953"
             ],
             [
              0.7777777777777778,
              "#fb9f3a"
             ],
             [
              0.8888888888888888,
              "#fdca26"
             ],
             [
              1,
              "#f0f921"
             ]
            ],
            "type": "heatmap"
           }
          ],
          "heatmapgl": [
           {
            "colorbar": {
             "outlinewidth": 0,
             "ticks": ""
            },
            "colorscale": [
             [
              0,
              "#0d0887"
             ],
             [
              0.1111111111111111,
              "#46039f"
             ],
             [
              0.2222222222222222,
              "#7201a8"
             ],
             [
              0.3333333333333333,
              "#9c179e"
             ],
             [
              0.4444444444444444,
              "#bd3786"
             ],
             [
              0.5555555555555556,
              "#d8576b"
             ],
             [
              0.6666666666666666,
              "#ed7953"
             ],
             [
              0.7777777777777778,
              "#fb9f3a"
             ],
             [
              0.8888888888888888,
              "#fdca26"
             ],
             [
              1,
              "#f0f921"
             ]
            ],
            "type": "heatmapgl"
           }
          ],
          "histogram": [
           {
            "marker": {
             "pattern": {
              "fillmode": "overlay",
              "size": 10,
              "solidity": 0.2
             }
            },
            "type": "histogram"
           }
          ],
          "histogram2d": [
           {
            "colorbar": {
             "outlinewidth": 0,
             "ticks": ""
            },
            "colorscale": [
             [
              0,
              "#0d0887"
             ],
             [
              0.1111111111111111,
              "#46039f"
             ],
             [
              0.2222222222222222,
              "#7201a8"
             ],
             [
              0.3333333333333333,
              "#9c179e"
             ],
             [
              0.4444444444444444,
              "#bd3786"
             ],
             [
              0.5555555555555556,
              "#d8576b"
             ],
             [
              0.6666666666666666,
              "#ed7953"
             ],
             [
              0.7777777777777778,
              "#fb9f3a"
             ],
             [
              0.8888888888888888,
              "#fdca26"
             ],
             [
              1,
              "#f0f921"
             ]
            ],
            "type": "histogram2d"
           }
          ],
          "histogram2dcontour": [
           {
            "colorbar": {
             "outlinewidth": 0,
             "ticks": ""
            },
            "colorscale": [
             [
              0,
              "#0d0887"
             ],
             [
              0.1111111111111111,
              "#46039f"
             ],
             [
              0.2222222222222222,
              "#7201a8"
             ],
             [
              0.3333333333333333,
              "#9c179e"
             ],
             [
              0.4444444444444444,
              "#bd3786"
             ],
             [
              0.5555555555555556,
              "#d8576b"
             ],
             [
              0.6666666666666666,
              "#ed7953"
             ],
             [
              0.7777777777777778,
              "#fb9f3a"
             ],
             [
              0.8888888888888888,
              "#fdca26"
             ],
             [
              1,
              "#f0f921"
             ]
            ],
            "type": "histogram2dcontour"
           }
          ],
          "mesh3d": [
           {
            "colorbar": {
             "outlinewidth": 0,
             "ticks": ""
            },
            "type": "mesh3d"
           }
          ],
          "parcoords": [
           {
            "line": {
             "colorbar": {
              "outlinewidth": 0,
              "ticks": ""
             }
            },
            "type": "parcoords"
           }
          ],
          "pie": [
           {
            "automargin": true,
            "type": "pie"
           }
          ],
          "scatter": [
           {
            "marker": {
             "colorbar": {
              "outlinewidth": 0,
              "ticks": ""
             }
            },
            "type": "scatter"
           }
          ],
          "scatter3d": [
           {
            "line": {
             "colorbar": {
              "outlinewidth": 0,
              "ticks": ""
             }
            },
            "marker": {
             "colorbar": {
              "outlinewidth": 0,
              "ticks": ""
             }
            },
            "type": "scatter3d"
           }
          ],
          "scattercarpet": [
           {
            "marker": {
             "colorbar": {
              "outlinewidth": 0,
              "ticks": ""
             }
            },
            "type": "scattercarpet"
           }
          ],
          "scattergeo": [
           {
            "marker": {
             "colorbar": {
              "outlinewidth": 0,
              "ticks": ""
             }
            },
            "type": "scattergeo"
           }
          ],
          "scattergl": [
           {
            "marker": {
             "colorbar": {
              "outlinewidth": 0,
              "ticks": ""
             }
            },
            "type": "scattergl"
           }
          ],
          "scattermapbox": [
           {
            "marker": {
             "colorbar": {
              "outlinewidth": 0,
              "ticks": ""
             }
            },
            "type": "scattermapbox"
           }
          ],
          "scatterpolar": [
           {
            "marker": {
             "colorbar": {
              "outlinewidth": 0,
              "ticks": ""
             }
            },
            "type": "scatterpolar"
           }
          ],
          "scatterpolargl": [
           {
            "marker": {
             "colorbar": {
              "outlinewidth": 0,
              "ticks": ""
             }
            },
            "type": "scatterpolargl"
           }
          ],
          "scatterternary": [
           {
            "marker": {
             "colorbar": {
              "outlinewidth": 0,
              "ticks": ""
             }
            },
            "type": "scatterternary"
           }
          ],
          "surface": [
           {
            "colorbar": {
             "outlinewidth": 0,
             "ticks": ""
            },
            "colorscale": [
             [
              0,
              "#0d0887"
             ],
             [
              0.1111111111111111,
              "#46039f"
             ],
             [
              0.2222222222222222,
              "#7201a8"
             ],
             [
              0.3333333333333333,
              "#9c179e"
             ],
             [
              0.4444444444444444,
              "#bd3786"
             ],
             [
              0.5555555555555556,
              "#d8576b"
             ],
             [
              0.6666666666666666,
              "#ed7953"
             ],
             [
              0.7777777777777778,
              "#fb9f3a"
             ],
             [
              0.8888888888888888,
              "#fdca26"
             ],
             [
              1,
              "#f0f921"
             ]
            ],
            "type": "surface"
           }
          ],
          "table": [
           {
            "cells": {
             "fill": {
              "color": "#EBF0F8"
             },
             "line": {
              "color": "white"
             }
            },
            "header": {
             "fill": {
              "color": "#C8D4E3"
             },
             "line": {
              "color": "white"
             }
            },
            "type": "table"
           }
          ]
         },
         "layout": {
          "annotationdefaults": {
           "arrowcolor": "#2a3f5f",
           "arrowhead": 0,
           "arrowwidth": 1
          },
          "autotypenumbers": "strict",
          "coloraxis": {
           "colorbar": {
            "outlinewidth": 0,
            "ticks": ""
           }
          },
          "colorscale": {
           "diverging": [
            [
             0,
             "#8e0152"
            ],
            [
             0.1,
             "#c51b7d"
            ],
            [
             0.2,
             "#de77ae"
            ],
            [
             0.3,
             "#f1b6da"
            ],
            [
             0.4,
             "#fde0ef"
            ],
            [
             0.5,
             "#f7f7f7"
            ],
            [
             0.6,
             "#e6f5d0"
            ],
            [
             0.7,
             "#b8e186"
            ],
            [
             0.8,
             "#7fbc41"
            ],
            [
             0.9,
             "#4d9221"
            ],
            [
             1,
             "#276419"
            ]
           ],
           "sequential": [
            [
             0,
             "#0d0887"
            ],
            [
             0.1111111111111111,
             "#46039f"
            ],
            [
             0.2222222222222222,
             "#7201a8"
            ],
            [
             0.3333333333333333,
             "#9c179e"
            ],
            [
             0.4444444444444444,
             "#bd3786"
            ],
            [
             0.5555555555555556,
             "#d8576b"
            ],
            [
             0.6666666666666666,
             "#ed7953"
            ],
            [
             0.7777777777777778,
             "#fb9f3a"
            ],
            [
             0.8888888888888888,
             "#fdca26"
            ],
            [
             1,
             "#f0f921"
            ]
           ],
           "sequentialminus": [
            [
             0,
             "#0d0887"
            ],
            [
             0.1111111111111111,
             "#46039f"
            ],
            [
             0.2222222222222222,
             "#7201a8"
            ],
            [
             0.3333333333333333,
             "#9c179e"
            ],
            [
             0.4444444444444444,
             "#bd3786"
            ],
            [
             0.5555555555555556,
             "#d8576b"
            ],
            [
             0.6666666666666666,
             "#ed7953"
            ],
            [
             0.7777777777777778,
             "#fb9f3a"
            ],
            [
             0.8888888888888888,
             "#fdca26"
            ],
            [
             1,
             "#f0f921"
            ]
           ]
          },
          "colorway": [
           "#636efa",
           "#EF553B",
           "#00cc96",
           "#ab63fa",
           "#FFA15A",
           "#19d3f3",
           "#FF6692",
           "#B6E880",
           "#FF97FF",
           "#FECB52"
          ],
          "font": {
           "color": "#2a3f5f"
          },
          "geo": {
           "bgcolor": "white",
           "lakecolor": "white",
           "landcolor": "#E5ECF6",
           "showlakes": true,
           "showland": true,
           "subunitcolor": "white"
          },
          "hoverlabel": {
           "align": "left"
          },
          "hovermode": "closest",
          "mapbox": {
           "style": "light"
          },
          "paper_bgcolor": "white",
          "plot_bgcolor": "#E5ECF6",
          "polar": {
           "angularaxis": {
            "gridcolor": "white",
            "linecolor": "white",
            "ticks": ""
           },
           "bgcolor": "#E5ECF6",
           "radialaxis": {
            "gridcolor": "white",
            "linecolor": "white",
            "ticks": ""
           }
          },
          "scene": {
           "xaxis": {
            "backgroundcolor": "#E5ECF6",
            "gridcolor": "white",
            "gridwidth": 2,
            "linecolor": "white",
            "showbackground": true,
            "ticks": "",
            "zerolinecolor": "white"
           },
           "yaxis": {
            "backgroundcolor": "#E5ECF6",
            "gridcolor": "white",
            "gridwidth": 2,
            "linecolor": "white",
            "showbackground": true,
            "ticks": "",
            "zerolinecolor": "white"
           },
           "zaxis": {
            "backgroundcolor": "#E5ECF6",
            "gridcolor": "white",
            "gridwidth": 2,
            "linecolor": "white",
            "showbackground": true,
            "ticks": "",
            "zerolinecolor": "white"
           }
          },
          "shapedefaults": {
           "line": {
            "color": "#2a3f5f"
           }
          },
          "ternary": {
           "aaxis": {
            "gridcolor": "white",
            "linecolor": "white",
            "ticks": ""
           },
           "baxis": {
            "gridcolor": "white",
            "linecolor": "white",
            "ticks": ""
           },
           "bgcolor": "#E5ECF6",
           "caxis": {
            "gridcolor": "white",
            "linecolor": "white",
            "ticks": ""
           }
          },
          "title": {
           "x": 0.05
          },
          "xaxis": {
           "automargin": true,
           "gridcolor": "white",
           "linecolor": "white",
           "ticks": "",
           "title": {
            "standoff": 15
           },
           "zerolinecolor": "white",
           "zerolinewidth": 2
          },
          "yaxis": {
           "automargin": true,
           "gridcolor": "white",
           "linecolor": "white",
           "ticks": "",
           "title": {
            "standoff": 15
           },
           "zerolinecolor": "white",
           "zerolinewidth": 2
          }
         }
        },
        "title": {
         "font": {
          "size": 24
         },
         "text": "Industry by Count of Companies"
        },
        "width": 800,
        "xaxis": {
         "anchor": "y",
         "categoryarray": [
          "Diversified Financials",
          "Banking",
          "Oil & Gas Operations",
          "Retailing",
          "Technology Hardware & Equipment",
          "Consumer Durables",
          "IT Software & Services",
          "Insurance",
          "Telecommunications Services",
          "Media",
          "Drugs & Biotechnology",
          "Food, Drink & Tobacco",
          "Semiconductors",
          "Household & Personal Products",
          "Materials",
          "Conglomerates",
          "Trading Companies",
          "Transportation",
          "Construction",
          "Aerospace & Defense",
          "Utilities",
          "Health Care Equipment & Services",
          "Chemicals",
          "Capital Goods",
          "Business Services & Supplies",
          "Hotels, Restaurants & Leisure",
          "Food Markets",
          "Food & Drink",
          "Automotive"
         ],
         "categoryorder": "array",
         "domain": [
          0,
          1
         ],
         "tickfont": {
          "size": 14
         },
         "title": {
          "font": {
           "size": 20
          },
          "text": "Industry"
         }
        },
        "yaxis": {
         "anchor": "x",
         "categoryarray": [
          "Automotive",
          "Food & Drink",
          "Food Markets",
          "Hotels, Restaurants & Leisure",
          "Business Services & Supplies",
          "Capital Goods",
          "Chemicals",
          "Health Care Equipment & Services",
          "Utilities",
          "Aerospace & Defense",
          "Construction",
          "Transportation",
          "Trading Companies",
          "Conglomerates",
          "Materials",
          "Household & Personal Products",
          "Semiconductors",
          "Food, Drink & Tobacco",
          "Drugs & Biotechnology",
          "Media",
          "Telecommunications Services",
          "Insurance",
          "IT Software & Services",
          "Consumer Durables",
          "Technology Hardware & Equipment",
          "Retailing",
          "Oil & Gas Operations",
          "Banking",
          "Diversified Financials"
         ],
         "categoryorder": "array",
         "domain": [
          0,
          1
         ],
         "tickfont": {
          "size": 14
         },
         "title": {
          "font": {
           "size": 20
          },
          "text": "Industry"
         }
        }
       }
      },
      "text/html": [
       "<div>                            <div id=\"ac285b56-4152-4fe0-a0c1-7e17ed4e29b4\" class=\"plotly-graph-div\" style=\"height:800px; width:800px;\"></div>            <script type=\"text/javascript\">                require([\"plotly\"], function(Plotly) {                    window.PLOTLYENV=window.PLOTLYENV || {};                                    if (document.getElementById(\"ac285b56-4152-4fe0-a0c1-7e17ed4e29b4\")) {                    Plotly.newPlot(                        \"ac285b56-4152-4fe0-a0c1-7e17ed4e29b4\",                        [{\"alignmentgroup\":\"True\",\"hovertemplate\":\"Industry=%{y}<extra></extra>\",\"legendgroup\":\"Diversified Financials\",\"marker\":{\"color\":\"#636efa\",\"pattern\":{\"shape\":\"\"}},\"name\":\"Diversified Financials\",\"offsetgroup\":\"Diversified Financials\",\"orientation\":\"v\",\"showlegend\":true,\"textposition\":\"auto\",\"x\":[\"Diversified Financials\",\"Diversified Financials\",\"Diversified Financials\",\"Diversified Financials\",\"Diversified Financials\",\"Diversified Financials\",\"Diversified Financials\",\"Diversified Financials\",\"Diversified Financials\",\"Diversified Financials\",\"Diversified Financials\",\"Diversified Financials\",\"Diversified Financials\",\"Diversified Financials\",\"Diversified Financials\",\"Diversified Financials\",\"Diversified Financials\",\"Diversified Financials\",\"Diversified Financials\",\"Diversified Financials\",\"Diversified Financials\",\"Diversified Financials\",\"Diversified Financials\",\"Diversified Financials\",\"Diversified Financials\",\"Diversified Financials\",\"Diversified Financials\",\"Diversified Financials\",\"Diversified Financials\",\"Diversified Financials\",\"Diversified Financials\",\"Diversified Financials\",\"Diversified Financials\",\"Diversified Financials\",\"Diversified Financials\",\"Diversified Financials\",\"Diversified Financials\",\"Diversified Financials\",\"Diversified Financials\",\"Diversified Financials\",\"Diversified Financials\",\"Diversified Financials\",\"Diversified Financials\",\"Diversified Financials\",\"Diversified Financials\",\"Diversified Financials\",\"Diversified Financials\",\"Diversified Financials\",\"Diversified Financials\",\"Diversified Financials\",\"Diversified Financials\",\"Diversified Financials\",\"Diversified Financials\",\"Diversified Financials\",\"Diversified Financials\",\"Diversified Financials\",\"Diversified Financials\",\"Diversified Financials\",\"Diversified Financials\",\"Diversified Financials\",\"Diversified Financials\",\"Diversified Financials\",\"Diversified Financials\",\"Diversified Financials\",\"Diversified Financials\",\"Diversified Financials\",\"Diversified Financials\",\"Diversified Financials\",\"Diversified Financials\",\"Diversified Financials\",\"Diversified Financials\",\"Diversified Financials\",\"Diversified Financials\",\"Diversified Financials\",\"Diversified Financials\",\"Diversified Financials\",\"Diversified Financials\",\"Diversified Financials\",\"Diversified Financials\",\"Diversified Financials\",\"Diversified Financials\",\"Diversified Financials\",\"Diversified Financials\",\"Diversified Financials\",\"Diversified Financials\",\"Diversified Financials\",\"Diversified Financials\",\"Diversified Financials\",\"Diversified Financials\",\"Diversified Financials\",\"Diversified Financials\",\"Diversified Financials\",\"Diversified Financials\",\"Diversified Financials\",\"Diversified Financials\",\"Diversified Financials\",\"Diversified Financials\",\"Diversified Financials\",\"Diversified Financials\",\"Diversified Financials\",\"Diversified Financials\",\"Diversified Financials\",\"Diversified Financials\",\"Diversified Financials\",\"Diversified Financials\",\"Diversified Financials\",\"Diversified Financials\",\"Diversified Financials\",\"Diversified Financials\",\"Diversified Financials\",\"Diversified Financials\",\"Diversified Financials\",\"Diversified Financials\",\"Diversified Financials\",\"Diversified Financials\",\"Diversified Financials\",\"Diversified Financials\",\"Diversified Financials\",\"Diversified Financials\",\"Diversified Financials\",\"Diversified Financials\",\"Diversified Financials\",\"Diversified Financials\",\"Diversified Financials\",\"Diversified Financials\",\"Diversified Financials\",\"Diversified Financials\",\"Diversified Financials\",\"Diversified Financials\",\"Diversified Financials\",\"Diversified Financials\",\"Diversified Financials\",\"Diversified Financials\",\"Diversified Financials\",\"Diversified Financials\",\"Diversified Financials\",\"Diversified Financials\",\"Diversified Financials\",\"Diversified Financials\",\"Diversified Financials\",\"Diversified Financials\",\"Diversified Financials\",\"Diversified Financials\",\"Diversified Financials\",\"Diversified Financials\",\"Diversified Financials\"],\"xaxis\":\"x\",\"y\":[\"Diversified Financials\",\"Diversified Financials\",\"Diversified Financials\",\"Diversified Financials\",\"Diversified Financials\",\"Diversified Financials\",\"Diversified Financials\",\"Diversified Financials\",\"Diversified Financials\",\"Diversified Financials\",\"Diversified Financials\",\"Diversified Financials\",\"Diversified Financials\",\"Diversified Financials\",\"Diversified Financials\",\"Diversified Financials\",\"Diversified Financials\",\"Diversified Financials\",\"Diversified Financials\",\"Diversified Financials\",\"Diversified Financials\",\"Diversified Financials\",\"Diversified Financials\",\"Diversified Financials\",\"Diversified Financials\",\"Diversified Financials\",\"Diversified Financials\",\"Diversified Financials\",\"Diversified Financials\",\"Diversified Financials\",\"Diversified Financials\",\"Diversified Financials\",\"Diversified Financials\",\"Diversified Financials\",\"Diversified Financials\",\"Diversified Financials\",\"Diversified Financials\",\"Diversified Financials\",\"Diversified Financials\",\"Diversified Financials\",\"Diversified Financials\",\"Diversified Financials\",\"Diversified Financials\",\"Diversified Financials\",\"Diversified Financials\",\"Diversified Financials\",\"Diversified Financials\",\"Diversified Financials\",\"Diversified Financials\",\"Diversified Financials\",\"Diversified Financials\",\"Diversified Financials\",\"Diversified Financials\",\"Diversified Financials\",\"Diversified Financials\",\"Diversified Financials\",\"Diversified Financials\",\"Diversified Financials\",\"Diversified Financials\",\"Diversified Financials\",\"Diversified Financials\",\"Diversified Financials\",\"Diversified Financials\",\"Diversified Financials\",\"Diversified Financials\",\"Diversified Financials\",\"Diversified Financials\",\"Diversified Financials\",\"Diversified Financials\",\"Diversified Financials\",\"Diversified Financials\",\"Diversified Financials\",\"Diversified Financials\",\"Diversified Financials\",\"Diversified Financials\",\"Diversified Financials\",\"Diversified Financials\",\"Diversified Financials\",\"Diversified Financials\",\"Diversified Financials\",\"Diversified Financials\",\"Diversified Financials\",\"Diversified Financials\",\"Diversified Financials\",\"Diversified Financials\",\"Diversified Financials\",\"Diversified Financials\",\"Diversified Financials\",\"Diversified Financials\",\"Diversified Financials\",\"Diversified Financials\",\"Diversified Financials\",\"Diversified Financials\",\"Diversified Financials\",\"Diversified Financials\",\"Diversified Financials\",\"Diversified Financials\",\"Diversified Financials\",\"Diversified Financials\",\"Diversified Financials\",\"Diversified Financials\",\"Diversified Financials\",\"Diversified Financials\",\"Diversified Financials\",\"Diversified Financials\",\"Diversified Financials\",\"Diversified Financials\",\"Diversified Financials\",\"Diversified Financials\",\"Diversified Financials\",\"Diversified Financials\",\"Diversified Financials\",\"Diversified Financials\",\"Diversified Financials\",\"Diversified Financials\",\"Diversified Financials\",\"Diversified Financials\",\"Diversified Financials\",\"Diversified Financials\",\"Diversified Financials\",\"Diversified Financials\",\"Diversified Financials\",\"Diversified Financials\",\"Diversified Financials\",\"Diversified Financials\",\"Diversified Financials\",\"Diversified Financials\",\"Diversified Financials\",\"Diversified Financials\",\"Diversified Financials\",\"Diversified Financials\",\"Diversified Financials\",\"Diversified Financials\",\"Diversified Financials\",\"Diversified Financials\",\"Diversified Financials\",\"Diversified Financials\",\"Diversified Financials\",\"Diversified Financials\",\"Diversified Financials\",\"Diversified Financials\",\"Diversified Financials\",\"Diversified Financials\",\"Diversified Financials\",\"Diversified Financials\",\"Diversified Financials\"],\"yaxis\":\"y\",\"type\":\"bar\"},{\"alignmentgroup\":\"True\",\"hovertemplate\":\"Industry=%{y}<extra></extra>\",\"legendgroup\":\"Banking\",\"marker\":{\"color\":\"#EF553B\",\"pattern\":{\"shape\":\"\"}},\"name\":\"Banking\",\"offsetgroup\":\"Banking\",\"orientation\":\"v\",\"showlegend\":true,\"textposition\":\"auto\",\"x\":[\"Banking\",\"Banking\",\"Banking\",\"Banking\",\"Banking\",\"Banking\",\"Banking\",\"Banking\",\"Banking\",\"Banking\",\"Banking\",\"Banking\",\"Banking\",\"Banking\",\"Banking\",\"Banking\",\"Banking\",\"Banking\",\"Banking\",\"Banking\",\"Banking\",\"Banking\",\"Banking\",\"Banking\",\"Banking\",\"Banking\",\"Banking\",\"Banking\",\"Banking\",\"Banking\",\"Banking\",\"Banking\",\"Banking\",\"Banking\",\"Banking\",\"Banking\",\"Banking\",\"Banking\",\"Banking\",\"Banking\",\"Banking\",\"Banking\",\"Banking\",\"Banking\",\"Banking\",\"Banking\",\"Banking\",\"Banking\",\"Banking\",\"Banking\",\"Banking\",\"Banking\",\"Banking\",\"Banking\",\"Banking\",\"Banking\",\"Banking\",\"Banking\",\"Banking\",\"Banking\",\"Banking\",\"Banking\",\"Banking\",\"Banking\",\"Banking\",\"Banking\",\"Banking\",\"Banking\",\"Banking\",\"Banking\",\"Banking\",\"Banking\",\"Banking\",\"Banking\",\"Banking\",\"Banking\",\"Banking\",\"Banking\",\"Banking\",\"Banking\",\"Banking\",\"Banking\",\"Banking\",\"Banking\",\"Banking\",\"Banking\",\"Banking\",\"Banking\",\"Banking\",\"Banking\",\"Banking\",\"Banking\",\"Banking\",\"Banking\",\"Banking\",\"Banking\",\"Banking\",\"Banking\",\"Banking\",\"Banking\",\"Banking\",\"Banking\",\"Banking\",\"Banking\",\"Banking\",\"Banking\",\"Banking\",\"Banking\",\"Banking\",\"Banking\",\"Banking\",\"Banking\",\"Banking\",\"Banking\",\"Banking\",\"Banking\",\"Banking\",\"Banking\",\"Banking\",\"Banking\",\"Banking\",\"Banking\",\"Banking\",\"Banking\",\"Banking\",\"Banking\",\"Banking\",\"Banking\",\"Banking\",\"Banking\",\"Banking\",\"Banking\",\"Banking\",\"Banking\",\"Banking\",\"Banking\",\"Banking\",\"Banking\",\"Banking\",\"Banking\",\"Banking\",\"Banking\",\"Banking\",\"Banking\",\"Banking\",\"Banking\",\"Banking\",\"Banking\",\"Banking\",\"Banking\",\"Banking\",\"Banking\",\"Banking\",\"Banking\",\"Banking\",\"Banking\",\"Banking\",\"Banking\",\"Banking\",\"Banking\",\"Banking\",\"Banking\",\"Banking\",\"Banking\",\"Banking\",\"Banking\",\"Banking\",\"Banking\",\"Banking\",\"Banking\",\"Banking\",\"Banking\",\"Banking\",\"Banking\",\"Banking\",\"Banking\",\"Banking\",\"Banking\",\"Banking\",\"Banking\",\"Banking\",\"Banking\",\"Banking\",\"Banking\",\"Banking\",\"Banking\",\"Banking\",\"Banking\",\"Banking\",\"Banking\",\"Banking\",\"Banking\",\"Banking\",\"Banking\",\"Banking\",\"Banking\",\"Banking\",\"Banking\",\"Banking\",\"Banking\",\"Banking\",\"Banking\",\"Banking\",\"Banking\",\"Banking\",\"Banking\",\"Banking\",\"Banking\",\"Banking\",\"Banking\",\"Banking\",\"Banking\",\"Banking\",\"Banking\",\"Banking\",\"Banking\",\"Banking\",\"Banking\",\"Banking\",\"Banking\",\"Banking\",\"Banking\",\"Banking\",\"Banking\",\"Banking\",\"Banking\",\"Banking\",\"Banking\",\"Banking\",\"Banking\",\"Banking\",\"Banking\",\"Banking\",\"Banking\",\"Banking\",\"Banking\",\"Banking\",\"Banking\",\"Banking\",\"Banking\",\"Banking\",\"Banking\",\"Banking\",\"Banking\",\"Banking\",\"Banking\",\"Banking\",\"Banking\",\"Banking\",\"Banking\",\"Banking\",\"Banking\",\"Banking\",\"Banking\",\"Banking\",\"Banking\",\"Banking\",\"Banking\",\"Banking\",\"Banking\",\"Banking\",\"Banking\",\"Banking\",\"Banking\",\"Banking\",\"Banking\",\"Banking\",\"Banking\",\"Banking\",\"Banking\",\"Banking\",\"Banking\",\"Banking\",\"Banking\",\"Banking\",\"Banking\",\"Banking\",\"Banking\",\"Banking\",\"Banking\",\"Banking\",\"Banking\",\"Banking\",\"Banking\",\"Banking\",\"Banking\",\"Banking\",\"Banking\",\"Banking\"],\"xaxis\":\"x\",\"y\":[\"Banking\",\"Banking\",\"Banking\",\"Banking\",\"Banking\",\"Banking\",\"Banking\",\"Banking\",\"Banking\",\"Banking\",\"Banking\",\"Banking\",\"Banking\",\"Banking\",\"Banking\",\"Banking\",\"Banking\",\"Banking\",\"Banking\",\"Banking\",\"Banking\",\"Banking\",\"Banking\",\"Banking\",\"Banking\",\"Banking\",\"Banking\",\"Banking\",\"Banking\",\"Banking\",\"Banking\",\"Banking\",\"Banking\",\"Banking\",\"Banking\",\"Banking\",\"Banking\",\"Banking\",\"Banking\",\"Banking\",\"Banking\",\"Banking\",\"Banking\",\"Banking\",\"Banking\",\"Banking\",\"Banking\",\"Banking\",\"Banking\",\"Banking\",\"Banking\",\"Banking\",\"Banking\",\"Banking\",\"Banking\",\"Banking\",\"Banking\",\"Banking\",\"Banking\",\"Banking\",\"Banking\",\"Banking\",\"Banking\",\"Banking\",\"Banking\",\"Banking\",\"Banking\",\"Banking\",\"Banking\",\"Banking\",\"Banking\",\"Banking\",\"Banking\",\"Banking\",\"Banking\",\"Banking\",\"Banking\",\"Banking\",\"Banking\",\"Banking\",\"Banking\",\"Banking\",\"Banking\",\"Banking\",\"Banking\",\"Banking\",\"Banking\",\"Banking\",\"Banking\",\"Banking\",\"Banking\",\"Banking\",\"Banking\",\"Banking\",\"Banking\",\"Banking\",\"Banking\",\"Banking\",\"Banking\",\"Banking\",\"Banking\",\"Banking\",\"Banking\",\"Banking\",\"Banking\",\"Banking\",\"Banking\",\"Banking\",\"Banking\",\"Banking\",\"Banking\",\"Banking\",\"Banking\",\"Banking\",\"Banking\",\"Banking\",\"Banking\",\"Banking\",\"Banking\",\"Banking\",\"Banking\",\"Banking\",\"Banking\",\"Banking\",\"Banking\",\"Banking\",\"Banking\",\"Banking\",\"Banking\",\"Banking\",\"Banking\",\"Banking\",\"Banking\",\"Banking\",\"Banking\",\"Banking\",\"Banking\",\"Banking\",\"Banking\",\"Banking\",\"Banking\",\"Banking\",\"Banking\",\"Banking\",\"Banking\",\"Banking\",\"Banking\",\"Banking\",\"Banking\",\"Banking\",\"Banking\",\"Banking\",\"Banking\",\"Banking\",\"Banking\",\"Banking\",\"Banking\",\"Banking\",\"Banking\",\"Banking\",\"Banking\",\"Banking\",\"Banking\",\"Banking\",\"Banking\",\"Banking\",\"Banking\",\"Banking\",\"Banking\",\"Banking\",\"Banking\",\"Banking\",\"Banking\",\"Banking\",\"Banking\",\"Banking\",\"Banking\",\"Banking\",\"Banking\",\"Banking\",\"Banking\",\"Banking\",\"Banking\",\"Banking\",\"Banking\",\"Banking\",\"Banking\",\"Banking\",\"Banking\",\"Banking\",\"Banking\",\"Banking\",\"Banking\",\"Banking\",\"Banking\",\"Banking\",\"Banking\",\"Banking\",\"Banking\",\"Banking\",\"Banking\",\"Banking\",\"Banking\",\"Banking\",\"Banking\",\"Banking\",\"Banking\",\"Banking\",\"Banking\",\"Banking\",\"Banking\",\"Banking\",\"Banking\",\"Banking\",\"Banking\",\"Banking\",\"Banking\",\"Banking\",\"Banking\",\"Banking\",\"Banking\",\"Banking\",\"Banking\",\"Banking\",\"Banking\",\"Banking\",\"Banking\",\"Banking\",\"Banking\",\"Banking\",\"Banking\",\"Banking\",\"Banking\",\"Banking\",\"Banking\",\"Banking\",\"Banking\",\"Banking\",\"Banking\",\"Banking\",\"Banking\",\"Banking\",\"Banking\",\"Banking\",\"Banking\",\"Banking\",\"Banking\",\"Banking\",\"Banking\",\"Banking\",\"Banking\",\"Banking\",\"Banking\",\"Banking\",\"Banking\",\"Banking\",\"Banking\",\"Banking\",\"Banking\",\"Banking\",\"Banking\",\"Banking\",\"Banking\",\"Banking\",\"Banking\",\"Banking\",\"Banking\",\"Banking\",\"Banking\",\"Banking\",\"Banking\",\"Banking\",\"Banking\",\"Banking\",\"Banking\",\"Banking\",\"Banking\",\"Banking\",\"Banking\",\"Banking\",\"Banking\",\"Banking\",\"Banking\",\"Banking\",\"Banking\",\"Banking\",\"Banking\",\"Banking\",\"Banking\"],\"yaxis\":\"y\",\"type\":\"bar\"},{\"alignmentgroup\":\"True\",\"hovertemplate\":\"Industry=%{y}<extra></extra>\",\"legendgroup\":\"Oil & Gas Operations\",\"marker\":{\"color\":\"#00cc96\",\"pattern\":{\"shape\":\"\"}},\"name\":\"Oil & Gas Operations\",\"offsetgroup\":\"Oil & Gas Operations\",\"orientation\":\"v\",\"showlegend\":true,\"textposition\":\"auto\",\"x\":[\"Oil & Gas Operations\",\"Oil & Gas Operations\",\"Oil & Gas Operations\",\"Oil & Gas Operations\",\"Oil & Gas Operations\",\"Oil & Gas Operations\",\"Oil & Gas Operations\",\"Oil & Gas Operations\",\"Oil & Gas Operations\",\"Oil & Gas Operations\",\"Oil & Gas Operations\",\"Oil & Gas Operations\",\"Oil & Gas Operations\",\"Oil & Gas Operations\",\"Oil & Gas Operations\",\"Oil & Gas Operations\",\"Oil & Gas Operations\",\"Oil & Gas Operations\",\"Oil & Gas Operations\",\"Oil & Gas Operations\",\"Oil & Gas Operations\",\"Oil & Gas Operations\",\"Oil & Gas Operations\",\"Oil & Gas Operations\",\"Oil & Gas Operations\",\"Oil & Gas Operations\",\"Oil & Gas Operations\",\"Oil & Gas Operations\",\"Oil & Gas Operations\",\"Oil & Gas Operations\",\"Oil & Gas Operations\",\"Oil & Gas Operations\",\"Oil & Gas Operations\",\"Oil & Gas Operations\",\"Oil & Gas Operations\",\"Oil & Gas Operations\",\"Oil & Gas Operations\",\"Oil & Gas Operations\",\"Oil & Gas Operations\",\"Oil & Gas Operations\",\"Oil & Gas Operations\",\"Oil & Gas Operations\",\"Oil & Gas Operations\",\"Oil & Gas Operations\",\"Oil & Gas Operations\",\"Oil & Gas Operations\",\"Oil & Gas Operations\",\"Oil & Gas Operations\",\"Oil & Gas Operations\",\"Oil & Gas Operations\",\"Oil & Gas Operations\",\"Oil & Gas Operations\",\"Oil & Gas Operations\",\"Oil & Gas Operations\",\"Oil & Gas Operations\",\"Oil & Gas Operations\",\"Oil & Gas Operations\",\"Oil & Gas Operations\",\"Oil & Gas Operations\",\"Oil & Gas Operations\",\"Oil & Gas Operations\",\"Oil & Gas Operations\",\"Oil & Gas Operations\",\"Oil & Gas Operations\",\"Oil & Gas Operations\",\"Oil & Gas Operations\",\"Oil & Gas Operations\",\"Oil & Gas Operations\",\"Oil & Gas Operations\",\"Oil & Gas Operations\",\"Oil & Gas Operations\",\"Oil & Gas Operations\",\"Oil & Gas Operations\",\"Oil & Gas Operations\",\"Oil & Gas Operations\",\"Oil & Gas Operations\",\"Oil & Gas Operations\",\"Oil & Gas Operations\",\"Oil & Gas Operations\",\"Oil & Gas Operations\",\"Oil & Gas Operations\",\"Oil & Gas Operations\",\"Oil & Gas Operations\",\"Oil & Gas Operations\",\"Oil & Gas Operations\",\"Oil & Gas Operations\",\"Oil & Gas Operations\",\"Oil & Gas Operations\",\"Oil & Gas Operations\",\"Oil & Gas Operations\",\"Oil & Gas Operations\",\"Oil & Gas Operations\",\"Oil & Gas Operations\",\"Oil & Gas Operations\",\"Oil & Gas Operations\",\"Oil & Gas Operations\",\"Oil & Gas Operations\",\"Oil & Gas Operations\",\"Oil & Gas Operations\",\"Oil & Gas Operations\",\"Oil & Gas Operations\",\"Oil & Gas Operations\",\"Oil & Gas Operations\",\"Oil & Gas Operations\",\"Oil & Gas Operations\",\"Oil & Gas Operations\"],\"xaxis\":\"x\",\"y\":[\"Oil & Gas Operations\",\"Oil & Gas Operations\",\"Oil & Gas Operations\",\"Oil & Gas Operations\",\"Oil & Gas Operations\",\"Oil & Gas Operations\",\"Oil & Gas Operations\",\"Oil & Gas Operations\",\"Oil & Gas Operations\",\"Oil & Gas Operations\",\"Oil & Gas Operations\",\"Oil & Gas Operations\",\"Oil & Gas Operations\",\"Oil & Gas Operations\",\"Oil & Gas Operations\",\"Oil & Gas Operations\",\"Oil & Gas Operations\",\"Oil & Gas Operations\",\"Oil & Gas Operations\",\"Oil & Gas Operations\",\"Oil & Gas Operations\",\"Oil & Gas Operations\",\"Oil & Gas Operations\",\"Oil & Gas Operations\",\"Oil & Gas Operations\",\"Oil & Gas Operations\",\"Oil & Gas Operations\",\"Oil & Gas Operations\",\"Oil & Gas Operations\",\"Oil & Gas Operations\",\"Oil & Gas Operations\",\"Oil & Gas Operations\",\"Oil & Gas Operations\",\"Oil & Gas Operations\",\"Oil & Gas Operations\",\"Oil & Gas Operations\",\"Oil & Gas Operations\",\"Oil & Gas Operations\",\"Oil & Gas Operations\",\"Oil & Gas Operations\",\"Oil & Gas Operations\",\"Oil & Gas Operations\",\"Oil & Gas Operations\",\"Oil & Gas Operations\",\"Oil & Gas Operations\",\"Oil & Gas Operations\",\"Oil & Gas Operations\",\"Oil & Gas Operations\",\"Oil & Gas Operations\",\"Oil & Gas Operations\",\"Oil & Gas Operations\",\"Oil & Gas Operations\",\"Oil & Gas Operations\",\"Oil & Gas Operations\",\"Oil & Gas Operations\",\"Oil & Gas Operations\",\"Oil & Gas Operations\",\"Oil & Gas Operations\",\"Oil & Gas Operations\",\"Oil & Gas Operations\",\"Oil & Gas Operations\",\"Oil & Gas Operations\",\"Oil & Gas Operations\",\"Oil & Gas Operations\",\"Oil & Gas Operations\",\"Oil & Gas Operations\",\"Oil & Gas Operations\",\"Oil & Gas Operations\",\"Oil & Gas Operations\",\"Oil & Gas Operations\",\"Oil & Gas Operations\",\"Oil & Gas Operations\",\"Oil & Gas Operations\",\"Oil & Gas Operations\",\"Oil & Gas Operations\",\"Oil & Gas Operations\",\"Oil & Gas Operations\",\"Oil & Gas Operations\",\"Oil & Gas Operations\",\"Oil & Gas Operations\",\"Oil & Gas Operations\",\"Oil & Gas Operations\",\"Oil & Gas Operations\",\"Oil & Gas Operations\",\"Oil & Gas Operations\",\"Oil & Gas Operations\",\"Oil & Gas Operations\",\"Oil & Gas Operations\",\"Oil & Gas Operations\",\"Oil & Gas Operations\",\"Oil & Gas Operations\",\"Oil & Gas Operations\",\"Oil & Gas Operations\",\"Oil & Gas Operations\",\"Oil & Gas Operations\",\"Oil & Gas Operations\",\"Oil & Gas Operations\",\"Oil & Gas Operations\",\"Oil & Gas Operations\",\"Oil & Gas Operations\",\"Oil & Gas Operations\",\"Oil & Gas Operations\",\"Oil & Gas Operations\",\"Oil & Gas Operations\",\"Oil & Gas Operations\",\"Oil & Gas Operations\"],\"yaxis\":\"y\",\"type\":\"bar\"},{\"alignmentgroup\":\"True\",\"hovertemplate\":\"Industry=%{y}<extra></extra>\",\"legendgroup\":\"Retailing\",\"marker\":{\"color\":\"#ab63fa\",\"pattern\":{\"shape\":\"\"}},\"name\":\"Retailing\",\"offsetgroup\":\"Retailing\",\"orientation\":\"v\",\"showlegend\":true,\"textposition\":\"auto\",\"x\":[\"Retailing\",\"Retailing\",\"Retailing\",\"Retailing\",\"Retailing\",\"Retailing\",\"Retailing\",\"Retailing\",\"Retailing\",\"Retailing\",\"Retailing\",\"Retailing\",\"Retailing\",\"Retailing\",\"Retailing\",\"Retailing\",\"Retailing\",\"Retailing\",\"Retailing\",\"Retailing\",\"Retailing\",\"Retailing\",\"Retailing\",\"Retailing\",\"Retailing\",\"Retailing\",\"Retailing\",\"Retailing\",\"Retailing\",\"Retailing\",\"Retailing\",\"Retailing\",\"Retailing\",\"Retailing\",\"Retailing\",\"Retailing\",\"Retailing\",\"Retailing\",\"Retailing\",\"Retailing\",\"Retailing\",\"Retailing\",\"Retailing\",\"Retailing\",\"Retailing\",\"Retailing\",\"Retailing\",\"Retailing\",\"Retailing\",\"Retailing\",\"Retailing\",\"Retailing\",\"Retailing\",\"Retailing\",\"Retailing\",\"Retailing\",\"Retailing\",\"Retailing\",\"Retailing\",\"Retailing\",\"Retailing\",\"Retailing\",\"Retailing\",\"Retailing\",\"Retailing\",\"Retailing\",\"Retailing\",\"Retailing\",\"Retailing\"],\"xaxis\":\"x\",\"y\":[\"Retailing\",\"Retailing\",\"Retailing\",\"Retailing\",\"Retailing\",\"Retailing\",\"Retailing\",\"Retailing\",\"Retailing\",\"Retailing\",\"Retailing\",\"Retailing\",\"Retailing\",\"Retailing\",\"Retailing\",\"Retailing\",\"Retailing\",\"Retailing\",\"Retailing\",\"Retailing\",\"Retailing\",\"Retailing\",\"Retailing\",\"Retailing\",\"Retailing\",\"Retailing\",\"Retailing\",\"Retailing\",\"Retailing\",\"Retailing\",\"Retailing\",\"Retailing\",\"Retailing\",\"Retailing\",\"Retailing\",\"Retailing\",\"Retailing\",\"Retailing\",\"Retailing\",\"Retailing\",\"Retailing\",\"Retailing\",\"Retailing\",\"Retailing\",\"Retailing\",\"Retailing\",\"Retailing\",\"Retailing\",\"Retailing\",\"Retailing\",\"Retailing\",\"Retailing\",\"Retailing\",\"Retailing\",\"Retailing\",\"Retailing\",\"Retailing\",\"Retailing\",\"Retailing\",\"Retailing\",\"Retailing\",\"Retailing\",\"Retailing\",\"Retailing\",\"Retailing\",\"Retailing\",\"Retailing\",\"Retailing\",\"Retailing\"],\"yaxis\":\"y\",\"type\":\"bar\"},{\"alignmentgroup\":\"True\",\"hovertemplate\":\"Industry=%{y}<extra></extra>\",\"legendgroup\":\"Technology Hardware & Equipment\",\"marker\":{\"color\":\"#FFA15A\",\"pattern\":{\"shape\":\"\"}},\"name\":\"Technology Hardware & Equipment\",\"offsetgroup\":\"Technology Hardware & Equipment\",\"orientation\":\"v\",\"showlegend\":true,\"textposition\":\"auto\",\"x\":[\"Technology Hardware & Equipment\",\"Technology Hardware & Equipment\",\"Technology Hardware & Equipment\",\"Technology Hardware & Equipment\",\"Technology Hardware & Equipment\",\"Technology Hardware & Equipment\",\"Technology Hardware & Equipment\",\"Technology Hardware & Equipment\",\"Technology Hardware & Equipment\",\"Technology Hardware & Equipment\",\"Technology Hardware & Equipment\",\"Technology Hardware & Equipment\",\"Technology Hardware & Equipment\",\"Technology Hardware & Equipment\",\"Technology Hardware & Equipment\",\"Technology Hardware & Equipment\",\"Technology Hardware & Equipment\",\"Technology Hardware & Equipment\",\"Technology Hardware & Equipment\",\"Technology Hardware & Equipment\",\"Technology Hardware & Equipment\",\"Technology Hardware & Equipment\",\"Technology Hardware & Equipment\",\"Technology Hardware & Equipment\",\"Technology Hardware & Equipment\",\"Technology Hardware & Equipment\",\"Technology Hardware & Equipment\",\"Technology Hardware & Equipment\",\"Technology Hardware & Equipment\",\"Technology Hardware & Equipment\",\"Technology Hardware & Equipment\",\"Technology Hardware & Equipment\",\"Technology Hardware & Equipment\",\"Technology Hardware & Equipment\",\"Technology Hardware & Equipment\",\"Technology Hardware & Equipment\",\"Technology Hardware & Equipment\",\"Technology Hardware & Equipment\",\"Technology Hardware & Equipment\",\"Technology Hardware & Equipment\",\"Technology Hardware & Equipment\",\"Technology Hardware & Equipment\",\"Technology Hardware & Equipment\",\"Technology Hardware & Equipment\",\"Technology Hardware & Equipment\",\"Technology Hardware & Equipment\",\"Technology Hardware & Equipment\",\"Technology Hardware & Equipment\",\"Technology Hardware & Equipment\",\"Technology Hardware & Equipment\",\"Technology Hardware & Equipment\",\"Technology Hardware & Equipment\",\"Technology Hardware & Equipment\",\"Technology Hardware & Equipment\",\"Technology Hardware & Equipment\",\"Technology Hardware & Equipment\"],\"xaxis\":\"x\",\"y\":[\"Technology Hardware & Equipment\",\"Technology Hardware & Equipment\",\"Technology Hardware & Equipment\",\"Technology Hardware & Equipment\",\"Technology Hardware & Equipment\",\"Technology Hardware & Equipment\",\"Technology Hardware & Equipment\",\"Technology Hardware & Equipment\",\"Technology Hardware & Equipment\",\"Technology Hardware & Equipment\",\"Technology Hardware & Equipment\",\"Technology Hardware & Equipment\",\"Technology Hardware & Equipment\",\"Technology Hardware & Equipment\",\"Technology Hardware & Equipment\",\"Technology Hardware & Equipment\",\"Technology Hardware & Equipment\",\"Technology Hardware & Equipment\",\"Technology Hardware & Equipment\",\"Technology Hardware & Equipment\",\"Technology Hardware & Equipment\",\"Technology Hardware & Equipment\",\"Technology Hardware & Equipment\",\"Technology Hardware & Equipment\",\"Technology Hardware & Equipment\",\"Technology Hardware & Equipment\",\"Technology Hardware & Equipment\",\"Technology Hardware & Equipment\",\"Technology Hardware & Equipment\",\"Technology Hardware & Equipment\",\"Technology Hardware & Equipment\",\"Technology Hardware & Equipment\",\"Technology Hardware & Equipment\",\"Technology Hardware & Equipment\",\"Technology Hardware & Equipment\",\"Technology Hardware & Equipment\",\"Technology Hardware & Equipment\",\"Technology Hardware & Equipment\",\"Technology Hardware & Equipment\",\"Technology Hardware & Equipment\",\"Technology Hardware & Equipment\",\"Technology Hardware & Equipment\",\"Technology Hardware & Equipment\",\"Technology Hardware & Equipment\",\"Technology Hardware & Equipment\",\"Technology Hardware & Equipment\",\"Technology Hardware & Equipment\",\"Technology Hardware & Equipment\",\"Technology Hardware & Equipment\",\"Technology Hardware & Equipment\",\"Technology Hardware & Equipment\",\"Technology Hardware & Equipment\",\"Technology Hardware & Equipment\",\"Technology Hardware & Equipment\",\"Technology Hardware & Equipment\",\"Technology Hardware & Equipment\"],\"yaxis\":\"y\",\"type\":\"bar\"},{\"alignmentgroup\":\"True\",\"hovertemplate\":\"Industry=%{y}<extra></extra>\",\"legendgroup\":\"Consumer Durables\",\"marker\":{\"color\":\"#19d3f3\",\"pattern\":{\"shape\":\"\"}},\"name\":\"Consumer Durables\",\"offsetgroup\":\"Consumer Durables\",\"orientation\":\"v\",\"showlegend\":true,\"textposition\":\"auto\",\"x\":[\"Consumer Durables\",\"Consumer Durables\",\"Consumer Durables\",\"Consumer Durables\",\"Consumer Durables\",\"Consumer Durables\",\"Consumer Durables\",\"Consumer Durables\",\"Consumer Durables\",\"Consumer Durables\",\"Consumer Durables\",\"Consumer Durables\",\"Consumer Durables\",\"Consumer Durables\",\"Consumer Durables\",\"Consumer Durables\",\"Consumer Durables\",\"Consumer Durables\",\"Consumer Durables\",\"Consumer Durables\",\"Consumer Durables\",\"Consumer Durables\",\"Consumer Durables\",\"Consumer Durables\",\"Consumer Durables\",\"Consumer Durables\",\"Consumer Durables\",\"Consumer Durables\",\"Consumer Durables\",\"Consumer Durables\",\"Consumer Durables\",\"Consumer Durables\",\"Consumer Durables\",\"Consumer Durables\",\"Consumer Durables\",\"Consumer Durables\",\"Consumer Durables\",\"Consumer Durables\",\"Consumer Durables\",\"Consumer Durables\",\"Consumer Durables\",\"Consumer Durables\",\"Consumer Durables\",\"Consumer Durables\",\"Consumer Durables\",\"Consumer Durables\",\"Consumer Durables\",\"Consumer Durables\",\"Consumer Durables\",\"Consumer Durables\",\"Consumer Durables\",\"Consumer Durables\",\"Consumer Durables\",\"Consumer Durables\",\"Consumer Durables\",\"Consumer Durables\",\"Consumer Durables\",\"Consumer Durables\",\"Consumer Durables\",\"Consumer Durables\",\"Consumer Durables\",\"Consumer Durables\",\"Consumer Durables\",\"Consumer Durables\",\"Consumer Durables\",\"Consumer Durables\",\"Consumer Durables\",\"Consumer Durables\",\"Consumer Durables\",\"Consumer Durables\",\"Consumer Durables\",\"Consumer Durables\",\"Consumer Durables\",\"Consumer Durables\",\"Consumer Durables\",\"Consumer Durables\",\"Consumer Durables\",\"Consumer Durables\",\"Consumer Durables\",\"Consumer Durables\",\"Consumer Durables\",\"Consumer Durables\",\"Consumer Durables\",\"Consumer Durables\",\"Consumer Durables\",\"Consumer Durables\",\"Consumer Durables\",\"Consumer Durables\",\"Consumer Durables\"],\"xaxis\":\"x\",\"y\":[\"Consumer Durables\",\"Consumer Durables\",\"Consumer Durables\",\"Consumer Durables\",\"Consumer Durables\",\"Consumer Durables\",\"Consumer Durables\",\"Consumer Durables\",\"Consumer Durables\",\"Consumer Durables\",\"Consumer Durables\",\"Consumer Durables\",\"Consumer Durables\",\"Consumer Durables\",\"Consumer Durables\",\"Consumer Durables\",\"Consumer Durables\",\"Consumer Durables\",\"Consumer Durables\",\"Consumer Durables\",\"Consumer Durables\",\"Consumer Durables\",\"Consumer Durables\",\"Consumer Durables\",\"Consumer Durables\",\"Consumer Durables\",\"Consumer Durables\",\"Consumer Durables\",\"Consumer Durables\",\"Consumer Durables\",\"Consumer Durables\",\"Consumer Durables\",\"Consumer Durables\",\"Consumer Durables\",\"Consumer Durables\",\"Consumer Durables\",\"Consumer Durables\",\"Consumer Durables\",\"Consumer Durables\",\"Consumer Durables\",\"Consumer Durables\",\"Consumer Durables\",\"Consumer Durables\",\"Consumer Durables\",\"Consumer Durables\",\"Consumer Durables\",\"Consumer Durables\",\"Consumer Durables\",\"Consumer Durables\",\"Consumer Durables\",\"Consumer Durables\",\"Consumer Durables\",\"Consumer Durables\",\"Consumer Durables\",\"Consumer Durables\",\"Consumer Durables\",\"Consumer Durables\",\"Consumer Durables\",\"Consumer Durables\",\"Consumer Durables\",\"Consumer Durables\",\"Consumer Durables\",\"Consumer Durables\",\"Consumer Durables\",\"Consumer Durables\",\"Consumer Durables\",\"Consumer Durables\",\"Consumer Durables\",\"Consumer Durables\",\"Consumer Durables\",\"Consumer Durables\",\"Consumer Durables\",\"Consumer Durables\",\"Consumer Durables\",\"Consumer Durables\",\"Consumer Durables\",\"Consumer Durables\",\"Consumer Durables\",\"Consumer Durables\",\"Consumer Durables\",\"Consumer Durables\",\"Consumer Durables\",\"Consumer Durables\",\"Consumer Durables\",\"Consumer Durables\",\"Consumer Durables\",\"Consumer Durables\",\"Consumer Durables\",\"Consumer Durables\"],\"yaxis\":\"y\",\"type\":\"bar\"},{\"alignmentgroup\":\"True\",\"hovertemplate\":\"Industry=%{y}<extra></extra>\",\"legendgroup\":\"IT Software & Services\",\"marker\":{\"color\":\"#FF6692\",\"pattern\":{\"shape\":\"\"}},\"name\":\"IT Software & Services\",\"offsetgroup\":\"IT Software & Services\",\"orientation\":\"v\",\"showlegend\":true,\"textposition\":\"auto\",\"x\":[\"IT Software & Services\",\"IT Software & Services\",\"IT Software & Services\",\"IT Software & Services\",\"IT Software & Services\",\"IT Software & Services\",\"IT Software & Services\",\"IT Software & Services\",\"IT Software & Services\",\"IT Software & Services\",\"IT Software & Services\",\"IT Software & Services\",\"IT Software & Services\",\"IT Software & Services\",\"IT Software & Services\",\"IT Software & Services\",\"IT Software & Services\",\"IT Software & Services\",\"IT Software & Services\",\"IT Software & Services\",\"IT Software & Services\",\"IT Software & Services\",\"IT Software & Services\",\"IT Software & Services\",\"IT Software & Services\",\"IT Software & Services\",\"IT Software & Services\",\"IT Software & Services\",\"IT Software & Services\",\"IT Software & Services\",\"IT Software & Services\",\"IT Software & Services\",\"IT Software & Services\",\"IT Software & Services\",\"IT Software & Services\",\"IT Software & Services\",\"IT Software & Services\",\"IT Software & Services\",\"IT Software & Services\",\"IT Software & Services\",\"IT Software & Services\",\"IT Software & Services\",\"IT Software & Services\",\"IT Software & Services\",\"IT Software & Services\",\"IT Software & Services\",\"IT Software & Services\",\"IT Software & Services\",\"IT Software & Services\",\"IT Software & Services\",\"IT Software & Services\",\"IT Software & Services\",\"IT Software & Services\",\"IT Software & Services\",\"IT Software & Services\",\"IT Software & Services\",\"IT Software & Services\",\"IT Software & Services\",\"IT Software & Services\",\"IT Software & Services\",\"IT Software & Services\",\"IT Software & Services\",\"IT Software & Services\",\"IT Software & Services\",\"IT Software & Services\",\"IT Software & Services\",\"IT Software & Services\",\"IT Software & Services\",\"IT Software & Services\",\"IT Software & Services\",\"IT Software & Services\",\"IT Software & Services\",\"IT Software & Services\"],\"xaxis\":\"x\",\"y\":[\"IT Software & Services\",\"IT Software & Services\",\"IT Software & Services\",\"IT Software & Services\",\"IT Software & Services\",\"IT Software & Services\",\"IT Software & Services\",\"IT Software & Services\",\"IT Software & Services\",\"IT Software & Services\",\"IT Software & Services\",\"IT Software & Services\",\"IT Software & Services\",\"IT Software & Services\",\"IT Software & Services\",\"IT Software & Services\",\"IT Software & Services\",\"IT Software & Services\",\"IT Software & Services\",\"IT Software & Services\",\"IT Software & Services\",\"IT Software & Services\",\"IT Software & Services\",\"IT Software & Services\",\"IT Software & Services\",\"IT Software & Services\",\"IT Software & Services\",\"IT Software & Services\",\"IT Software & Services\",\"IT Software & Services\",\"IT Software & Services\",\"IT Software & Services\",\"IT Software & Services\",\"IT Software & Services\",\"IT Software & Services\",\"IT Software & Services\",\"IT Software & Services\",\"IT Software & Services\",\"IT Software & Services\",\"IT Software & Services\",\"IT Software & Services\",\"IT Software & Services\",\"IT Software & Services\",\"IT Software & Services\",\"IT Software & Services\",\"IT Software & Services\",\"IT Software & Services\",\"IT Software & Services\",\"IT Software & Services\",\"IT Software & Services\",\"IT Software & Services\",\"IT Software & Services\",\"IT Software & Services\",\"IT Software & Services\",\"IT Software & Services\",\"IT Software & Services\",\"IT Software & Services\",\"IT Software & Services\",\"IT Software & Services\",\"IT Software & Services\",\"IT Software & Services\",\"IT Software & Services\",\"IT Software & Services\",\"IT Software & Services\",\"IT Software & Services\",\"IT Software & Services\",\"IT Software & Services\",\"IT Software & Services\",\"IT Software & Services\",\"IT Software & Services\",\"IT Software & Services\",\"IT Software & Services\",\"IT Software & Services\"],\"yaxis\":\"y\",\"type\":\"bar\"},{\"alignmentgroup\":\"True\",\"hovertemplate\":\"Industry=%{y}<extra></extra>\",\"legendgroup\":\"Insurance\",\"marker\":{\"color\":\"#B6E880\",\"pattern\":{\"shape\":\"\"}},\"name\":\"Insurance\",\"offsetgroup\":\"Insurance\",\"orientation\":\"v\",\"showlegend\":true,\"textposition\":\"auto\",\"x\":[\"Insurance\",\"Insurance\",\"Insurance\",\"Insurance\",\"Insurance\",\"Insurance\",\"Insurance\",\"Insurance\",\"Insurance\",\"Insurance\",\"Insurance\",\"Insurance\",\"Insurance\",\"Insurance\",\"Insurance\",\"Insurance\",\"Insurance\",\"Insurance\",\"Insurance\",\"Insurance\",\"Insurance\",\"Insurance\",\"Insurance\",\"Insurance\",\"Insurance\",\"Insurance\",\"Insurance\",\"Insurance\",\"Insurance\",\"Insurance\",\"Insurance\",\"Insurance\",\"Insurance\",\"Insurance\",\"Insurance\",\"Insurance\",\"Insurance\",\"Insurance\",\"Insurance\",\"Insurance\",\"Insurance\",\"Insurance\",\"Insurance\",\"Insurance\",\"Insurance\",\"Insurance\",\"Insurance\",\"Insurance\",\"Insurance\",\"Insurance\",\"Insurance\",\"Insurance\",\"Insurance\",\"Insurance\",\"Insurance\",\"Insurance\",\"Insurance\",\"Insurance\",\"Insurance\",\"Insurance\",\"Insurance\",\"Insurance\",\"Insurance\",\"Insurance\",\"Insurance\",\"Insurance\",\"Insurance\",\"Insurance\",\"Insurance\",\"Insurance\",\"Insurance\",\"Insurance\",\"Insurance\",\"Insurance\",\"Insurance\",\"Insurance\",\"Insurance\",\"Insurance\",\"Insurance\",\"Insurance\",\"Insurance\",\"Insurance\",\"Insurance\",\"Insurance\",\"Insurance\",\"Insurance\",\"Insurance\",\"Insurance\",\"Insurance\",\"Insurance\",\"Insurance\",\"Insurance\",\"Insurance\",\"Insurance\",\"Insurance\",\"Insurance\",\"Insurance\",\"Insurance\",\"Insurance\",\"Insurance\",\"Insurance\",\"Insurance\",\"Insurance\",\"Insurance\",\"Insurance\"],\"xaxis\":\"x\",\"y\":[\"Insurance\",\"Insurance\",\"Insurance\",\"Insurance\",\"Insurance\",\"Insurance\",\"Insurance\",\"Insurance\",\"Insurance\",\"Insurance\",\"Insurance\",\"Insurance\",\"Insurance\",\"Insurance\",\"Insurance\",\"Insurance\",\"Insurance\",\"Insurance\",\"Insurance\",\"Insurance\",\"Insurance\",\"Insurance\",\"Insurance\",\"Insurance\",\"Insurance\",\"Insurance\",\"Insurance\",\"Insurance\",\"Insurance\",\"Insurance\",\"Insurance\",\"Insurance\",\"Insurance\",\"Insurance\",\"Insurance\",\"Insurance\",\"Insurance\",\"Insurance\",\"Insurance\",\"Insurance\",\"Insurance\",\"Insurance\",\"Insurance\",\"Insurance\",\"Insurance\",\"Insurance\",\"Insurance\",\"Insurance\",\"Insurance\",\"Insurance\",\"Insurance\",\"Insurance\",\"Insurance\",\"Insurance\",\"Insurance\",\"Insurance\",\"Insurance\",\"Insurance\",\"Insurance\",\"Insurance\",\"Insurance\",\"Insurance\",\"Insurance\",\"Insurance\",\"Insurance\",\"Insurance\",\"Insurance\",\"Insurance\",\"Insurance\",\"Insurance\",\"Insurance\",\"Insurance\",\"Insurance\",\"Insurance\",\"Insurance\",\"Insurance\",\"Insurance\",\"Insurance\",\"Insurance\",\"Insurance\",\"Insurance\",\"Insurance\",\"Insurance\",\"Insurance\",\"Insurance\",\"Insurance\",\"Insurance\",\"Insurance\",\"Insurance\",\"Insurance\",\"Insurance\",\"Insurance\",\"Insurance\",\"Insurance\",\"Insurance\",\"Insurance\",\"Insurance\",\"Insurance\",\"Insurance\",\"Insurance\",\"Insurance\",\"Insurance\",\"Insurance\",\"Insurance\",\"Insurance\"],\"yaxis\":\"y\",\"type\":\"bar\"},{\"alignmentgroup\":\"True\",\"hovertemplate\":\"Industry=%{y}<extra></extra>\",\"legendgroup\":\"Telecommunications Services\",\"marker\":{\"color\":\"#FF97FF\",\"pattern\":{\"shape\":\"\"}},\"name\":\"Telecommunications Services\",\"offsetgroup\":\"Telecommunications Services\",\"orientation\":\"v\",\"showlegend\":true,\"textposition\":\"auto\",\"x\":[\"Telecommunications Services\",\"Telecommunications Services\",\"Telecommunications Services\",\"Telecommunications Services\",\"Telecommunications Services\",\"Telecommunications Services\",\"Telecommunications Services\",\"Telecommunications Services\",\"Telecommunications Services\",\"Telecommunications Services\",\"Telecommunications Services\",\"Telecommunications Services\",\"Telecommunications Services\",\"Telecommunications Services\",\"Telecommunications Services\",\"Telecommunications Services\",\"Telecommunications Services\",\"Telecommunications Services\",\"Telecommunications Services\",\"Telecommunications Services\",\"Telecommunications Services\",\"Telecommunications Services\",\"Telecommunications Services\",\"Telecommunications Services\",\"Telecommunications Services\",\"Telecommunications Services\",\"Telecommunications Services\",\"Telecommunications Services\",\"Telecommunications Services\",\"Telecommunications Services\",\"Telecommunications Services\",\"Telecommunications Services\",\"Telecommunications Services\",\"Telecommunications Services\",\"Telecommunications Services\",\"Telecommunications Services\",\"Telecommunications Services\",\"Telecommunications Services\",\"Telecommunications Services\",\"Telecommunications Services\",\"Telecommunications Services\",\"Telecommunications Services\",\"Telecommunications Services\"],\"xaxis\":\"x\",\"y\":[\"Telecommunications Services\",\"Telecommunications Services\",\"Telecommunications Services\",\"Telecommunications Services\",\"Telecommunications Services\",\"Telecommunications Services\",\"Telecommunications Services\",\"Telecommunications Services\",\"Telecommunications Services\",\"Telecommunications Services\",\"Telecommunications Services\",\"Telecommunications Services\",\"Telecommunications Services\",\"Telecommunications Services\",\"Telecommunications Services\",\"Telecommunications Services\",\"Telecommunications Services\",\"Telecommunications Services\",\"Telecommunications Services\",\"Telecommunications Services\",\"Telecommunications Services\",\"Telecommunications Services\",\"Telecommunications Services\",\"Telecommunications Services\",\"Telecommunications Services\",\"Telecommunications Services\",\"Telecommunications Services\",\"Telecommunications Services\",\"Telecommunications Services\",\"Telecommunications Services\",\"Telecommunications Services\",\"Telecommunications Services\",\"Telecommunications Services\",\"Telecommunications Services\",\"Telecommunications Services\",\"Telecommunications Services\",\"Telecommunications Services\",\"Telecommunications Services\",\"Telecommunications Services\",\"Telecommunications Services\",\"Telecommunications Services\",\"Telecommunications Services\",\"Telecommunications Services\"],\"yaxis\":\"y\",\"type\":\"bar\"},{\"alignmentgroup\":\"True\",\"hovertemplate\":\"Industry=%{y}<extra></extra>\",\"legendgroup\":\"Media\",\"marker\":{\"color\":\"#FECB52\",\"pattern\":{\"shape\":\"\"}},\"name\":\"Media\",\"offsetgroup\":\"Media\",\"orientation\":\"v\",\"showlegend\":true,\"textposition\":\"auto\",\"x\":[\"Media\",\"Media\",\"Media\",\"Media\",\"Media\",\"Media\",\"Media\",\"Media\",\"Media\",\"Media\",\"Media\",\"Media\",\"Media\",\"Media\",\"Media\",\"Media\",\"Media\",\"Media\",\"Media\",\"Media\",\"Media\",\"Media\",\"Media\",\"Media\",\"Media\"],\"xaxis\":\"x\",\"y\":[\"Media\",\"Media\",\"Media\",\"Media\",\"Media\",\"Media\",\"Media\",\"Media\",\"Media\",\"Media\",\"Media\",\"Media\",\"Media\",\"Media\",\"Media\",\"Media\",\"Media\",\"Media\",\"Media\",\"Media\",\"Media\",\"Media\",\"Media\",\"Media\",\"Media\"],\"yaxis\":\"y\",\"type\":\"bar\"},{\"alignmentgroup\":\"True\",\"hovertemplate\":\"Industry=%{y}<extra></extra>\",\"legendgroup\":\"Drugs & Biotechnology\",\"marker\":{\"color\":\"#636efa\",\"pattern\":{\"shape\":\"\"}},\"name\":\"Drugs & Biotechnology\",\"offsetgroup\":\"Drugs & Biotechnology\",\"orientation\":\"v\",\"showlegend\":true,\"textposition\":\"auto\",\"x\":[\"Drugs & Biotechnology\",\"Drugs & Biotechnology\",\"Drugs & Biotechnology\",\"Drugs & Biotechnology\",\"Drugs & Biotechnology\",\"Drugs & Biotechnology\",\"Drugs & Biotechnology\",\"Drugs & Biotechnology\",\"Drugs & Biotechnology\",\"Drugs & Biotechnology\",\"Drugs & Biotechnology\",\"Drugs & Biotechnology\",\"Drugs & Biotechnology\",\"Drugs & Biotechnology\",\"Drugs & Biotechnology\",\"Drugs & Biotechnology\",\"Drugs & Biotechnology\",\"Drugs & Biotechnology\",\"Drugs & Biotechnology\",\"Drugs & Biotechnology\",\"Drugs & Biotechnology\",\"Drugs & Biotechnology\",\"Drugs & Biotechnology\",\"Drugs & Biotechnology\",\"Drugs & Biotechnology\",\"Drugs & Biotechnology\",\"Drugs & Biotechnology\",\"Drugs & Biotechnology\",\"Drugs & Biotechnology\",\"Drugs & Biotechnology\",\"Drugs & Biotechnology\",\"Drugs & Biotechnology\",\"Drugs & Biotechnology\",\"Drugs & Biotechnology\",\"Drugs & Biotechnology\",\"Drugs & Biotechnology\",\"Drugs & Biotechnology\",\"Drugs & Biotechnology\",\"Drugs & Biotechnology\",\"Drugs & Biotechnology\",\"Drugs & Biotechnology\",\"Drugs & Biotechnology\",\"Drugs & Biotechnology\",\"Drugs & Biotechnology\",\"Drugs & Biotechnology\",\"Drugs & Biotechnology\",\"Drugs & Biotechnology\",\"Drugs & Biotechnology\",\"Drugs & Biotechnology\",\"Drugs & Biotechnology\",\"Drugs & Biotechnology\",\"Drugs & Biotechnology\",\"Drugs & Biotechnology\",\"Drugs & Biotechnology\",\"Drugs & Biotechnology\",\"Drugs & Biotechnology\",\"Drugs & Biotechnology\",\"Drugs & Biotechnology\",\"Drugs & Biotechnology\",\"Drugs & Biotechnology\",\"Drugs & Biotechnology\",\"Drugs & Biotechnology\",\"Drugs & Biotechnology\",\"Drugs & Biotechnology\",\"Drugs & Biotechnology\",\"Drugs & Biotechnology\",\"Drugs & Biotechnology\"],\"xaxis\":\"x\",\"y\":[\"Drugs & Biotechnology\",\"Drugs & Biotechnology\",\"Drugs & Biotechnology\",\"Drugs & Biotechnology\",\"Drugs & Biotechnology\",\"Drugs & Biotechnology\",\"Drugs & Biotechnology\",\"Drugs & Biotechnology\",\"Drugs & Biotechnology\",\"Drugs & Biotechnology\",\"Drugs & Biotechnology\",\"Drugs & Biotechnology\",\"Drugs & Biotechnology\",\"Drugs & Biotechnology\",\"Drugs & Biotechnology\",\"Drugs & Biotechnology\",\"Drugs & Biotechnology\",\"Drugs & Biotechnology\",\"Drugs & Biotechnology\",\"Drugs & Biotechnology\",\"Drugs & Biotechnology\",\"Drugs & Biotechnology\",\"Drugs & Biotechnology\",\"Drugs & Biotechnology\",\"Drugs & Biotechnology\",\"Drugs & Biotechnology\",\"Drugs & Biotechnology\",\"Drugs & Biotechnology\",\"Drugs & Biotechnology\",\"Drugs & Biotechnology\",\"Drugs & Biotechnology\",\"Drugs & Biotechnology\",\"Drugs & Biotechnology\",\"Drugs & Biotechnology\",\"Drugs & Biotechnology\",\"Drugs & Biotechnology\",\"Drugs & Biotechnology\",\"Drugs & Biotechnology\",\"Drugs & Biotechnology\",\"Drugs & Biotechnology\",\"Drugs & Biotechnology\",\"Drugs & Biotechnology\",\"Drugs & Biotechnology\",\"Drugs & Biotechnology\",\"Drugs & Biotechnology\",\"Drugs & Biotechnology\",\"Drugs & Biotechnology\",\"Drugs & Biotechnology\",\"Drugs & Biotechnology\",\"Drugs & Biotechnology\",\"Drugs & Biotechnology\",\"Drugs & Biotechnology\",\"Drugs & Biotechnology\",\"Drugs & Biotechnology\",\"Drugs & Biotechnology\",\"Drugs & Biotechnology\",\"Drugs & Biotechnology\",\"Drugs & Biotechnology\",\"Drugs & Biotechnology\",\"Drugs & Biotechnology\",\"Drugs & Biotechnology\",\"Drugs & Biotechnology\",\"Drugs & Biotechnology\",\"Drugs & Biotechnology\",\"Drugs & Biotechnology\",\"Drugs & Biotechnology\",\"Drugs & Biotechnology\"],\"yaxis\":\"y\",\"type\":\"bar\"},{\"alignmentgroup\":\"True\",\"hovertemplate\":\"Industry=%{y}<extra></extra>\",\"legendgroup\":\"Food, Drink & Tobacco\",\"marker\":{\"color\":\"#EF553B\",\"pattern\":{\"shape\":\"\"}},\"name\":\"Food, Drink & Tobacco\",\"offsetgroup\":\"Food, Drink & Tobacco\",\"orientation\":\"v\",\"showlegend\":true,\"textposition\":\"auto\",\"x\":[\"Food, Drink & Tobacco\",\"Food, Drink & Tobacco\",\"Food, Drink & Tobacco\",\"Food, Drink & Tobacco\",\"Food, Drink & Tobacco\",\"Food, Drink & Tobacco\",\"Food, Drink & Tobacco\",\"Food, Drink & Tobacco\",\"Food, Drink & Tobacco\",\"Food, Drink & Tobacco\",\"Food, Drink & Tobacco\",\"Food, Drink & Tobacco\",\"Food, Drink & Tobacco\",\"Food, Drink & Tobacco\",\"Food, Drink & Tobacco\",\"Food, Drink & Tobacco\",\"Food, Drink & Tobacco\",\"Food, Drink & Tobacco\",\"Food, Drink & Tobacco\",\"Food, Drink & Tobacco\",\"Food, Drink & Tobacco\",\"Food, Drink & Tobacco\",\"Food, Drink & Tobacco\",\"Food, Drink & Tobacco\",\"Food, Drink & Tobacco\",\"Food, Drink & Tobacco\",\"Food, Drink & Tobacco\",\"Food, Drink & Tobacco\",\"Food, Drink & Tobacco\",\"Food, Drink & Tobacco\",\"Food, Drink & Tobacco\",\"Food, Drink & Tobacco\",\"Food, Drink & Tobacco\",\"Food, Drink & Tobacco\",\"Food, Drink & Tobacco\",\"Food, Drink & Tobacco\",\"Food, Drink & Tobacco\",\"Food, Drink & Tobacco\",\"Food, Drink & Tobacco\",\"Food, Drink & Tobacco\",\"Food, Drink & Tobacco\",\"Food, Drink & Tobacco\",\"Food, Drink & Tobacco\",\"Food, Drink & Tobacco\",\"Food, Drink & Tobacco\",\"Food, Drink & Tobacco\",\"Food, Drink & Tobacco\",\"Food, Drink & Tobacco\",\"Food, Drink & Tobacco\",\"Food, Drink & Tobacco\",\"Food, Drink & Tobacco\",\"Food, Drink & Tobacco\",\"Food, Drink & Tobacco\",\"Food, Drink & Tobacco\",\"Food, Drink & Tobacco\",\"Food, Drink & Tobacco\",\"Food, Drink & Tobacco\",\"Food, Drink & Tobacco\",\"Food, Drink & Tobacco\",\"Food, Drink & Tobacco\",\"Food, Drink & Tobacco\",\"Food, Drink & Tobacco\",\"Food, Drink & Tobacco\",\"Food, Drink & Tobacco\",\"Food, Drink & Tobacco\",\"Food, Drink & Tobacco\",\"Food, Drink & Tobacco\",\"Food, Drink & Tobacco\",\"Food, Drink & Tobacco\",\"Food, Drink & Tobacco\",\"Food, Drink & Tobacco\",\"Food, Drink & Tobacco\",\"Food, Drink & Tobacco\"],\"xaxis\":\"x\",\"y\":[\"Food, Drink & Tobacco\",\"Food, Drink & Tobacco\",\"Food, Drink & Tobacco\",\"Food, Drink & Tobacco\",\"Food, Drink & Tobacco\",\"Food, Drink & Tobacco\",\"Food, Drink & Tobacco\",\"Food, Drink & Tobacco\",\"Food, Drink & Tobacco\",\"Food, Drink & Tobacco\",\"Food, Drink & Tobacco\",\"Food, Drink & Tobacco\",\"Food, Drink & Tobacco\",\"Food, Drink & Tobacco\",\"Food, Drink & Tobacco\",\"Food, Drink & Tobacco\",\"Food, Drink & Tobacco\",\"Food, Drink & Tobacco\",\"Food, Drink & Tobacco\",\"Food, Drink & Tobacco\",\"Food, Drink & Tobacco\",\"Food, Drink & Tobacco\",\"Food, Drink & Tobacco\",\"Food, Drink & Tobacco\",\"Food, Drink & Tobacco\",\"Food, Drink & Tobacco\",\"Food, Drink & Tobacco\",\"Food, Drink & Tobacco\",\"Food, Drink & Tobacco\",\"Food, Drink & Tobacco\",\"Food, Drink & Tobacco\",\"Food, Drink & Tobacco\",\"Food, Drink & Tobacco\",\"Food, Drink & Tobacco\",\"Food, Drink & Tobacco\",\"Food, Drink & Tobacco\",\"Food, Drink & Tobacco\",\"Food, Drink & Tobacco\",\"Food, Drink & Tobacco\",\"Food, Drink & Tobacco\",\"Food, Drink & Tobacco\",\"Food, Drink & Tobacco\",\"Food, Drink & Tobacco\",\"Food, Drink & Tobacco\",\"Food, Drink & Tobacco\",\"Food, Drink & Tobacco\",\"Food, Drink & Tobacco\",\"Food, Drink & Tobacco\",\"Food, Drink & Tobacco\",\"Food, Drink & Tobacco\",\"Food, Drink & Tobacco\",\"Food, Drink & Tobacco\",\"Food, Drink & Tobacco\",\"Food, Drink & Tobacco\",\"Food, Drink & Tobacco\",\"Food, Drink & Tobacco\",\"Food, Drink & Tobacco\",\"Food, Drink & Tobacco\",\"Food, Drink & Tobacco\",\"Food, Drink & Tobacco\",\"Food, Drink & Tobacco\",\"Food, Drink & Tobacco\",\"Food, Drink & Tobacco\",\"Food, Drink & Tobacco\",\"Food, Drink & Tobacco\",\"Food, Drink & Tobacco\",\"Food, Drink & Tobacco\",\"Food, Drink & Tobacco\",\"Food, Drink & Tobacco\",\"Food, Drink & Tobacco\",\"Food, Drink & Tobacco\",\"Food, Drink & Tobacco\",\"Food, Drink & Tobacco\"],\"yaxis\":\"y\",\"type\":\"bar\"},{\"alignmentgroup\":\"True\",\"hovertemplate\":\"Industry=%{y}<extra></extra>\",\"legendgroup\":\"Semiconductors\",\"marker\":{\"color\":\"#00cc96\",\"pattern\":{\"shape\":\"\"}},\"name\":\"Semiconductors\",\"offsetgroup\":\"Semiconductors\",\"orientation\":\"v\",\"showlegend\":true,\"textposition\":\"auto\",\"x\":[\"Semiconductors\",\"Semiconductors\",\"Semiconductors\",\"Semiconductors\",\"Semiconductors\",\"Semiconductors\",\"Semiconductors\",\"Semiconductors\",\"Semiconductors\",\"Semiconductors\",\"Semiconductors\",\"Semiconductors\",\"Semiconductors\",\"Semiconductors\",\"Semiconductors\",\"Semiconductors\",\"Semiconductors\",\"Semiconductors\",\"Semiconductors\",\"Semiconductors\",\"Semiconductors\",\"Semiconductors\",\"Semiconductors\",\"Semiconductors\",\"Semiconductors\",\"Semiconductors\",\"Semiconductors\",\"Semiconductors\",\"Semiconductors\",\"Semiconductors\",\"Semiconductors\",\"Semiconductors\",\"Semiconductors\",\"Semiconductors\",\"Semiconductors\"],\"xaxis\":\"x\",\"y\":[\"Semiconductors\",\"Semiconductors\",\"Semiconductors\",\"Semiconductors\",\"Semiconductors\",\"Semiconductors\",\"Semiconductors\",\"Semiconductors\",\"Semiconductors\",\"Semiconductors\",\"Semiconductors\",\"Semiconductors\",\"Semiconductors\",\"Semiconductors\",\"Semiconductors\",\"Semiconductors\",\"Semiconductors\",\"Semiconductors\",\"Semiconductors\",\"Semiconductors\",\"Semiconductors\",\"Semiconductors\",\"Semiconductors\",\"Semiconductors\",\"Semiconductors\",\"Semiconductors\",\"Semiconductors\",\"Semiconductors\",\"Semiconductors\",\"Semiconductors\",\"Semiconductors\",\"Semiconductors\",\"Semiconductors\",\"Semiconductors\",\"Semiconductors\"],\"yaxis\":\"y\",\"type\":\"bar\"},{\"alignmentgroup\":\"True\",\"hovertemplate\":\"Industry=%{y}<extra></extra>\",\"legendgroup\":\"Household & Personal Products\",\"marker\":{\"color\":\"#ab63fa\",\"pattern\":{\"shape\":\"\"}},\"name\":\"Household & Personal Products\",\"offsetgroup\":\"Household & Personal Products\",\"orientation\":\"v\",\"showlegend\":true,\"textposition\":\"auto\",\"x\":[\"Household & Personal Products\",\"Household & Personal Products\",\"Household & Personal Products\",\"Household & Personal Products\",\"Household & Personal Products\",\"Household & Personal Products\",\"Household & Personal Products\",\"Household & Personal Products\",\"Household & Personal Products\",\"Household & Personal Products\",\"Household & Personal Products\",\"Household & Personal Products\",\"Household & Personal Products\",\"Household & Personal Products\",\"Household & Personal Products\",\"Household & Personal Products\",\"Household & Personal Products\",\"Household & Personal Products\",\"Household & Personal Products\",\"Household & Personal Products\",\"Household & Personal Products\",\"Household & Personal Products\",\"Household & Personal Products\",\"Household & Personal Products\",\"Household & Personal Products\",\"Household & Personal Products\",\"Household & Personal Products\",\"Household & Personal Products\",\"Household & Personal Products\",\"Household & Personal Products\",\"Household & Personal Products\",\"Household & Personal Products\",\"Household & Personal Products\"],\"xaxis\":\"x\",\"y\":[\"Household & Personal Products\",\"Household & Personal Products\",\"Household & Personal Products\",\"Household & Personal Products\",\"Household & Personal Products\",\"Household & Personal Products\",\"Household & Personal Products\",\"Household & Personal Products\",\"Household & Personal Products\",\"Household & Personal Products\",\"Household & Personal Products\",\"Household & Personal Products\",\"Household & Personal Products\",\"Household & Personal Products\",\"Household & Personal Products\",\"Household & Personal Products\",\"Household & Personal Products\",\"Household & Personal Products\",\"Household & Personal Products\",\"Household & Personal Products\",\"Household & Personal Products\",\"Household & Personal Products\",\"Household & Personal Products\",\"Household & Personal Products\",\"Household & Personal Products\",\"Household & Personal Products\",\"Household & Personal Products\",\"Household & Personal Products\",\"Household & Personal Products\",\"Household & Personal Products\",\"Household & Personal Products\",\"Household & Personal Products\",\"Household & Personal Products\"],\"yaxis\":\"y\",\"type\":\"bar\"},{\"alignmentgroup\":\"True\",\"hovertemplate\":\"Industry=%{y}<extra></extra>\",\"legendgroup\":\"Materials\",\"marker\":{\"color\":\"#FFA15A\",\"pattern\":{\"shape\":\"\"}},\"name\":\"Materials\",\"offsetgroup\":\"Materials\",\"orientation\":\"v\",\"showlegend\":true,\"textposition\":\"auto\",\"x\":[\"Materials\",\"Materials\",\"Materials\",\"Materials\",\"Materials\",\"Materials\",\"Materials\",\"Materials\",\"Materials\",\"Materials\",\"Materials\",\"Materials\",\"Materials\",\"Materials\",\"Materials\",\"Materials\",\"Materials\",\"Materials\",\"Materials\",\"Materials\",\"Materials\",\"Materials\",\"Materials\",\"Materials\",\"Materials\",\"Materials\",\"Materials\",\"Materials\",\"Materials\",\"Materials\",\"Materials\",\"Materials\",\"Materials\",\"Materials\",\"Materials\",\"Materials\",\"Materials\",\"Materials\",\"Materials\",\"Materials\",\"Materials\",\"Materials\",\"Materials\",\"Materials\",\"Materials\",\"Materials\",\"Materials\",\"Materials\",\"Materials\",\"Materials\",\"Materials\",\"Materials\",\"Materials\",\"Materials\",\"Materials\",\"Materials\",\"Materials\",\"Materials\",\"Materials\",\"Materials\",\"Materials\",\"Materials\",\"Materials\",\"Materials\",\"Materials\",\"Materials\",\"Materials\",\"Materials\",\"Materials\",\"Materials\",\"Materials\",\"Materials\",\"Materials\",\"Materials\",\"Materials\",\"Materials\",\"Materials\",\"Materials\",\"Materials\",\"Materials\",\"Materials\",\"Materials\",\"Materials\",\"Materials\",\"Materials\",\"Materials\",\"Materials\",\"Materials\",\"Materials\",\"Materials\",\"Materials\",\"Materials\",\"Materials\",\"Materials\",\"Materials\",\"Materials\",\"Materials\",\"Materials\",\"Materials\",\"Materials\",\"Materials\",\"Materials\",\"Materials\",\"Materials\",\"Materials\",\"Materials\",\"Materials\",\"Materials\",\"Materials\",\"Materials\",\"Materials\",\"Materials\",\"Materials\",\"Materials\",\"Materials\",\"Materials\",\"Materials\"],\"xaxis\":\"x\",\"y\":[\"Materials\",\"Materials\",\"Materials\",\"Materials\",\"Materials\",\"Materials\",\"Materials\",\"Materials\",\"Materials\",\"Materials\",\"Materials\",\"Materials\",\"Materials\",\"Materials\",\"Materials\",\"Materials\",\"Materials\",\"Materials\",\"Materials\",\"Materials\",\"Materials\",\"Materials\",\"Materials\",\"Materials\",\"Materials\",\"Materials\",\"Materials\",\"Materials\",\"Materials\",\"Materials\",\"Materials\",\"Materials\",\"Materials\",\"Materials\",\"Materials\",\"Materials\",\"Materials\",\"Materials\",\"Materials\",\"Materials\",\"Materials\",\"Materials\",\"Materials\",\"Materials\",\"Materials\",\"Materials\",\"Materials\",\"Materials\",\"Materials\",\"Materials\",\"Materials\",\"Materials\",\"Materials\",\"Materials\",\"Materials\",\"Materials\",\"Materials\",\"Materials\",\"Materials\",\"Materials\",\"Materials\",\"Materials\",\"Materials\",\"Materials\",\"Materials\",\"Materials\",\"Materials\",\"Materials\",\"Materials\",\"Materials\",\"Materials\",\"Materials\",\"Materials\",\"Materials\",\"Materials\",\"Materials\",\"Materials\",\"Materials\",\"Materials\",\"Materials\",\"Materials\",\"Materials\",\"Materials\",\"Materials\",\"Materials\",\"Materials\",\"Materials\",\"Materials\",\"Materials\",\"Materials\",\"Materials\",\"Materials\",\"Materials\",\"Materials\",\"Materials\",\"Materials\",\"Materials\",\"Materials\",\"Materials\",\"Materials\",\"Materials\",\"Materials\",\"Materials\",\"Materials\",\"Materials\",\"Materials\",\"Materials\",\"Materials\",\"Materials\",\"Materials\",\"Materials\",\"Materials\",\"Materials\",\"Materials\",\"Materials\",\"Materials\",\"Materials\"],\"yaxis\":\"y\",\"type\":\"bar\"},{\"alignmentgroup\":\"True\",\"hovertemplate\":\"Industry=%{y}<extra></extra>\",\"legendgroup\":\"Conglomerates\",\"marker\":{\"color\":\"#19d3f3\",\"pattern\":{\"shape\":\"\"}},\"name\":\"Conglomerates\",\"offsetgroup\":\"Conglomerates\",\"orientation\":\"v\",\"showlegend\":true,\"textposition\":\"auto\",\"x\":[\"Conglomerates\",\"Conglomerates\",\"Conglomerates\",\"Conglomerates\",\"Conglomerates\",\"Conglomerates\",\"Conglomerates\",\"Conglomerates\",\"Conglomerates\",\"Conglomerates\",\"Conglomerates\",\"Conglomerates\",\"Conglomerates\",\"Conglomerates\",\"Conglomerates\",\"Conglomerates\",\"Conglomerates\",\"Conglomerates\",\"Conglomerates\",\"Conglomerates\",\"Conglomerates\",\"Conglomerates\",\"Conglomerates\",\"Conglomerates\",\"Conglomerates\",\"Conglomerates\",\"Conglomerates\",\"Conglomerates\",\"Conglomerates\"],\"xaxis\":\"x\",\"y\":[\"Conglomerates\",\"Conglomerates\",\"Conglomerates\",\"Conglomerates\",\"Conglomerates\",\"Conglomerates\",\"Conglomerates\",\"Conglomerates\",\"Conglomerates\",\"Conglomerates\",\"Conglomerates\",\"Conglomerates\",\"Conglomerates\",\"Conglomerates\",\"Conglomerates\",\"Conglomerates\",\"Conglomerates\",\"Conglomerates\",\"Conglomerates\",\"Conglomerates\",\"Conglomerates\",\"Conglomerates\",\"Conglomerates\",\"Conglomerates\",\"Conglomerates\",\"Conglomerates\",\"Conglomerates\",\"Conglomerates\",\"Conglomerates\"],\"yaxis\":\"y\",\"type\":\"bar\"},{\"alignmentgroup\":\"True\",\"hovertemplate\":\"Industry=%{y}<extra></extra>\",\"legendgroup\":\"Trading Companies\",\"marker\":{\"color\":\"#FF6692\",\"pattern\":{\"shape\":\"\"}},\"name\":\"Trading Companies\",\"offsetgroup\":\"Trading Companies\",\"orientation\":\"v\",\"showlegend\":true,\"textposition\":\"auto\",\"x\":[\"Trading Companies\",\"Trading Companies\",\"Trading Companies\",\"Trading Companies\",\"Trading Companies\",\"Trading Companies\",\"Trading Companies\",\"Trading Companies\",\"Trading Companies\",\"Trading Companies\",\"Trading Companies\",\"Trading Companies\",\"Trading Companies\",\"Trading Companies\",\"Trading Companies\",\"Trading Companies\",\"Trading Companies\",\"Trading Companies\",\"Trading Companies\",\"Trading Companies\",\"Trading Companies\",\"Trading Companies\",\"Trading Companies\",\"Trading Companies\",\"Trading Companies\",\"Trading Companies\",\"Trading Companies\",\"Trading Companies\",\"Trading Companies\",\"Trading Companies\",\"Trading Companies\",\"Trading Companies\",\"Trading Companies\",\"Trading Companies\",\"Trading Companies\",\"Trading Companies\",\"Trading Companies\"],\"xaxis\":\"x\",\"y\":[\"Trading Companies\",\"Trading Companies\",\"Trading Companies\",\"Trading Companies\",\"Trading Companies\",\"Trading Companies\",\"Trading Companies\",\"Trading Companies\",\"Trading Companies\",\"Trading Companies\",\"Trading Companies\",\"Trading Companies\",\"Trading Companies\",\"Trading Companies\",\"Trading Companies\",\"Trading Companies\",\"Trading Companies\",\"Trading Companies\",\"Trading Companies\",\"Trading Companies\",\"Trading Companies\",\"Trading Companies\",\"Trading Companies\",\"Trading Companies\",\"Trading Companies\",\"Trading Companies\",\"Trading Companies\",\"Trading Companies\",\"Trading Companies\",\"Trading Companies\",\"Trading Companies\",\"Trading Companies\",\"Trading Companies\",\"Trading Companies\",\"Trading Companies\",\"Trading Companies\",\"Trading Companies\"],\"yaxis\":\"y\",\"type\":\"bar\"},{\"alignmentgroup\":\"True\",\"hovertemplate\":\"Industry=%{y}<extra></extra>\",\"legendgroup\":\"Transportation\",\"marker\":{\"color\":\"#B6E880\",\"pattern\":{\"shape\":\"\"}},\"name\":\"Transportation\",\"offsetgroup\":\"Transportation\",\"orientation\":\"v\",\"showlegend\":true,\"textposition\":\"auto\",\"x\":[\"Transportation\",\"Transportation\",\"Transportation\",\"Transportation\",\"Transportation\",\"Transportation\",\"Transportation\",\"Transportation\",\"Transportation\",\"Transportation\",\"Transportation\",\"Transportation\",\"Transportation\",\"Transportation\",\"Transportation\",\"Transportation\",\"Transportation\",\"Transportation\",\"Transportation\",\"Transportation\",\"Transportation\",\"Transportation\",\"Transportation\",\"Transportation\",\"Transportation\",\"Transportation\",\"Transportation\",\"Transportation\",\"Transportation\",\"Transportation\",\"Transportation\",\"Transportation\",\"Transportation\",\"Transportation\",\"Transportation\",\"Transportation\",\"Transportation\",\"Transportation\",\"Transportation\",\"Transportation\",\"Transportation\",\"Transportation\",\"Transportation\",\"Transportation\",\"Transportation\",\"Transportation\",\"Transportation\",\"Transportation\",\"Transportation\",\"Transportation\",\"Transportation\",\"Transportation\",\"Transportation\",\"Transportation\",\"Transportation\",\"Transportation\",\"Transportation\",\"Transportation\",\"Transportation\",\"Transportation\",\"Transportation\",\"Transportation\",\"Transportation\",\"Transportation\",\"Transportation\",\"Transportation\",\"Transportation\",\"Transportation\",\"Transportation\",\"Transportation\"],\"xaxis\":\"x\",\"y\":[\"Transportation\",\"Transportation\",\"Transportation\",\"Transportation\",\"Transportation\",\"Transportation\",\"Transportation\",\"Transportation\",\"Transportation\",\"Transportation\",\"Transportation\",\"Transportation\",\"Transportation\",\"Transportation\",\"Transportation\",\"Transportation\",\"Transportation\",\"Transportation\",\"Transportation\",\"Transportation\",\"Transportation\",\"Transportation\",\"Transportation\",\"Transportation\",\"Transportation\",\"Transportation\",\"Transportation\",\"Transportation\",\"Transportation\",\"Transportation\",\"Transportation\",\"Transportation\",\"Transportation\",\"Transportation\",\"Transportation\",\"Transportation\",\"Transportation\",\"Transportation\",\"Transportation\",\"Transportation\",\"Transportation\",\"Transportation\",\"Transportation\",\"Transportation\",\"Transportation\",\"Transportation\",\"Transportation\",\"Transportation\",\"Transportation\",\"Transportation\",\"Transportation\",\"Transportation\",\"Transportation\",\"Transportation\",\"Transportation\",\"Transportation\",\"Transportation\",\"Transportation\",\"Transportation\",\"Transportation\",\"Transportation\",\"Transportation\",\"Transportation\",\"Transportation\",\"Transportation\",\"Transportation\",\"Transportation\",\"Transportation\",\"Transportation\",\"Transportation\"],\"yaxis\":\"y\",\"type\":\"bar\"},{\"alignmentgroup\":\"True\",\"hovertemplate\":\"Industry=%{y}<extra></extra>\",\"legendgroup\":\"Construction\",\"marker\":{\"color\":\"#FF97FF\",\"pattern\":{\"shape\":\"\"}},\"name\":\"Construction\",\"offsetgroup\":\"Construction\",\"orientation\":\"v\",\"showlegend\":true,\"textposition\":\"auto\",\"x\":[\"Construction\",\"Construction\",\"Construction\",\"Construction\",\"Construction\",\"Construction\",\"Construction\",\"Construction\",\"Construction\",\"Construction\",\"Construction\",\"Construction\",\"Construction\",\"Construction\",\"Construction\",\"Construction\",\"Construction\",\"Construction\",\"Construction\",\"Construction\",\"Construction\",\"Construction\",\"Construction\",\"Construction\",\"Construction\",\"Construction\",\"Construction\",\"Construction\",\"Construction\",\"Construction\",\"Construction\",\"Construction\",\"Construction\",\"Construction\",\"Construction\",\"Construction\",\"Construction\",\"Construction\",\"Construction\",\"Construction\",\"Construction\",\"Construction\",\"Construction\",\"Construction\",\"Construction\",\"Construction\",\"Construction\",\"Construction\",\"Construction\",\"Construction\",\"Construction\",\"Construction\",\"Construction\",\"Construction\",\"Construction\",\"Construction\",\"Construction\",\"Construction\",\"Construction\",\"Construction\",\"Construction\",\"Construction\",\"Construction\",\"Construction\",\"Construction\",\"Construction\",\"Construction\",\"Construction\",\"Construction\",\"Construction\",\"Construction\",\"Construction\",\"Construction\",\"Construction\",\"Construction\",\"Construction\",\"Construction\",\"Construction\",\"Construction\",\"Construction\",\"Construction\",\"Construction\",\"Construction\",\"Construction\",\"Construction\",\"Construction\",\"Construction\",\"Construction\",\"Construction\",\"Construction\",\"Construction\",\"Construction\",\"Construction\",\"Construction\",\"Construction\",\"Construction\",\"Construction\",\"Construction\",\"Construction\",\"Construction\",\"Construction\",\"Construction\",\"Construction\",\"Construction\",\"Construction\",\"Construction\",\"Construction\",\"Construction\",\"Construction\",\"Construction\",\"Construction\",\"Construction\",\"Construction\",\"Construction\",\"Construction\",\"Construction\",\"Construction\",\"Construction\",\"Construction\",\"Construction\",\"Construction\",\"Construction\",\"Construction\",\"Construction\",\"Construction\",\"Construction\",\"Construction\"],\"xaxis\":\"x\",\"y\":[\"Construction\",\"Construction\",\"Construction\",\"Construction\",\"Construction\",\"Construction\",\"Construction\",\"Construction\",\"Construction\",\"Construction\",\"Construction\",\"Construction\",\"Construction\",\"Construction\",\"Construction\",\"Construction\",\"Construction\",\"Construction\",\"Construction\",\"Construction\",\"Construction\",\"Construction\",\"Construction\",\"Construction\",\"Construction\",\"Construction\",\"Construction\",\"Construction\",\"Construction\",\"Construction\",\"Construction\",\"Construction\",\"Construction\",\"Construction\",\"Construction\",\"Construction\",\"Construction\",\"Construction\",\"Construction\",\"Construction\",\"Construction\",\"Construction\",\"Construction\",\"Construction\",\"Construction\",\"Construction\",\"Construction\",\"Construction\",\"Construction\",\"Construction\",\"Construction\",\"Construction\",\"Construction\",\"Construction\",\"Construction\",\"Construction\",\"Construction\",\"Construction\",\"Construction\",\"Construction\",\"Construction\",\"Construction\",\"Construction\",\"Construction\",\"Construction\",\"Construction\",\"Construction\",\"Construction\",\"Construction\",\"Construction\",\"Construction\",\"Construction\",\"Construction\",\"Construction\",\"Construction\",\"Construction\",\"Construction\",\"Construction\",\"Construction\",\"Construction\",\"Construction\",\"Construction\",\"Construction\",\"Construction\",\"Construction\",\"Construction\",\"Construction\",\"Construction\",\"Construction\",\"Construction\",\"Construction\",\"Construction\",\"Construction\",\"Construction\",\"Construction\",\"Construction\",\"Construction\",\"Construction\",\"Construction\",\"Construction\",\"Construction\",\"Construction\",\"Construction\",\"Construction\",\"Construction\",\"Construction\",\"Construction\",\"Construction\",\"Construction\",\"Construction\",\"Construction\",\"Construction\",\"Construction\",\"Construction\",\"Construction\",\"Construction\",\"Construction\",\"Construction\",\"Construction\",\"Construction\",\"Construction\",\"Construction\",\"Construction\",\"Construction\",\"Construction\",\"Construction\",\"Construction\"],\"yaxis\":\"y\",\"type\":\"bar\"},{\"alignmentgroup\":\"True\",\"hovertemplate\":\"Industry=%{y}<extra></extra>\",\"legendgroup\":\"Aerospace & Defense\",\"marker\":{\"color\":\"#FECB52\",\"pattern\":{\"shape\":\"\"}},\"name\":\"Aerospace & Defense\",\"offsetgroup\":\"Aerospace & Defense\",\"orientation\":\"v\",\"showlegend\":true,\"textposition\":\"auto\",\"x\":[\"Aerospace & Defense\",\"Aerospace & Defense\",\"Aerospace & Defense\",\"Aerospace & Defense\",\"Aerospace & Defense\",\"Aerospace & Defense\",\"Aerospace & Defense\",\"Aerospace & Defense\",\"Aerospace & Defense\",\"Aerospace & Defense\",\"Aerospace & Defense\",\"Aerospace & Defense\",\"Aerospace & Defense\",\"Aerospace & Defense\",\"Aerospace & Defense\",\"Aerospace & Defense\",\"Aerospace & Defense\",\"Aerospace & Defense\"],\"xaxis\":\"x\",\"y\":[\"Aerospace & Defense\",\"Aerospace & Defense\",\"Aerospace & Defense\",\"Aerospace & Defense\",\"Aerospace & Defense\",\"Aerospace & Defense\",\"Aerospace & Defense\",\"Aerospace & Defense\",\"Aerospace & Defense\",\"Aerospace & Defense\",\"Aerospace & Defense\",\"Aerospace & Defense\",\"Aerospace & Defense\",\"Aerospace & Defense\",\"Aerospace & Defense\",\"Aerospace & Defense\",\"Aerospace & Defense\",\"Aerospace & Defense\"],\"yaxis\":\"y\",\"type\":\"bar\"},{\"alignmentgroup\":\"True\",\"hovertemplate\":\"Industry=%{y}<extra></extra>\",\"legendgroup\":\"Utilities\",\"marker\":{\"color\":\"#636efa\",\"pattern\":{\"shape\":\"\"}},\"name\":\"Utilities\",\"offsetgroup\":\"Utilities\",\"orientation\":\"v\",\"showlegend\":true,\"textposition\":\"auto\",\"x\":[\"Utilities\",\"Utilities\",\"Utilities\",\"Utilities\",\"Utilities\",\"Utilities\",\"Utilities\",\"Utilities\",\"Utilities\",\"Utilities\",\"Utilities\",\"Utilities\",\"Utilities\",\"Utilities\",\"Utilities\",\"Utilities\",\"Utilities\",\"Utilities\",\"Utilities\",\"Utilities\",\"Utilities\",\"Utilities\",\"Utilities\",\"Utilities\",\"Utilities\",\"Utilities\",\"Utilities\",\"Utilities\",\"Utilities\",\"Utilities\",\"Utilities\",\"Utilities\",\"Utilities\",\"Utilities\",\"Utilities\",\"Utilities\",\"Utilities\",\"Utilities\",\"Utilities\",\"Utilities\",\"Utilities\",\"Utilities\",\"Utilities\",\"Utilities\",\"Utilities\",\"Utilities\",\"Utilities\",\"Utilities\",\"Utilities\",\"Utilities\",\"Utilities\",\"Utilities\",\"Utilities\",\"Utilities\",\"Utilities\",\"Utilities\",\"Utilities\",\"Utilities\",\"Utilities\",\"Utilities\",\"Utilities\",\"Utilities\",\"Utilities\",\"Utilities\",\"Utilities\",\"Utilities\",\"Utilities\",\"Utilities\",\"Utilities\",\"Utilities\",\"Utilities\",\"Utilities\",\"Utilities\",\"Utilities\",\"Utilities\",\"Utilities\",\"Utilities\",\"Utilities\",\"Utilities\",\"Utilities\",\"Utilities\",\"Utilities\",\"Utilities\"],\"xaxis\":\"x\",\"y\":[\"Utilities\",\"Utilities\",\"Utilities\",\"Utilities\",\"Utilities\",\"Utilities\",\"Utilities\",\"Utilities\",\"Utilities\",\"Utilities\",\"Utilities\",\"Utilities\",\"Utilities\",\"Utilities\",\"Utilities\",\"Utilities\",\"Utilities\",\"Utilities\",\"Utilities\",\"Utilities\",\"Utilities\",\"Utilities\",\"Utilities\",\"Utilities\",\"Utilities\",\"Utilities\",\"Utilities\",\"Utilities\",\"Utilities\",\"Utilities\",\"Utilities\",\"Utilities\",\"Utilities\",\"Utilities\",\"Utilities\",\"Utilities\",\"Utilities\",\"Utilities\",\"Utilities\",\"Utilities\",\"Utilities\",\"Utilities\",\"Utilities\",\"Utilities\",\"Utilities\",\"Utilities\",\"Utilities\",\"Utilities\",\"Utilities\",\"Utilities\",\"Utilities\",\"Utilities\",\"Utilities\",\"Utilities\",\"Utilities\",\"Utilities\",\"Utilities\",\"Utilities\",\"Utilities\",\"Utilities\",\"Utilities\",\"Utilities\",\"Utilities\",\"Utilities\",\"Utilities\",\"Utilities\",\"Utilities\",\"Utilities\",\"Utilities\",\"Utilities\",\"Utilities\",\"Utilities\",\"Utilities\",\"Utilities\",\"Utilities\",\"Utilities\",\"Utilities\",\"Utilities\",\"Utilities\",\"Utilities\",\"Utilities\",\"Utilities\",\"Utilities\"],\"yaxis\":\"y\",\"type\":\"bar\"},{\"alignmentgroup\":\"True\",\"hovertemplate\":\"Industry=%{y}<extra></extra>\",\"legendgroup\":\"Health Care Equipment & Services\",\"marker\":{\"color\":\"#EF553B\",\"pattern\":{\"shape\":\"\"}},\"name\":\"Health Care Equipment & Services\",\"offsetgroup\":\"Health Care Equipment & Services\",\"orientation\":\"v\",\"showlegend\":true,\"textposition\":\"auto\",\"x\":[\"Health Care Equipment & Services\",\"Health Care Equipment & Services\",\"Health Care Equipment & Services\",\"Health Care Equipment & Services\",\"Health Care Equipment & Services\",\"Health Care Equipment & Services\",\"Health Care Equipment & Services\",\"Health Care Equipment & Services\",\"Health Care Equipment & Services\",\"Health Care Equipment & Services\",\"Health Care Equipment & Services\",\"Health Care Equipment & Services\",\"Health Care Equipment & Services\",\"Health Care Equipment & Services\",\"Health Care Equipment & Services\",\"Health Care Equipment & Services\",\"Health Care Equipment & Services\",\"Health Care Equipment & Services\",\"Health Care Equipment & Services\",\"Health Care Equipment & Services\",\"Health Care Equipment & Services\",\"Health Care Equipment & Services\",\"Health Care Equipment & Services\",\"Health Care Equipment & Services\",\"Health Care Equipment & Services\",\"Health Care Equipment & Services\",\"Health Care Equipment & Services\",\"Health Care Equipment & Services\",\"Health Care Equipment & Services\",\"Health Care Equipment & Services\",\"Health Care Equipment & Services\",\"Health Care Equipment & Services\",\"Health Care Equipment & Services\",\"Health Care Equipment & Services\",\"Health Care Equipment & Services\",\"Health Care Equipment & Services\",\"Health Care Equipment & Services\",\"Health Care Equipment & Services\",\"Health Care Equipment & Services\",\"Health Care Equipment & Services\",\"Health Care Equipment & Services\",\"Health Care Equipment & Services\",\"Health Care Equipment & Services\",\"Health Care Equipment & Services\"],\"xaxis\":\"x\",\"y\":[\"Health Care Equipment & Services\",\"Health Care Equipment & Services\",\"Health Care Equipment & Services\",\"Health Care Equipment & Services\",\"Health Care Equipment & Services\",\"Health Care Equipment & Services\",\"Health Care Equipment & Services\",\"Health Care Equipment & Services\",\"Health Care Equipment & Services\",\"Health Care Equipment & Services\",\"Health Care Equipment & Services\",\"Health Care Equipment & Services\",\"Health Care Equipment & Services\",\"Health Care Equipment & Services\",\"Health Care Equipment & Services\",\"Health Care Equipment & Services\",\"Health Care Equipment & Services\",\"Health Care Equipment & Services\",\"Health Care Equipment & Services\",\"Health Care Equipment & Services\",\"Health Care Equipment & Services\",\"Health Care Equipment & Services\",\"Health Care Equipment & Services\",\"Health Care Equipment & Services\",\"Health Care Equipment & Services\",\"Health Care Equipment & Services\",\"Health Care Equipment & Services\",\"Health Care Equipment & Services\",\"Health Care Equipment & Services\",\"Health Care Equipment & Services\",\"Health Care Equipment & Services\",\"Health Care Equipment & Services\",\"Health Care Equipment & Services\",\"Health Care Equipment & Services\",\"Health Care Equipment & Services\",\"Health Care Equipment & Services\",\"Health Care Equipment & Services\",\"Health Care Equipment & Services\",\"Health Care Equipment & Services\",\"Health Care Equipment & Services\",\"Health Care Equipment & Services\",\"Health Care Equipment & Services\",\"Health Care Equipment & Services\",\"Health Care Equipment & Services\"],\"yaxis\":\"y\",\"type\":\"bar\"},{\"alignmentgroup\":\"True\",\"hovertemplate\":\"Industry=%{y}<extra></extra>\",\"legendgroup\":\"Chemicals\",\"marker\":{\"color\":\"#00cc96\",\"pattern\":{\"shape\":\"\"}},\"name\":\"Chemicals\",\"offsetgroup\":\"Chemicals\",\"orientation\":\"v\",\"showlegend\":true,\"textposition\":\"auto\",\"x\":[\"Chemicals\",\"Chemicals\",\"Chemicals\",\"Chemicals\",\"Chemicals\",\"Chemicals\",\"Chemicals\",\"Chemicals\",\"Chemicals\",\"Chemicals\",\"Chemicals\",\"Chemicals\",\"Chemicals\",\"Chemicals\",\"Chemicals\",\"Chemicals\",\"Chemicals\",\"Chemicals\",\"Chemicals\",\"Chemicals\",\"Chemicals\",\"Chemicals\",\"Chemicals\",\"Chemicals\",\"Chemicals\",\"Chemicals\",\"Chemicals\",\"Chemicals\",\"Chemicals\",\"Chemicals\",\"Chemicals\",\"Chemicals\",\"Chemicals\",\"Chemicals\",\"Chemicals\",\"Chemicals\",\"Chemicals\",\"Chemicals\",\"Chemicals\",\"Chemicals\",\"Chemicals\",\"Chemicals\",\"Chemicals\",\"Chemicals\",\"Chemicals\",\"Chemicals\",\"Chemicals\",\"Chemicals\",\"Chemicals\",\"Chemicals\",\"Chemicals\",\"Chemicals\",\"Chemicals\",\"Chemicals\",\"Chemicals\",\"Chemicals\",\"Chemicals\",\"Chemicals\",\"Chemicals\",\"Chemicals\",\"Chemicals\",\"Chemicals\",\"Chemicals\",\"Chemicals\",\"Chemicals\",\"Chemicals\",\"Chemicals\",\"Chemicals\",\"Chemicals\",\"Chemicals\",\"Chemicals\",\"Chemicals\",\"Chemicals\",\"Chemicals\",\"Chemicals\"],\"xaxis\":\"x\",\"y\":[\"Chemicals\",\"Chemicals\",\"Chemicals\",\"Chemicals\",\"Chemicals\",\"Chemicals\",\"Chemicals\",\"Chemicals\",\"Chemicals\",\"Chemicals\",\"Chemicals\",\"Chemicals\",\"Chemicals\",\"Chemicals\",\"Chemicals\",\"Chemicals\",\"Chemicals\",\"Chemicals\",\"Chemicals\",\"Chemicals\",\"Chemicals\",\"Chemicals\",\"Chemicals\",\"Chemicals\",\"Chemicals\",\"Chemicals\",\"Chemicals\",\"Chemicals\",\"Chemicals\",\"Chemicals\",\"Chemicals\",\"Chemicals\",\"Chemicals\",\"Chemicals\",\"Chemicals\",\"Chemicals\",\"Chemicals\",\"Chemicals\",\"Chemicals\",\"Chemicals\",\"Chemicals\",\"Chemicals\",\"Chemicals\",\"Chemicals\",\"Chemicals\",\"Chemicals\",\"Chemicals\",\"Chemicals\",\"Chemicals\",\"Chemicals\",\"Chemicals\",\"Chemicals\",\"Chemicals\",\"Chemicals\",\"Chemicals\",\"Chemicals\",\"Chemicals\",\"Chemicals\",\"Chemicals\",\"Chemicals\",\"Chemicals\",\"Chemicals\",\"Chemicals\",\"Chemicals\",\"Chemicals\",\"Chemicals\",\"Chemicals\",\"Chemicals\",\"Chemicals\",\"Chemicals\",\"Chemicals\",\"Chemicals\",\"Chemicals\",\"Chemicals\",\"Chemicals\"],\"yaxis\":\"y\",\"type\":\"bar\"},{\"alignmentgroup\":\"True\",\"hovertemplate\":\"Industry=%{y}<extra></extra>\",\"legendgroup\":\"Capital Goods\",\"marker\":{\"color\":\"#ab63fa\",\"pattern\":{\"shape\":\"\"}},\"name\":\"Capital Goods\",\"offsetgroup\":\"Capital Goods\",\"orientation\":\"v\",\"showlegend\":true,\"textposition\":\"auto\",\"x\":[\"Capital Goods\",\"Capital Goods\",\"Capital Goods\",\"Capital Goods\",\"Capital Goods\",\"Capital Goods\",\"Capital Goods\",\"Capital Goods\",\"Capital Goods\",\"Capital Goods\",\"Capital Goods\",\"Capital Goods\",\"Capital Goods\",\"Capital Goods\",\"Capital Goods\",\"Capital Goods\",\"Capital Goods\",\"Capital Goods\",\"Capital Goods\",\"Capital Goods\",\"Capital Goods\",\"Capital Goods\",\"Capital Goods\",\"Capital Goods\",\"Capital Goods\",\"Capital Goods\",\"Capital Goods\",\"Capital Goods\",\"Capital Goods\",\"Capital Goods\",\"Capital Goods\",\"Capital Goods\",\"Capital Goods\",\"Capital Goods\",\"Capital Goods\",\"Capital Goods\",\"Capital Goods\",\"Capital Goods\",\"Capital Goods\",\"Capital Goods\",\"Capital Goods\",\"Capital Goods\",\"Capital Goods\",\"Capital Goods\",\"Capital Goods\",\"Capital Goods\",\"Capital Goods\",\"Capital Goods\",\"Capital Goods\",\"Capital Goods\",\"Capital Goods\",\"Capital Goods\",\"Capital Goods\",\"Capital Goods\",\"Capital Goods\",\"Capital Goods\",\"Capital Goods\",\"Capital Goods\",\"Capital Goods\"],\"xaxis\":\"x\",\"y\":[\"Capital Goods\",\"Capital Goods\",\"Capital Goods\",\"Capital Goods\",\"Capital Goods\",\"Capital Goods\",\"Capital Goods\",\"Capital Goods\",\"Capital Goods\",\"Capital Goods\",\"Capital Goods\",\"Capital Goods\",\"Capital Goods\",\"Capital Goods\",\"Capital Goods\",\"Capital Goods\",\"Capital Goods\",\"Capital Goods\",\"Capital Goods\",\"Capital Goods\",\"Capital Goods\",\"Capital Goods\",\"Capital Goods\",\"Capital Goods\",\"Capital Goods\",\"Capital Goods\",\"Capital Goods\",\"Capital Goods\",\"Capital Goods\",\"Capital Goods\",\"Capital Goods\",\"Capital Goods\",\"Capital Goods\",\"Capital Goods\",\"Capital Goods\",\"Capital Goods\",\"Capital Goods\",\"Capital Goods\",\"Capital Goods\",\"Capital Goods\",\"Capital Goods\",\"Capital Goods\",\"Capital Goods\",\"Capital Goods\",\"Capital Goods\",\"Capital Goods\",\"Capital Goods\",\"Capital Goods\",\"Capital Goods\",\"Capital Goods\",\"Capital Goods\",\"Capital Goods\",\"Capital Goods\",\"Capital Goods\",\"Capital Goods\",\"Capital Goods\",\"Capital Goods\",\"Capital Goods\",\"Capital Goods\"],\"yaxis\":\"y\",\"type\":\"bar\"},{\"alignmentgroup\":\"True\",\"hovertemplate\":\"Industry=%{y}<extra></extra>\",\"legendgroup\":\"Business Services & Supplies\",\"marker\":{\"color\":\"#FFA15A\",\"pattern\":{\"shape\":\"\"}},\"name\":\"Business Services & Supplies\",\"offsetgroup\":\"Business Services & Supplies\",\"orientation\":\"v\",\"showlegend\":true,\"textposition\":\"auto\",\"x\":[\"Business Services & Supplies\",\"Business Services & Supplies\",\"Business Services & Supplies\",\"Business Services & Supplies\",\"Business Services & Supplies\",\"Business Services & Supplies\",\"Business Services & Supplies\",\"Business Services & Supplies\",\"Business Services & Supplies\",\"Business Services & Supplies\",\"Business Services & Supplies\",\"Business Services & Supplies\",\"Business Services & Supplies\",\"Business Services & Supplies\",\"Business Services & Supplies\",\"Business Services & Supplies\",\"Business Services & Supplies\",\"Business Services & Supplies\",\"Business Services & Supplies\",\"Business Services & Supplies\",\"Business Services & Supplies\",\"Business Services & Supplies\",\"Business Services & Supplies\",\"Business Services & Supplies\",\"Business Services & Supplies\",\"Business Services & Supplies\",\"Business Services & Supplies\",\"Business Services & Supplies\",\"Business Services & Supplies\",\"Business Services & Supplies\",\"Business Services & Supplies\",\"Business Services & Supplies\",\"Business Services & Supplies\",\"Business Services & Supplies\",\"Business Services & Supplies\",\"Business Services & Supplies\",\"Business Services & Supplies\",\"Business Services & Supplies\",\"Business Services & Supplies\",\"Business Services & Supplies\",\"Business Services & Supplies\",\"Business Services & Supplies\",\"Business Services & Supplies\",\"Business Services & Supplies\",\"Business Services & Supplies\",\"Business Services & Supplies\",\"Business Services & Supplies\",\"Business Services & Supplies\",\"Business Services & Supplies\",\"Business Services & Supplies\",\"Business Services & Supplies\",\"Business Services & Supplies\",\"Business Services & Supplies\",\"Business Services & Supplies\",\"Business Services & Supplies\",\"Business Services & Supplies\",\"Business Services & Supplies\",\"Business Services & Supplies\",\"Business Services & Supplies\",\"Business Services & Supplies\",\"Business Services & Supplies\",\"Business Services & Supplies\",\"Business Services & Supplies\",\"Business Services & Supplies\",\"Business Services & Supplies\",\"Business Services & Supplies\",\"Business Services & Supplies\",\"Business Services & Supplies\",\"Business Services & Supplies\",\"Business Services & Supplies\",\"Business Services & Supplies\",\"Business Services & Supplies\",\"Business Services & Supplies\",\"Business Services & Supplies\",\"Business Services & Supplies\",\"Business Services & Supplies\",\"Business Services & Supplies\",\"Business Services & Supplies\",\"Business Services & Supplies\",\"Business Services & Supplies\",\"Business Services & Supplies\",\"Business Services & Supplies\"],\"xaxis\":\"x\",\"y\":[\"Business Services & Supplies\",\"Business Services & Supplies\",\"Business Services & Supplies\",\"Business Services & Supplies\",\"Business Services & Supplies\",\"Business Services & Supplies\",\"Business Services & Supplies\",\"Business Services & Supplies\",\"Business Services & Supplies\",\"Business Services & Supplies\",\"Business Services & Supplies\",\"Business Services & Supplies\",\"Business Services & Supplies\",\"Business Services & Supplies\",\"Business Services & Supplies\",\"Business Services & Supplies\",\"Business Services & Supplies\",\"Business Services & Supplies\",\"Business Services & Supplies\",\"Business Services & Supplies\",\"Business Services & Supplies\",\"Business Services & Supplies\",\"Business Services & Supplies\",\"Business Services & Supplies\",\"Business Services & Supplies\",\"Business Services & Supplies\",\"Business Services & Supplies\",\"Business Services & Supplies\",\"Business Services & Supplies\",\"Business Services & Supplies\",\"Business Services & Supplies\",\"Business Services & Supplies\",\"Business Services & Supplies\",\"Business Services & Supplies\",\"Business Services & Supplies\",\"Business Services & Supplies\",\"Business Services & Supplies\",\"Business Services & Supplies\",\"Business Services & Supplies\",\"Business Services & Supplies\",\"Business Services & Supplies\",\"Business Services & Supplies\",\"Business Services & Supplies\",\"Business Services & Supplies\",\"Business Services & Supplies\",\"Business Services & Supplies\",\"Business Services & Supplies\",\"Business Services & Supplies\",\"Business Services & Supplies\",\"Business Services & Supplies\",\"Business Services & Supplies\",\"Business Services & Supplies\",\"Business Services & Supplies\",\"Business Services & Supplies\",\"Business Services & Supplies\",\"Business Services & Supplies\",\"Business Services & Supplies\",\"Business Services & Supplies\",\"Business Services & Supplies\",\"Business Services & Supplies\",\"Business Services & Supplies\",\"Business Services & Supplies\",\"Business Services & Supplies\",\"Business Services & Supplies\",\"Business Services & Supplies\",\"Business Services & Supplies\",\"Business Services & Supplies\",\"Business Services & Supplies\",\"Business Services & Supplies\",\"Business Services & Supplies\",\"Business Services & Supplies\",\"Business Services & Supplies\",\"Business Services & Supplies\",\"Business Services & Supplies\",\"Business Services & Supplies\",\"Business Services & Supplies\",\"Business Services & Supplies\",\"Business Services & Supplies\",\"Business Services & Supplies\",\"Business Services & Supplies\",\"Business Services & Supplies\",\"Business Services & Supplies\"],\"yaxis\":\"y\",\"type\":\"bar\"},{\"alignmentgroup\":\"True\",\"hovertemplate\":\"Industry=%{y}<extra></extra>\",\"legendgroup\":\"Hotels, Restaurants & Leisure\",\"marker\":{\"color\":\"#19d3f3\",\"pattern\":{\"shape\":\"\"}},\"name\":\"Hotels, Restaurants & Leisure\",\"offsetgroup\":\"Hotels, Restaurants & Leisure\",\"orientation\":\"v\",\"showlegend\":true,\"textposition\":\"auto\",\"x\":[\"Hotels, Restaurants & Leisure\",\"Hotels, Restaurants & Leisure\",\"Hotels, Restaurants & Leisure\",\"Hotels, Restaurants & Leisure\",\"Hotels, Restaurants & Leisure\",\"Hotels, Restaurants & Leisure\",\"Hotels, Restaurants & Leisure\",\"Hotels, Restaurants & Leisure\",\"Hotels, Restaurants & Leisure\",\"Hotels, Restaurants & Leisure\",\"Hotels, Restaurants & Leisure\",\"Hotels, Restaurants & Leisure\",\"Hotels, Restaurants & Leisure\",\"Hotels, Restaurants & Leisure\",\"Hotels, Restaurants & Leisure\",\"Hotels, Restaurants & Leisure\",\"Hotels, Restaurants & Leisure\",\"Hotels, Restaurants & Leisure\",\"Hotels, Restaurants & Leisure\"],\"xaxis\":\"x\",\"y\":[\"Hotels, Restaurants & Leisure\",\"Hotels, Restaurants & Leisure\",\"Hotels, Restaurants & Leisure\",\"Hotels, Restaurants & Leisure\",\"Hotels, Restaurants & Leisure\",\"Hotels, Restaurants & Leisure\",\"Hotels, Restaurants & Leisure\",\"Hotels, Restaurants & Leisure\",\"Hotels, Restaurants & Leisure\",\"Hotels, Restaurants & Leisure\",\"Hotels, Restaurants & Leisure\",\"Hotels, Restaurants & Leisure\",\"Hotels, Restaurants & Leisure\",\"Hotels, Restaurants & Leisure\",\"Hotels, Restaurants & Leisure\",\"Hotels, Restaurants & Leisure\",\"Hotels, Restaurants & Leisure\",\"Hotels, Restaurants & Leisure\",\"Hotels, Restaurants & Leisure\"],\"yaxis\":\"y\",\"type\":\"bar\"},{\"alignmentgroup\":\"True\",\"hovertemplate\":\"Industry=%{y}<extra></extra>\",\"legendgroup\":\"Food Markets\",\"marker\":{\"color\":\"#FF6692\",\"pattern\":{\"shape\":\"\"}},\"name\":\"Food Markets\",\"offsetgroup\":\"Food Markets\",\"orientation\":\"v\",\"showlegend\":true,\"textposition\":\"auto\",\"x\":[\"Food Markets\",\"Food Markets\",\"Food Markets\",\"Food Markets\",\"Food Markets\",\"Food Markets\",\"Food Markets\",\"Food Markets\",\"Food Markets\",\"Food Markets\",\"Food Markets\",\"Food Markets\",\"Food Markets\",\"Food Markets\",\"Food Markets\",\"Food Markets\",\"Food Markets\",\"Food Markets\",\"Food Markets\",\"Food Markets\",\"Food Markets\",\"Food Markets\",\"Food Markets\",\"Food Markets\",\"Food Markets\",\"Food Markets\"],\"xaxis\":\"x\",\"y\":[\"Food Markets\",\"Food Markets\",\"Food Markets\",\"Food Markets\",\"Food Markets\",\"Food Markets\",\"Food Markets\",\"Food Markets\",\"Food Markets\",\"Food Markets\",\"Food Markets\",\"Food Markets\",\"Food Markets\",\"Food Markets\",\"Food Markets\",\"Food Markets\",\"Food Markets\",\"Food Markets\",\"Food Markets\",\"Food Markets\",\"Food Markets\",\"Food Markets\",\"Food Markets\",\"Food Markets\",\"Food Markets\",\"Food Markets\"],\"yaxis\":\"y\",\"type\":\"bar\"},{\"alignmentgroup\":\"True\",\"hovertemplate\":\"Industry=%{y}<extra></extra>\",\"legendgroup\":\"Food & Drink\",\"marker\":{\"color\":\"#B6E880\",\"pattern\":{\"shape\":\"\"}},\"name\":\"Food & Drink\",\"offsetgroup\":\"Food & Drink\",\"orientation\":\"v\",\"showlegend\":true,\"textposition\":\"auto\",\"x\":[\"Food & Drink\",\"Food & Drink\"],\"xaxis\":\"x\",\"y\":[\"Food & Drink\",\"Food & Drink\"],\"yaxis\":\"y\",\"type\":\"bar\"},{\"alignmentgroup\":\"True\",\"hovertemplate\":\"Industry=%{y}<extra></extra>\",\"legendgroup\":\"Automotive\",\"marker\":{\"color\":\"#FF97FF\",\"pattern\":{\"shape\":\"\"}},\"name\":\"Automotive\",\"offsetgroup\":\"Automotive\",\"orientation\":\"v\",\"showlegend\":true,\"textposition\":\"auto\",\"x\":[\"Automotive\",\"Automotive\"],\"xaxis\":\"x\",\"y\":[\"Automotive\",\"Automotive\"],\"yaxis\":\"y\",\"type\":\"bar\"}],                        {\"template\":{\"data\":{\"bar\":[{\"error_x\":{\"color\":\"#2a3f5f\"},\"error_y\":{\"color\":\"#2a3f5f\"},\"marker\":{\"line\":{\"color\":\"#E5ECF6\",\"width\":0.5},\"pattern\":{\"fillmode\":\"overlay\",\"size\":10,\"solidity\":0.2}},\"type\":\"bar\"}],\"barpolar\":[{\"marker\":{\"line\":{\"color\":\"#E5ECF6\",\"width\":0.5},\"pattern\":{\"fillmode\":\"overlay\",\"size\":10,\"solidity\":0.2}},\"type\":\"barpolar\"}],\"carpet\":[{\"aaxis\":{\"endlinecolor\":\"#2a3f5f\",\"gridcolor\":\"white\",\"linecolor\":\"white\",\"minorgridcolor\":\"white\",\"startlinecolor\":\"#2a3f5f\"},\"baxis\":{\"endlinecolor\":\"#2a3f5f\",\"gridcolor\":\"white\",\"linecolor\":\"white\",\"minorgridcolor\":\"white\",\"startlinecolor\":\"#2a3f5f\"},\"type\":\"carpet\"}],\"choropleth\":[{\"colorbar\":{\"outlinewidth\":0,\"ticks\":\"\"},\"type\":\"choropleth\"}],\"contour\":[{\"colorbar\":{\"outlinewidth\":0,\"ticks\":\"\"},\"colorscale\":[[0.0,\"#0d0887\"],[0.1111111111111111,\"#46039f\"],[0.2222222222222222,\"#7201a8\"],[0.3333333333333333,\"#9c179e\"],[0.4444444444444444,\"#bd3786\"],[0.5555555555555556,\"#d8576b\"],[0.6666666666666666,\"#ed7953\"],[0.7777777777777778,\"#fb9f3a\"],[0.8888888888888888,\"#fdca26\"],[1.0,\"#f0f921\"]],\"type\":\"contour\"}],\"contourcarpet\":[{\"colorbar\":{\"outlinewidth\":0,\"ticks\":\"\"},\"type\":\"contourcarpet\"}],\"heatmap\":[{\"colorbar\":{\"outlinewidth\":0,\"ticks\":\"\"},\"colorscale\":[[0.0,\"#0d0887\"],[0.1111111111111111,\"#46039f\"],[0.2222222222222222,\"#7201a8\"],[0.3333333333333333,\"#9c179e\"],[0.4444444444444444,\"#bd3786\"],[0.5555555555555556,\"#d8576b\"],[0.6666666666666666,\"#ed7953\"],[0.7777777777777778,\"#fb9f3a\"],[0.8888888888888888,\"#fdca26\"],[1.0,\"#f0f921\"]],\"type\":\"heatmap\"}],\"heatmapgl\":[{\"colorbar\":{\"outlinewidth\":0,\"ticks\":\"\"},\"colorscale\":[[0.0,\"#0d0887\"],[0.1111111111111111,\"#46039f\"],[0.2222222222222222,\"#7201a8\"],[0.3333333333333333,\"#9c179e\"],[0.4444444444444444,\"#bd3786\"],[0.5555555555555556,\"#d8576b\"],[0.6666666666666666,\"#ed7953\"],[0.7777777777777778,\"#fb9f3a\"],[0.8888888888888888,\"#fdca26\"],[1.0,\"#f0f921\"]],\"type\":\"heatmapgl\"}],\"histogram\":[{\"marker\":{\"pattern\":{\"fillmode\":\"overlay\",\"size\":10,\"solidity\":0.2}},\"type\":\"histogram\"}],\"histogram2d\":[{\"colorbar\":{\"outlinewidth\":0,\"ticks\":\"\"},\"colorscale\":[[0.0,\"#0d0887\"],[0.1111111111111111,\"#46039f\"],[0.2222222222222222,\"#7201a8\"],[0.3333333333333333,\"#9c179e\"],[0.4444444444444444,\"#bd3786\"],[0.5555555555555556,\"#d8576b\"],[0.6666666666666666,\"#ed7953\"],[0.7777777777777778,\"#fb9f3a\"],[0.8888888888888888,\"#fdca26\"],[1.0,\"#f0f921\"]],\"type\":\"histogram2d\"}],\"histogram2dcontour\":[{\"colorbar\":{\"outlinewidth\":0,\"ticks\":\"\"},\"colorscale\":[[0.0,\"#0d0887\"],[0.1111111111111111,\"#46039f\"],[0.2222222222222222,\"#7201a8\"],[0.3333333333333333,\"#9c179e\"],[0.4444444444444444,\"#bd3786\"],[0.5555555555555556,\"#d8576b\"],[0.6666666666666666,\"#ed7953\"],[0.7777777777777778,\"#fb9f3a\"],[0.8888888888888888,\"#fdca26\"],[1.0,\"#f0f921\"]],\"type\":\"histogram2dcontour\"}],\"mesh3d\":[{\"colorbar\":{\"outlinewidth\":0,\"ticks\":\"\"},\"type\":\"mesh3d\"}],\"parcoords\":[{\"line\":{\"colorbar\":{\"outlinewidth\":0,\"ticks\":\"\"}},\"type\":\"parcoords\"}],\"pie\":[{\"automargin\":true,\"type\":\"pie\"}],\"scatter\":[{\"marker\":{\"colorbar\":{\"outlinewidth\":0,\"ticks\":\"\"}},\"type\":\"scatter\"}],\"scatter3d\":[{\"line\":{\"colorbar\":{\"outlinewidth\":0,\"ticks\":\"\"}},\"marker\":{\"colorbar\":{\"outlinewidth\":0,\"ticks\":\"\"}},\"type\":\"scatter3d\"}],\"scattercarpet\":[{\"marker\":{\"colorbar\":{\"outlinewidth\":0,\"ticks\":\"\"}},\"type\":\"scattercarpet\"}],\"scattergeo\":[{\"marker\":{\"colorbar\":{\"outlinewidth\":0,\"ticks\":\"\"}},\"type\":\"scattergeo\"}],\"scattergl\":[{\"marker\":{\"colorbar\":{\"outlinewidth\":0,\"ticks\":\"\"}},\"type\":\"scattergl\"}],\"scattermapbox\":[{\"marker\":{\"colorbar\":{\"outlinewidth\":0,\"ticks\":\"\"}},\"type\":\"scattermapbox\"}],\"scatterpolar\":[{\"marker\":{\"colorbar\":{\"outlinewidth\":0,\"ticks\":\"\"}},\"type\":\"scatterpolar\"}],\"scatterpolargl\":[{\"marker\":{\"colorbar\":{\"outlinewidth\":0,\"ticks\":\"\"}},\"type\":\"scatterpolargl\"}],\"scatterternary\":[{\"marker\":{\"colorbar\":{\"outlinewidth\":0,\"ticks\":\"\"}},\"type\":\"scatterternary\"}],\"surface\":[{\"colorbar\":{\"outlinewidth\":0,\"ticks\":\"\"},\"colorscale\":[[0.0,\"#0d0887\"],[0.1111111111111111,\"#46039f\"],[0.2222222222222222,\"#7201a8\"],[0.3333333333333333,\"#9c179e\"],[0.4444444444444444,\"#bd3786\"],[0.5555555555555556,\"#d8576b\"],[0.6666666666666666,\"#ed7953\"],[0.7777777777777778,\"#fb9f3a\"],[0.8888888888888888,\"#fdca26\"],[1.0,\"#f0f921\"]],\"type\":\"surface\"}],\"table\":[{\"cells\":{\"fill\":{\"color\":\"#EBF0F8\"},\"line\":{\"color\":\"white\"}},\"header\":{\"fill\":{\"color\":\"#C8D4E3\"},\"line\":{\"color\":\"white\"}},\"type\":\"table\"}]},\"layout\":{\"annotationdefaults\":{\"arrowcolor\":\"#2a3f5f\",\"arrowhead\":0,\"arrowwidth\":1},\"autotypenumbers\":\"strict\",\"coloraxis\":{\"colorbar\":{\"outlinewidth\":0,\"ticks\":\"\"}},\"colorscale\":{\"diverging\":[[0,\"#8e0152\"],[0.1,\"#c51b7d\"],[0.2,\"#de77ae\"],[0.3,\"#f1b6da\"],[0.4,\"#fde0ef\"],[0.5,\"#f7f7f7\"],[0.6,\"#e6f5d0\"],[0.7,\"#b8e186\"],[0.8,\"#7fbc41\"],[0.9,\"#4d9221\"],[1,\"#276419\"]],\"sequential\":[[0.0,\"#0d0887\"],[0.1111111111111111,\"#46039f\"],[0.2222222222222222,\"#7201a8\"],[0.3333333333333333,\"#9c179e\"],[0.4444444444444444,\"#bd3786\"],[0.5555555555555556,\"#d8576b\"],[0.6666666666666666,\"#ed7953\"],[0.7777777777777778,\"#fb9f3a\"],[0.8888888888888888,\"#fdca26\"],[1.0,\"#f0f921\"]],\"sequentialminus\":[[0.0,\"#0d0887\"],[0.1111111111111111,\"#46039f\"],[0.2222222222222222,\"#7201a8\"],[0.3333333333333333,\"#9c179e\"],[0.4444444444444444,\"#bd3786\"],[0.5555555555555556,\"#d8576b\"],[0.6666666666666666,\"#ed7953\"],[0.7777777777777778,\"#fb9f3a\"],[0.8888888888888888,\"#fdca26\"],[1.0,\"#f0f921\"]]},\"colorway\":[\"#636efa\",\"#EF553B\",\"#00cc96\",\"#ab63fa\",\"#FFA15A\",\"#19d3f3\",\"#FF6692\",\"#B6E880\",\"#FF97FF\",\"#FECB52\"],\"font\":{\"color\":\"#2a3f5f\"},\"geo\":{\"bgcolor\":\"white\",\"lakecolor\":\"white\",\"landcolor\":\"#E5ECF6\",\"showlakes\":true,\"showland\":true,\"subunitcolor\":\"white\"},\"hoverlabel\":{\"align\":\"left\"},\"hovermode\":\"closest\",\"mapbox\":{\"style\":\"light\"},\"paper_bgcolor\":\"white\",\"plot_bgcolor\":\"#E5ECF6\",\"polar\":{\"angularaxis\":{\"gridcolor\":\"white\",\"linecolor\":\"white\",\"ticks\":\"\"},\"bgcolor\":\"#E5ECF6\",\"radialaxis\":{\"gridcolor\":\"white\",\"linecolor\":\"white\",\"ticks\":\"\"}},\"scene\":{\"xaxis\":{\"backgroundcolor\":\"#E5ECF6\",\"gridcolor\":\"white\",\"gridwidth\":2,\"linecolor\":\"white\",\"showbackground\":true,\"ticks\":\"\",\"zerolinecolor\":\"white\"},\"yaxis\":{\"backgroundcolor\":\"#E5ECF6\",\"gridcolor\":\"white\",\"gridwidth\":2,\"linecolor\":\"white\",\"showbackground\":true,\"ticks\":\"\",\"zerolinecolor\":\"white\"},\"zaxis\":{\"backgroundcolor\":\"#E5ECF6\",\"gridcolor\":\"white\",\"gridwidth\":2,\"linecolor\":\"white\",\"showbackground\":true,\"ticks\":\"\",\"zerolinecolor\":\"white\"}},\"shapedefaults\":{\"line\":{\"color\":\"#2a3f5f\"}},\"ternary\":{\"aaxis\":{\"gridcolor\":\"white\",\"linecolor\":\"white\",\"ticks\":\"\"},\"baxis\":{\"gridcolor\":\"white\",\"linecolor\":\"white\",\"ticks\":\"\"},\"bgcolor\":\"#E5ECF6\",\"caxis\":{\"gridcolor\":\"white\",\"linecolor\":\"white\",\"ticks\":\"\"}},\"title\":{\"x\":0.05},\"xaxis\":{\"automargin\":true,\"gridcolor\":\"white\",\"linecolor\":\"white\",\"ticks\":\"\",\"title\":{\"standoff\":15},\"zerolinecolor\":\"white\",\"zerolinewidth\":2},\"yaxis\":{\"automargin\":true,\"gridcolor\":\"white\",\"linecolor\":\"white\",\"ticks\":\"\",\"title\":{\"standoff\":15},\"zerolinecolor\":\"white\",\"zerolinewidth\":2}}},\"xaxis\":{\"anchor\":\"y\",\"domain\":[0.0,1.0],\"title\":{\"text\":\"Industry\",\"font\":{\"size\":20}},\"categoryorder\":\"array\",\"categoryarray\":[\"Diversified Financials\",\"Banking\",\"Oil & Gas Operations\",\"Retailing\",\"Technology Hardware & Equipment\",\"Consumer Durables\",\"IT Software & Services\",\"Insurance\",\"Telecommunications Services\",\"Media\",\"Drugs & Biotechnology\",\"Food, Drink & Tobacco\",\"Semiconductors\",\"Household & Personal Products\",\"Materials\",\"Conglomerates\",\"Trading Companies\",\"Transportation\",\"Construction\",\"Aerospace & Defense\",\"Utilities\",\"Health Care Equipment & Services\",\"Chemicals\",\"Capital Goods\",\"Business Services & Supplies\",\"Hotels, Restaurants & Leisure\",\"Food Markets\",\"Food & Drink\",\"Automotive\"],\"tickfont\":{\"size\":14}},\"yaxis\":{\"anchor\":\"x\",\"domain\":[0.0,1.0],\"title\":{\"text\":\"Industry\",\"font\":{\"size\":20}},\"categoryorder\":\"array\",\"categoryarray\":[\"Automotive\",\"Food & Drink\",\"Food Markets\",\"Hotels, Restaurants & Leisure\",\"Business Services & Supplies\",\"Capital Goods\",\"Chemicals\",\"Health Care Equipment & Services\",\"Utilities\",\"Aerospace & Defense\",\"Construction\",\"Transportation\",\"Trading Companies\",\"Conglomerates\",\"Materials\",\"Household & Personal Products\",\"Semiconductors\",\"Food, Drink & Tobacco\",\"Drugs & Biotechnology\",\"Media\",\"Telecommunications Services\",\"Insurance\",\"IT Software & Services\",\"Consumer Durables\",\"Technology Hardware & Equipment\",\"Retailing\",\"Oil & Gas Operations\",\"Banking\",\"Diversified Financials\"],\"tickfont\":{\"size\":14}},\"legend\":{\"title\":{\"text\":\"Industry\"},\"tracegroupgap\":0},\"title\":{\"text\":\"Industry by Count of Companies\",\"font\":{\"size\":24}},\"barmode\":\"relative\",\"height\":800,\"width\":800},                        {\"responsive\": true}                    ).then(function(){\n",
       "                            \n",
       "var gd = document.getElementById('ac285b56-4152-4fe0-a0c1-7e17ed4e29b4');\n",
       "var x = new MutationObserver(function (mutations, observer) {{\n",
       "        var display = window.getComputedStyle(gd).display;\n",
       "        if (!display || display === 'none') {{\n",
       "            console.log([gd, 'removed!']);\n",
       "            Plotly.purge(gd);\n",
       "            observer.disconnect();\n",
       "        }}\n",
       "}});\n",
       "\n",
       "// Listen for the removal of the full notebook cells\n",
       "var notebookContainer = gd.closest('#notebook-container');\n",
       "if (notebookContainer) {{\n",
       "    x.observe(notebookContainer, {childList: true});\n",
       "}}\n",
       "\n",
       "// Listen for the clearing of the current output cell\n",
       "var outputEl = gd.closest('.output');\n",
       "if (outputEl) {{\n",
       "    x.observe(outputEl, {childList: true});\n",
       "}}\n",
       "\n",
       "                        })                };                });            </script>        </div>"
      ]
     },
     "metadata": {},
     "output_type": "display_data"
    }
   ],
   "source": [
    "fig = px.bar(data, x = data.Industry, y = data.Industry, color = data.Industry,\n",
    "            title = 'Industry by Count of Companies', width = 800, height = 800)\n",
    "\n",
    "fig.update_layout(title_font=dict(size=24),\n",
    "                  xaxis_title_font=dict(size=20),\n",
    "                  yaxis_title_font=dict(size=20),\n",
    "                  xaxis_tickfont=dict(size=14),\n",
    "                  yaxis_tickfont=dict(size=14)\n",
    "                  )\n",
    "fig.show()"
   ]
  },
  {
   "cell_type": "code",
   "execution_count": 13,
   "id": "1eb4bd90",
   "metadata": {
    "scrolled": false
   },
   "outputs": [
    {
     "data": {
      "image/png": "[encoded data removed]",
      "text/plain": [
       "<Figure size 864x576 with 1 Axes>"
      ]
     },
     "metadata": {
      "needs_background": "light"
     },
     "output_type": "display_data"
    }
   ],
   "source": [
    "fix, ax = plt.subplots(figsize = (12, 8))\n",
    "sns.set_style(\"darkgrid\")\n",
    "sns.scatterplot(ax = ax, x = data['Revenue (Billions)'], y = data['Profits (Billions)'], s = 80);"
   ]
  },
  {
   "cell_type": "markdown",
   "id": "aa9f33a4",
   "metadata": {},
   "source": [
    "### Checking if there are any correlations between Revenue, Profits, Total Assets and Market Value"
   ]
  },
  {
   "cell_type": "code",
   "execution_count": 14,
   "id": "0c10b639",
   "metadata": {},
   "outputs": [
    {
     "data": {
      "image/png": "[encoded data removed]",
      "text/plain": [
       "<Figure size 432x288 with 2 Axes>"
      ]
     },
     "metadata": {},
     "output_type": "display_data"
    }
   ],
   "source": [
    "sns.heatmap(data[['Revenue (Billions)', 'Profits (Billions)', 'Assets (Billions)', \n",
    "                  'Market Value (Billions)']].corr(),\n",
    "            annot = True)\n",
    "plt.title('Correlation between Financial Metrics')\n",
    "plt.show()"
   ]
  },
  {
   "cell_type": "code",
   "execution_count": 15,
   "id": "4c03c726",
   "metadata": {},
   "outputs": [
    {
     "data": {
      "image/png": "[encoded data removed]",
      "text/plain": [
       "<Figure size 432x288 with 1 Axes>"
      ]
     },
     "metadata": {},
     "output_type": "display_data"
    }
   ],
   "source": [
    "fig, ax = plt.subplots()\n",
    "sns.histplot(data['Year Founded'], bins = 150, ax = ax)\n",
    "ax.set_xlim(1600, 2023);"
   ]
  },
  {
   "cell_type": "code",
   "execution_count": 16,
   "id": "721c11d6",
   "metadata": {},
   "outputs": [
    {
     "data": {
      "text/html": [
       "<div>\n",
       "<style scoped>\n",
       "    .dataframe tbody tr th:only-of-type {\n",
       "        vertical-align: middle;\n",
       "    }\n",
       "\n",
       "    .dataframe tbody tr th {\n",
       "        vertical-align: top;\n",
       "    }\n",
       "\n",
       "    .dataframe thead th {\n",
       "        text-align: right;\n",
       "    }\n",
       "</style>\n",
       "<table border=\"1\" class=\"dataframe\">\n",
       "  <thead>\n",
       "    <tr style=\"text-align: right;\">\n",
       "      <th></th>\n",
       "      <th>Profits (Billions)</th>\n",
       "    </tr>\n",
       "  </thead>\n",
       "  <tbody>\n",
       "    <tr>\n",
       "      <th>Profits (Billions)</th>\n",
       "      <td>1.0</td>\n",
       "    </tr>\n",
       "  </tbody>\n",
       "</table>\n",
       "</div>"
      ],
      "text/plain": [
       "                    Profits (Billions)\n",
       "Profits (Billions)                 1.0"
      ]
     },
     "execution_count": 16,
     "metadata": {},
     "output_type": "execute_result"
    }
   ],
   "source": [
    "data[['Total Employees','Profits (Billions)']].corr()"
   ]
  },
  {
   "cell_type": "markdown",
   "id": "59636d71",
   "metadata": {},
   "source": [
    "### Finding and dropping the \"]\" character that is appearing in the Total Employees Column"
   ]
  },
  {
   "cell_type": "code",
   "execution_count": 17,
   "id": "8e915974",
   "metadata": {},
   "outputs": [
    {
     "data": {
      "text/plain": [
       "2022 Ranking                                             61\n",
       "Organization Name          LVMH Moët Hennessy Louis Vuitton\n",
       "Industry                      Household & Personal Products\n",
       "Country                                              France\n",
       "Year Founded                                           1987\n",
       "CEO                                         Bernard Arnault\n",
       "Revenue (Billions)                                     75.9\n",
       "Profits (Billions)                                    14.23\n",
       "Assets (Billions)                                     142.5\n",
       "Market Value (Billions)                               346.8\n",
       "Total Employees                                     134000]\n",
       "Name: 60, dtype: object"
      ]
     },
     "execution_count": 17,
     "metadata": {},
     "output_type": "execute_result"
    }
   ],
   "source": [
    "for i in range(len(data['Total Employees'])):\n",
    "    if '134000]' == data['Total Employees'][i]:\n",
    "        indx = i\n",
    "        \n",
    "data.iloc[indx]"
   ]
  },
  {
   "cell_type": "code",
   "execution_count": 18,
   "id": "252d89d6",
   "metadata": {},
   "outputs": [
    {
     "name": "stdout",
     "output_type": "stream",
     "text": [
      "2022 Ranking                                             61\n",
      "Organization Name          LVMH Moët Hennessy Louis Vuitton\n",
      "Industry                      Household & Personal Products\n",
      "Country                                              France\n",
      "Year Founded                                           1987\n",
      "CEO                                         Bernard Arnault\n",
      "Revenue (Billions)                                     75.9\n",
      "Profits (Billions)                                    14.23\n",
      "Assets (Billions)                                     142.5\n",
      "Market Value (Billions)                               346.8\n",
      "Total Employees                                     134000]\n",
      "Name: 60, dtype: object\n"
     ]
    }
   ],
   "source": [
    "print(data.iloc[60])"
   ]
  },
  {
   "cell_type": "code",
   "execution_count": 19,
   "id": "69f80a0c",
   "metadata": {},
   "outputs": [],
   "source": [
    "data['Copy of Total Employees'] = data['Total Employees'].map(lambda x: x.rstrip(']'))"
   ]
  },
  {
   "cell_type": "code",
   "execution_count": 20,
   "id": "59e43ec7",
   "metadata": {},
   "outputs": [],
   "source": [
    "data['Copy of Total Employees'] = data['Copy of Total Employees'].astype(float)"
   ]
  },
  {
   "cell_type": "code",
   "execution_count": 21,
   "id": "411892d4",
   "metadata": {},
   "outputs": [
    {
     "data": {
      "text/html": [
       "<div>\n",
       "<style scoped>\n",
       "    .dataframe tbody tr th:only-of-type {\n",
       "        vertical-align: middle;\n",
       "    }\n",
       "\n",
       "    .dataframe tbody tr th {\n",
       "        vertical-align: top;\n",
       "    }\n",
       "\n",
       "    .dataframe thead th {\n",
       "        text-align: right;\n",
       "    }\n",
       "</style>\n",
       "<table border=\"1\" class=\"dataframe\">\n",
       "  <thead>\n",
       "    <tr style=\"text-align: right;\">\n",
       "      <th></th>\n",
       "      <th>2022 Ranking</th>\n",
       "      <th>Organization Name</th>\n",
       "      <th>Industry</th>\n",
       "      <th>Country</th>\n",
       "      <th>Year Founded</th>\n",
       "      <th>CEO</th>\n",
       "      <th>Revenue (Billions)</th>\n",
       "      <th>Profits (Billions)</th>\n",
       "      <th>Assets (Billions)</th>\n",
       "      <th>Market Value (Billions)</th>\n",
       "      <th>Total Employees</th>\n",
       "      <th>Copy of Total Employees</th>\n",
       "    </tr>\n",
       "  </thead>\n",
       "  <tbody>\n",
       "    <tr>\n",
       "      <th>0</th>\n",
       "      <td>1</td>\n",
       "      <td>Berkshire Hathaway</td>\n",
       "      <td>Diversified Financials</td>\n",
       "      <td>United States</td>\n",
       "      <td>1939</td>\n",
       "      <td>Warren Edward Buffett</td>\n",
       "      <td>276.09</td>\n",
       "      <td>89.80</td>\n",
       "      <td>958.78</td>\n",
       "      <td>741.48</td>\n",
       "      <td>372000.0</td>\n",
       "      <td>372000.0</td>\n",
       "    </tr>\n",
       "    <tr>\n",
       "      <th>1</th>\n",
       "      <td>2</td>\n",
       "      <td>ICBC</td>\n",
       "      <td>Banking</td>\n",
       "      <td>China</td>\n",
       "      <td>1984</td>\n",
       "      <td>Shu Gu</td>\n",
       "      <td>208.13</td>\n",
       "      <td>54.03</td>\n",
       "      <td>5518.51</td>\n",
       "      <td>214.42</td>\n",
       "      <td>449296</td>\n",
       "      <td>449296.0</td>\n",
       "    </tr>\n",
       "    <tr>\n",
       "      <th>2</th>\n",
       "      <td>3</td>\n",
       "      <td>Saudi Arabian Oil Company (Saudi Aramco)</td>\n",
       "      <td>Oil &amp; Gas Operations</td>\n",
       "      <td>Saudi Arabia</td>\n",
       "      <td>1933</td>\n",
       "      <td>Amin bin Hasan Al-Nasser</td>\n",
       "      <td>400.38</td>\n",
       "      <td>105.36</td>\n",
       "      <td>576.04</td>\n",
       "      <td>2292.08</td>\n",
       "      <td>68493.0</td>\n",
       "      <td>68493.0</td>\n",
       "    </tr>\n",
       "    <tr>\n",
       "      <th>3</th>\n",
       "      <td>4</td>\n",
       "      <td>JPMorgan Chase</td>\n",
       "      <td>Diversified Financials</td>\n",
       "      <td>United States</td>\n",
       "      <td>2000</td>\n",
       "      <td>Jamie Dimon</td>\n",
       "      <td>124.54</td>\n",
       "      <td>42.12</td>\n",
       "      <td>3954.69</td>\n",
       "      <td>374.45</td>\n",
       "      <td>271025.0</td>\n",
       "      <td>271025.0</td>\n",
       "    </tr>\n",
       "    <tr>\n",
       "      <th>4</th>\n",
       "      <td>5</td>\n",
       "      <td>China Construction Bank</td>\n",
       "      <td>Banking</td>\n",
       "      <td>China</td>\n",
       "      <td>2014</td>\n",
       "      <td>Wang Zuji</td>\n",
       "      <td>202.07</td>\n",
       "      <td>46.89</td>\n",
       "      <td>4746.95</td>\n",
       "      <td>181.32</td>\n",
       "      <td>352621</td>\n",
       "      <td>352621.0</td>\n",
       "    </tr>\n",
       "  </tbody>\n",
       "</table>\n",
       "</div>"
      ],
      "text/plain": [
       "   2022 Ranking                         Organization Name  \\\n",
       "0             1                        Berkshire Hathaway   \n",
       "1             2                                      ICBC   \n",
       "2             3  Saudi Arabian Oil Company (Saudi Aramco)   \n",
       "3             4                            JPMorgan Chase   \n",
       "4             5                   China Construction Bank   \n",
       "\n",
       "                 Industry        Country  Year Founded  \\\n",
       "0  Diversified Financials  United States          1939   \n",
       "1                 Banking          China          1984   \n",
       "2    Oil & Gas Operations   Saudi Arabia          1933   \n",
       "3  Diversified Financials  United States          2000   \n",
       "4                 Banking          China          2014   \n",
       "\n",
       "                        CEO  Revenue (Billions)  Profits (Billions)  \\\n",
       "0     Warren Edward Buffett              276.09               89.80   \n",
       "1                    Shu Gu              208.13               54.03   \n",
       "2  Amin bin Hasan Al-Nasser              400.38              105.36   \n",
       "3               Jamie Dimon              124.54               42.12   \n",
       "4                 Wang Zuji              202.07               46.89   \n",
       "\n",
       "   Assets (Billions)  Market Value (Billions) Total Employees  \\\n",
       "0             958.78                   741.48        372000.0   \n",
       "1            5518.51                   214.42          449296   \n",
       "2             576.04                  2292.08         68493.0   \n",
       "3            3954.69                   374.45        271025.0   \n",
       "4            4746.95                   181.32          352621   \n",
       "\n",
       "   Copy of Total Employees  \n",
       "0                 372000.0  \n",
       "1                 449296.0  \n",
       "2                  68493.0  \n",
       "3                 271025.0  \n",
       "4                 352621.0  "
      ]
     },
     "execution_count": 21,
     "metadata": {},
     "output_type": "execute_result"
    }
   ],
   "source": [
    "data.head()"
   ]
  },
  {
   "cell_type": "code",
   "execution_count": 22,
   "id": "0dca8bc7",
   "metadata": {},
   "outputs": [],
   "source": [
    "### Replacing Total Employees column with the values from Copy of Total Employees\n",
    "data['Total Employees'] = data['Copy of Total Employees']"
   ]
  },
  {
   "cell_type": "markdown",
   "id": "459d0008",
   "metadata": {},
   "source": [
    "### Finding the correlation, if any, between Company Size (Number of Employees) and Revenue"
   ]
  },
  {
   "cell_type": "code",
   "execution_count": 23,
   "id": "3715f787",
   "metadata": {},
   "outputs": [
    {
     "data": {
      "image/png": "[encoded data removed]",
      "text/plain": [
       "<Figure size 432x288 with 2 Axes>"
      ]
     },
     "metadata": {},
     "output_type": "display_data"
    }
   ],
   "source": [
    "sns.heatmap(data[['Total Employees', 'Revenue (Billions)', 'Profits (Billions)']].corr(),\n",
    "            annot = True);"
   ]
  },
  {
   "cell_type": "markdown",
   "id": "45d0bd0b",
   "metadata": {},
   "source": [
    "### Checking the top 10 countries by count of Companies"
   ]
  },
  {
   "cell_type": "code",
   "execution_count": 24,
   "id": "e43c450f",
   "metadata": {},
   "outputs": [
    {
     "data": {
      "image/png": "[encoded data removed]",
      "text/plain": [
       "<Figure size 864x576 with 1 Axes>"
      ]
     },
     "metadata": {},
     "output_type": "display_data"
    }
   ],
   "source": [
    "count_of_country = data['Country'].value_counts()\n",
    "\n",
    "count_of_country.sort_values(ascending = False)[:10].plot(kind = 'bar',figsize = (12,8),\n",
    "                                                          title = \"Top 10 Countries by Count of Companies\");"
   ]
  },
  {
   "cell_type": "markdown",
   "id": "05585c3f",
   "metadata": {},
   "source": [
    "### Finding the highest grossing companies in each Country"
   ]
  },
  {
   "cell_type": "code",
   "execution_count": 25,
   "id": "b7738518",
   "metadata": {},
   "outputs": [
    {
     "data": {
      "text/html": [
       "<div>\n",
       "<style scoped>\n",
       "    .dataframe tbody tr th:only-of-type {\n",
       "        vertical-align: middle;\n",
       "    }\n",
       "\n",
       "    .dataframe tbody tr th {\n",
       "        vertical-align: top;\n",
       "    }\n",
       "\n",
       "    .dataframe thead th {\n",
       "        text-align: right;\n",
       "    }\n",
       "</style>\n",
       "<table border=\"1\" class=\"dataframe\">\n",
       "  <thead>\n",
       "    <tr style=\"text-align: right;\">\n",
       "      <th></th>\n",
       "      <th>2022 Ranking</th>\n",
       "      <th>Organization Name</th>\n",
       "      <th>Industry</th>\n",
       "      <th>Country</th>\n",
       "      <th>Year Founded</th>\n",
       "      <th>CEO</th>\n",
       "      <th>Revenue (Billions)</th>\n",
       "      <th>Profits (Billions)</th>\n",
       "      <th>Assets (Billions)</th>\n",
       "      <th>Market Value (Billions)</th>\n",
       "      <th>Total Employees</th>\n",
       "      <th>Copy of Total Employees</th>\n",
       "    </tr>\n",
       "  </thead>\n",
       "  <tbody>\n",
       "    <tr>\n",
       "      <th>1609</th>\n",
       "      <td>1608</td>\n",
       "      <td>YPF</td>\n",
       "      <td>Oil &amp; Gas Operations</td>\n",
       "      <td>Argentina</td>\n",
       "      <td>1977</td>\n",
       "      <td>Sergio Pablo Antonio</td>\n",
       "      <td>13.02</td>\n",
       "      <td>0.00</td>\n",
       "      <td>23.27</td>\n",
       "      <td>3.31</td>\n",
       "      <td>114365.0</td>\n",
       "      <td>114365.0</td>\n",
       "    </tr>\n",
       "    <tr>\n",
       "      <th>74</th>\n",
       "      <td>75</td>\n",
       "      <td>BHP Group</td>\n",
       "      <td>Materials</td>\n",
       "      <td>Australia</td>\n",
       "      <td>1885</td>\n",
       "      <td>Mike Henry</td>\n",
       "      <td>65.55</td>\n",
       "      <td>16.92</td>\n",
       "      <td>105.72</td>\n",
       "      <td>178.07</td>\n",
       "      <td>60644.0</td>\n",
       "      <td>60644.0</td>\n",
       "    </tr>\n",
       "    <tr>\n",
       "      <th>387</th>\n",
       "      <td>388</td>\n",
       "      <td>OMV Group</td>\n",
       "      <td>Oil &amp; Gas Operations</td>\n",
       "      <td>Austria</td>\n",
       "      <td>1956</td>\n",
       "      <td>Alfred Stern</td>\n",
       "      <td>42.02</td>\n",
       "      <td>2.47</td>\n",
       "      <td>64.55</td>\n",
       "      <td>16.24</td>\n",
       "      <td>22434.0</td>\n",
       "      <td>22434.0</td>\n",
       "    </tr>\n",
       "    <tr>\n",
       "      <th>1461</th>\n",
       "      <td>1462</td>\n",
       "      <td>Ahli United Bank</td>\n",
       "      <td>Banking</td>\n",
       "      <td>Bahrain</td>\n",
       "      <td>2000</td>\n",
       "      <td>Adel Mohamed Abdul Shafe El-Labban</td>\n",
       "      <td>1.56</td>\n",
       "      <td>0.57</td>\n",
       "      <td>41.91</td>\n",
       "      <td>11.43</td>\n",
       "      <td>16895.0</td>\n",
       "      <td>16895.0</td>\n",
       "    </tr>\n",
       "    <tr>\n",
       "      <th>92</th>\n",
       "      <td>93</td>\n",
       "      <td>Anheuser-Busch InBev</td>\n",
       "      <td>Food, Drink &amp; Tobacco</td>\n",
       "      <td>Belgium</td>\n",
       "      <td>2008</td>\n",
       "      <td>Michel Dimitrios Doukeris</td>\n",
       "      <td>54.33</td>\n",
       "      <td>4.66</td>\n",
       "      <td>219.37</td>\n",
       "      <td>118.52</td>\n",
       "      <td>169339.0</td>\n",
       "      <td>169339.0</td>\n",
       "    </tr>\n",
       "  </tbody>\n",
       "</table>\n",
       "</div>"
      ],
      "text/plain": [
       "      2022 Ranking     Organization Name               Industry    Country  \\\n",
       "1609          1608                  YPF    Oil & Gas Operations  Argentina   \n",
       "74              75             BHP Group              Materials  Australia   \n",
       "387            388             OMV Group   Oil & Gas Operations    Austria   \n",
       "1461          1462      Ahli United Bank                Banking    Bahrain   \n",
       "92              93  Anheuser-Busch InBev  Food, Drink & Tobacco    Belgium   \n",
       "\n",
       "      Year Founded                                 CEO  Revenue (Billions)  \\\n",
       "1609          1977                Sergio Pablo Antonio               13.02   \n",
       "74            1885                          Mike Henry               65.55   \n",
       "387           1956                        Alfred Stern               42.02   \n",
       "1461          2000  Adel Mohamed Abdul Shafe El-Labban                1.56   \n",
       "92            2008           Michel Dimitrios Doukeris               54.33   \n",
       "\n",
       "      Profits (Billions)  Assets (Billions)  Market Value (Billions)  \\\n",
       "1609                0.00              23.27                     3.31   \n",
       "74                 16.92             105.72                   178.07   \n",
       "387                 2.47              64.55                    16.24   \n",
       "1461                0.57              41.91                    11.43   \n",
       "92                  4.66             219.37                   118.52   \n",
       "\n",
       "      Total Employees  Copy of Total Employees  \n",
       "1609         114365.0                 114365.0  \n",
       "74            60644.0                  60644.0  \n",
       "387           22434.0                  22434.0  \n",
       "1461          16895.0                  16895.0  \n",
       "92           169339.0                 169339.0  "
      ]
     },
     "execution_count": 25,
     "metadata": {},
     "output_type": "execute_result"
    }
   ],
   "source": [
    "top_rev_by_country = data.loc[data.groupby('Country')['Revenue (Billions)'].idxmax()]\n",
    "top_rev_by_country.head()"
   ]
  },
  {
   "cell_type": "code",
   "execution_count": 26,
   "id": "82773257",
   "metadata": {},
   "outputs": [
    {
     "data": {
      "image/png": "[encoded data removed]",
      "text/plain": [
       "<Figure size 1008x576 with 1 Axes>"
      ]
     },
     "metadata": {},
     "output_type": "display_data"
    }
   ],
   "source": [
    "fig, ax = plt.subplots(figsize = (14,8))\n",
    "sns.barplot(data = top_rev_by_country.sort_values(by = ['Revenue (Billions)'], ascending = False), \n",
    "            x = 'Country', y = \"Revenue (Billions)\")\n",
    "plt.title('Best Companies in each Country by Revenue')\n",
    "plt.xlabel('Country')\n",
    "plt.ylabel('Revenue')\n",
    "plt.xticks(rotation = 90)\n",
    "\n",
    "plt.show();"
   ]
  },
  {
   "cell_type": "markdown",
   "id": "51d81420",
   "metadata": {},
   "source": [
    "### Plotting highest grossing companies in each country with revenue"
   ]
  },
  {
   "cell_type": "code",
   "execution_count": 27,
   "id": "20300559",
   "metadata": {},
   "outputs": [
    {
     "data": {
      "application/vnd.plotly.v1+json": {
       "config": {
        "plotlyServerURL": "https://plot.ly"
       },
       "data": [
        {
         "name": "Argentina",
         "type": "bar",
         "x": [
          "YPF "
         ],
         "y": [
          13.02
         ]
        },
        {
         "name": "Australia",
         "type": "bar",
         "x": [
          "BHP Group"
         ],
         "y": [
          65.55
         ]
        },
        {
         "name": "Austria",
         "type": "bar",
         "x": [
          "OMV Group"
         ],
         "y": [
          42.02
         ]
        },
        {
         "name": "Bahrain",
         "type": "bar",
         "x": [
          "Ahli United Bank"
         ],
         "y": [
          1.56
         ]
        },
        {
         "name": "Belgium",
         "type": "bar",
         "x": [
          "Anheuser-Busch InBev"
         ],
         "y": [
          54.33
         ]
        },
        {
         "name": "Bermuda",
         "type": "bar",
         "x": [
          "Jardine Matheson"
         ],
         "y": [
          35.86
         ]
        },
        {
         "name": "Brazil",
         "type": "bar",
         "x": [
          "Petrobras"
         ],
         "y": [
          83.89
         ]
        },
        {
         "name": "Canada",
         "type": "bar",
         "x": [
          "The Home Depot"
         ],
         "y": [
          151.16
         ]
        },
        {
         "name": "Cayman Islands",
         "type": "bar",
         "x": [
          "Nu Holdings"
         ],
         "y": [
          1.4
         ]
        },
        {
         "name": "Chile",
         "type": "bar",
         "x": [
          "AntarChile"
         ],
         "y": [
          24.9
         ]
        },
        {
         "name": "China",
         "type": "bar",
         "x": [
          "Sinopec"
         ],
         "y": [
          384.82
         ]
        },
        {
         "name": "Colombia",
         "type": "bar",
         "x": [
          "Ecopetrol"
         ],
         "y": [
          23.43
         ]
        },
        {
         "name": "Czech Republic",
         "type": "bar",
         "x": [
          "CEZ Group"
         ],
         "y": [
          10.9
         ]
        },
        {
         "name": "Denmark",
         "type": "bar",
         "x": [
          "Møller-Maersk"
         ],
         "y": [
          61.95
         ]
        },
        {
         "name": "Egypt",
         "type": "bar",
         "x": [
          "Commercial International Bank"
         ],
         "y": [
          3.22
         ]
        },
        {
         "name": "Finland",
         "type": "bar",
         "x": [
          "Fortum"
         ],
         "y": [
          132.85
         ]
        },
        {
         "name": "France",
         "type": "bar",
         "x": [
          "Total"
         ],
         "y": [
          185.12
         ]
        },
        {
         "name": "Germany",
         "type": "bar",
         "x": [
          "Volkswagen Group"
         ],
         "y": [
          295.73
         ]
        },
        {
         "name": "Greece",
         "type": "bar",
         "x": [
          "Piraeus Financial Holdings"
         ],
         "y": [
          3.33
         ]
        },
        {
         "name": "Hong Kong",
         "type": "bar",
         "x": [
          "China Mobile"
         ],
         "y": [
          131.49
         ]
        },
        {
         "name": "Hungary",
         "type": "bar",
         "x": [
          "MOL Hungarian Oil"
         ],
         "y": [
          19.64
         ]
        },
        {
         "name": "India",
         "type": "bar",
         "x": [
          "Reliance Industries"
         ],
         "y": [
          86.85
         ]
        },
        {
         "name": "Indonesia",
         "type": "bar",
         "x": [
          "Bank Rakyat Indonesia (BRI)"
         ],
         "y": [
          12.77
         ]
        },
        {
         "name": "Ireland",
         "type": "bar",
         "x": [
          "Accenture"
         ],
         "y": [
          56.7
         ]
        },
        {
         "name": "Israel",
         "type": "bar",
         "x": [
          "Teva Pharmaceutical"
         ],
         "y": [
          15.85
         ]
        },
        {
         "name": "Italy",
         "type": "bar",
         "x": [
          "Generali Group"
         ],
         "y": [
          102.13
         ]
        },
        {
         "name": "Japan",
         "type": "bar",
         "x": [
          "Toyota Motor"
         ],
         "y": [
          281.75
         ]
        },
        {
         "name": "Kazakhstan",
         "type": "bar",
         "x": [
          "Halyk Bank"
         ],
         "y": [
          2.93
         ]
        },
        {
         "name": "Kuwait",
         "type": "bar",
         "x": [
          "National Bank of Kuwait "
         ],
         "y": [
          3.82
         ]
        },
        {
         "name": "Luxembourg",
         "type": "bar",
         "x": [
          "ArcelorMittal"
         ],
         "y": [
          76.65
         ]
        },
        {
         "name": "Malaysia",
         "type": "bar",
         "x": [
          "Tenaga Nasional"
         ],
         "y": [
          12.7
         ]
        },
        {
         "name": "Mexico",
         "type": "bar",
         "x": [
          "América Móvil"
         ],
         "y": [
          48.37
         ]
        },
        {
         "name": "Morocco",
         "type": "bar",
         "x": [
          "Attijariwafa Bank"
         ],
         "y": [
          4.71
         ]
        },
        {
         "name": "Netherlands",
         "type": "bar",
         "x": [
          "Stellantis"
         ],
         "y": [
          176.61
         ]
        },
        {
         "name": "Nigeria",
         "type": "bar",
         "x": [
          "Dangote Cement"
         ],
         "y": [
          3.38
         ]
        },
        {
         "name": "Norway",
         "type": "bar",
         "x": [
          "Equinor"
         ],
         "y": [
          88.37
         ]
        },
        {
         "name": "Peru",
         "type": "bar",
         "x": [
          "Credicorp"
         ],
         "y": [
          4.89
         ]
        },
        {
         "name": "Philippines",
         "type": "bar",
         "x": [
          "Top Frontier Investment Holdings"
         ],
         "y": [
          17.34
         ]
        },
        {
         "name": "Poland",
         "type": "bar",
         "x": [
          "PKN Orlen"
         ],
         "y": [
          34.07
         ]
        },
        {
         "name": "Portugal",
         "type": "bar",
         "x": [
          "Jeronimo Martins"
         ],
         "y": [
          24.69
         ]
        },
        {
         "name": "Qatar",
         "type": "bar",
         "x": [
          "Qatar National Bank"
         ],
         "y": [
          14.2
         ]
        },
        {
         "name": "Russia",
         "type": "bar",
         "x": [
          "LukOil"
         ],
         "y": [
          125.11
         ]
        },
        {
         "name": "Saudi Arabia",
         "type": "bar",
         "x": [
          "Saudi Arabian Oil Company (Saudi Aramco)"
         ],
         "y": [
          400.38
         ]
        },
        {
         "name": "Singapore",
         "type": "bar",
         "x": [
          "Wilmar International"
         ],
         "y": [
          65.84
         ]
        },
        {
         "name": "South Africa",
         "type": "bar",
         "x": [
          "Old Mutual"
         ],
         "y": [
          16.76
         ]
        },
        {
         "name": "South Korea",
         "type": "bar",
         "x": [
          "Samsung Group"
         ],
         "y": [
          244.16
         ]
        },
        {
         "name": "Spain",
         "type": "bar",
         "x": [
          "Santander"
         ],
         "y": [
          78.22
         ]
        },
        {
         "name": "Sweden",
         "type": "bar",
         "x": [
          "Volvo Group"
         ],
         "y": [
          43.36
         ]
        },
        {
         "name": "Switzerland",
         "type": "bar",
         "x": [
          "Glencore International"
         ],
         "y": [
          203.41
         ]
        },
        {
         "name": "Taiwan",
         "type": "bar",
         "x": [
          "Hon Hai Precision "
         ],
         "y": [
          214.6
         ]
        },
        {
         "name": "Thailand",
         "type": "bar",
         "x": [
          "PTT "
         ],
         "y": [
          70.55
         ]
        },
        {
         "name": "Turkey",
         "type": "bar",
         "x": [
          "Koç Holding"
         ],
         "y": [
          38.84
         ]
        },
        {
         "name": "United Arab Emirates",
         "type": "bar",
         "x": [
          "Etisalat"
         ],
         "y": [
          14.52
         ]
        },
        {
         "name": "United Kingdom",
         "type": "bar",
         "x": [
          "Shell"
         ],
         "y": [
          261.76
         ]
        },
        {
         "name": "United States",
         "type": "bar",
         "x": [
          "Walmart"
         ],
         "y": [
          572.75
         ]
        },
        {
         "name": "Uruguay",
         "type": "bar",
         "x": [
          "MercadoLibre"
         ],
         "y": [
          7.07
         ]
        },
        {
         "name": "Vietnam",
         "type": "bar",
         "x": [
          "Hoa Phat Group"
         ],
         "y": [
          6.53
         ]
        }
       ],
       "layout": {
        "autosize": false,
        "height": 800,
        "template": {
         "data": {
          "bar": [
           {
            "error_x": {
             "color": "#2a3f5f"
            },
            "error_y": {
             "color": "#2a3f5f"
            },
            "marker": {
             "line": {
              "color": "#E5ECF6",
              "width": 0.5
             },
             "pattern": {
              "fillmode": "overlay",
              "size": 10,
              "solidity": 0.2
             }
            },
            "type": "bar"
           }
          ],
          "barpolar": [
           {
            "marker": {
             "line": {
              "color": "#E5ECF6",
              "width": 0.5
             },
             "pattern": {
              "fillmode": "overlay",
              "size": 10,
              "solidity": 0.2
             }
            },
            "type": "barpolar"
           }
          ],
          "carpet": [
           {
            "aaxis": {
             "endlinecolor": "#2a3f5f",
             "gridcolor": "white",
             "linecolor": "white",
             "minorgridcolor": "white",
             "startlinecolor": "#2a3f5f"
            },
            "baxis": {
             "endlinecolor": "#2a3f5f",
             "gridcolor": "white",
             "linecolor": "white",
             "minorgridcolor": "white",
             "startlinecolor": "#2a3f5f"
            },
            "type": "carpet"
           }
          ],
          "choropleth": [
           {
            "colorbar": {
             "outlinewidth": 0,
             "ticks": ""
            },
            "type": "choropleth"
           }
          ],
          "contour": [
           {
            "colorbar": {
             "outlinewidth": 0,
             "ticks": ""
            },
            "colorscale": [
             [
              0,
              "#0d0887"
             ],
             [
              0.1111111111111111,
              "#46039f"
             ],
             [
              0.2222222222222222,
              "#7201a8"
             ],
             [
              0.3333333333333333,
              "#9c179e"
             ],
             [
              0.4444444444444444,
              "#bd3786"
             ],
             [
              0.5555555555555556,
              "#d8576b"
             ],
             [
              0.6666666666666666,
              "#ed7953"
             ],
             [
              0.7777777777777778,
              "#fb9f3a"
             ],
             [
              0.8888888888888888,
              "#fdca26"
             ],
             [
              1,
              "#f0f921"
             ]
            ],
            "type": "contour"
           }
          ],
          "contourcarpet": [
           {
            "colorbar": {
             "outlinewidth": 0,
             "ticks": ""
            },
            "type": "contourcarpet"
           }
          ],
          "heatmap": [
           {
            "colorbar": {
             "outlinewidth": 0,
             "ticks": ""
            },
            "colorscale": [
             [
              0,
              "#0d0887"
             ],
             [
              0.1111111111111111,
              "#46039f"
             ],
             [
              0.2222222222222222,
              "#7201a8"
             ],
             [
              0.3333333333333333,
              "#9c179e"
             ],
             [
              0.4444444444444444,
              "#bd3786"
             ],
             [
              0.5555555555555556,
              "#d8576b"
             ],
             [
              0.6666666666666666,
              "#ed7953"
             ],
             [
              0.7777777777777778,
              "#fb9f3a"
             ],
             [
              0.8888888888888888,
              "#fdca26"
             ],
             [
              1,
              "#f0f921"
             ]
            ],
            "type": "heatmap"
           }
          ],
          "heatmapgl": [
           {
            "colorbar": {
             "outlinewidth": 0,
             "ticks": ""
            },
            "colorscale": [
             [
              0,
              "#0d0887"
             ],
             [
              0.1111111111111111,
              "#46039f"
             ],
             [
              0.2222222222222222,
              "#7201a8"
             ],
             [
              0.3333333333333333,
              "#9c179e"
             ],
             [
              0.4444444444444444,
              "#bd3786"
             ],
             [
              0.5555555555555556,
              "#d8576b"
             ],
             [
              0.6666666666666666,
              "#ed7953"
             ],
             [
              0.7777777777777778,
              "#fb9f3a"
             ],
             [
              0.8888888888888888,
              "#fdca26"
             ],
             [
              1,
              "#f0f921"
             ]
            ],
            "type": "heatmapgl"
           }
          ],
          "histogram": [
           {
            "marker": {
             "pattern": {
              "fillmode": "overlay",
              "size": 10,
              "solidity": 0.2
             }
            },
            "type": "histogram"
           }
          ],
          "histogram2d": [
           {
            "colorbar": {
             "outlinewidth": 0,
             "ticks": ""
            },
            "colorscale": [
             [
              0,
              "#0d0887"
             ],
             [
              0.1111111111111111,
              "#46039f"
             ],
             [
              0.2222222222222222,
              "#7201a8"
             ],
             [
              0.3333333333333333,
              "#9c179e"
             ],
             [
              0.4444444444444444,
              "#bd3786"
             ],
             [
              0.5555555555555556,
              "#d8576b"
             ],
             [
              0.6666666666666666,
              "#ed7953"
             ],
             [
              0.7777777777777778,
              "#fb9f3a"
             ],
             [
              0.8888888888888888,
              "#fdca26"
             ],
             [
              1,
              "#f0f921"
             ]
            ],
            "type": "histogram2d"
           }
          ],
          "histogram2dcontour": [
           {
            "colorbar": {
             "outlinewidth": 0,
             "ticks": ""
            },
            "colorscale": [
             [
              0,
              "#0d0887"
             ],
             [
              0.1111111111111111,
              "#46039f"
             ],
             [
              0.2222222222222222,
              "#7201a8"
             ],
             [
              0.3333333333333333,
              "#9c179e"
             ],
             [
              0.4444444444444444,
              "#bd3786"
             ],
             [
              0.5555555555555556,
              "#d8576b"
             ],
             [
              0.6666666666666666,
              "#ed7953"
             ],
             [
              0.7777777777777778,
              "#fb9f3a"
             ],
             [
              0.8888888888888888,
              "#fdca26"
             ],
             [
              1,
              "#f0f921"
             ]
            ],
            "type": "histogram2dcontour"
           }
          ],
          "mesh3d": [
           {
            "colorbar": {
             "outlinewidth": 0,
             "ticks": ""
            },
            "type": "mesh3d"
           }
          ],
          "parcoords": [
           {
            "line": {
             "colorbar": {
              "outlinewidth": 0,
              "ticks": ""
             }
            },
            "type": "parcoords"
           }
          ],
          "pie": [
           {
            "automargin": true,
            "type": "pie"
           }
          ],
          "scatter": [
           {
            "marker": {
             "colorbar": {
              "outlinewidth": 0,
              "ticks": ""
             }
            },
            "type": "scatter"
           }
          ],
          "scatter3d": [
           {
            "line": {
             "colorbar": {
              "outlinewidth": 0,
              "ticks": ""
             }
            },
            "marker": {
             "colorbar": {
              "outlinewidth": 0,
              "ticks": ""
             }
            },
            "type": "scatter3d"
           }
          ],
          "scattercarpet": [
           {
            "marker": {
             "colorbar": {
              "outlinewidth": 0,
              "ticks": ""
             }
            },
            "type": "scattercarpet"
           }
          ],
          "scattergeo": [
           {
            "marker": {
             "colorbar": {
              "outlinewidth": 0,
              "ticks": ""
             }
            },
            "type": "scattergeo"
           }
          ],
          "scattergl": [
           {
            "marker": {
             "colorbar": {
              "outlinewidth": 0,
              "ticks": ""
             }
            },
            "type": "scattergl"
           }
          ],
          "scattermapbox": [
           {
            "marker": {
             "colorbar": {
              "outlinewidth": 0,
              "ticks": ""
             }
            },
            "type": "scattermapbox"
           }
          ],
          "scatterpolar": [
           {
            "marker": {
             "colorbar": {
              "outlinewidth": 0,
              "ticks": ""
             }
            },
            "type": "scatterpolar"
           }
          ],
          "scatterpolargl": [
           {
            "marker": {
             "colorbar": {
              "outlinewidth": 0,
              "ticks": ""
             }
            },
            "type": "scatterpolargl"
           }
          ],
          "scatterternary": [
           {
            "marker": {
             "colorbar": {
              "outlinewidth": 0,
              "ticks": ""
             }
            },
            "type": "scatterternary"
           }
          ],
          "surface": [
           {
            "colorbar": {
             "outlinewidth": 0,
             "ticks": ""
            },
            "colorscale": [
             [
              0,
              "#0d0887"
             ],
             [
              0.1111111111111111,
              "#46039f"
             ],
             [
              0.2222222222222222,
              "#7201a8"
             ],
             [
              0.3333333333333333,
              "#9c179e"
             ],
             [
              0.4444444444444444,
              "#bd3786"
             ],
             [
              0.5555555555555556,
              "#d8576b"
             ],
             [
              0.6666666666666666,
              "#ed7953"
             ],
             [
              0.7777777777777778,
              "#fb9f3a"
             ],
             [
              0.8888888888888888,
              "#fdca26"
             ],
             [
              1,
              "#f0f921"
             ]
            ],
            "type": "surface"
           }
          ],
          "table": [
           {
            "cells": {
             "fill": {
              "color": "#EBF0F8"
             },
             "line": {
              "color": "white"
             }
            },
            "header": {
             "fill": {
              "color": "#C8D4E3"
             },
             "line": {
              "color": "white"
             }
            },
            "type": "table"
           }
          ]
         },
         "layout": {
          "annotationdefaults": {
           "arrowcolor": "#2a3f5f",
           "arrowhead": 0,
           "arrowwidth": 1
          },
          "autotypenumbers": "strict",
          "coloraxis": {
           "colorbar": {
            "outlinewidth": 0,
            "ticks": ""
           }
          },
          "colorscale": {
           "diverging": [
            [
             0,
             "#8e0152"
            ],
            [
             0.1,
             "#c51b7d"
            ],
            [
             0.2,
             "#de77ae"
            ],
            [
             0.3,
             "#f1b6da"
            ],
            [
             0.4,
             "#fde0ef"
            ],
            [
             0.5,
             "#f7f7f7"
            ],
            [
             0.6,
             "#e6f5d0"
            ],
            [
             0.7,
             "#b8e186"
            ],
            [
             0.8,
             "#7fbc41"
            ],
            [
             0.9,
             "#4d9221"
            ],
            [
             1,
             "#276419"
            ]
           ],
           "sequential": [
            [
             0,
             "#0d0887"
            ],
            [
             0.1111111111111111,
             "#46039f"
            ],
            [
             0.2222222222222222,
             "#7201a8"
            ],
            [
             0.3333333333333333,
             "#9c179e"
            ],
            [
             0.4444444444444444,
             "#bd3786"
            ],
            [
             0.5555555555555556,
             "#d8576b"
            ],
            [
             0.6666666666666666,
             "#ed7953"
            ],
            [
             0.7777777777777778,
             "#fb9f3a"
            ],
            [
             0.8888888888888888,
             "#fdca26"
            ],
            [
             1,
             "#f0f921"
            ]
           ],
           "sequentialminus": [
            [
             0,
             "#0d0887"
            ],
            [
             0.1111111111111111,
             "#46039f"
            ],
            [
             0.2222222222222222,
             "#7201a8"
            ],
            [
             0.3333333333333333,
             "#9c179e"
            ],
            [
             0.4444444444444444,
             "#bd3786"
            ],
            [
             0.5555555555555556,
             "#d8576b"
            ],
            [
             0.6666666666666666,
             "#ed7953"
            ],
            [
             0.7777777777777778,
             "#fb9f3a"
            ],
            [
             0.8888888888888888,
             "#fdca26"
            ],
            [
             1,
             "#f0f921"
            ]
           ]
          },
          "colorway": [
           "#636efa",
           "#EF553B",
           "#00cc96",
           "#ab63fa",
           "#FFA15A",
           "#19d3f3",
           "#FF6692",
           "#B6E880",
           "#FF97FF",
           "#FECB52"
          ],
          "font": {
           "color": "#2a3f5f"
          },
          "geo": {
           "bgcolor": "white",
           "lakecolor": "white",
           "landcolor": "#E5ECF6",
           "showlakes": true,
           "showland": true,
           "subunitcolor": "white"
          },
          "hoverlabel": {
           "align": "left"
          },
          "hovermode": "closest",
          "mapbox": {
           "style": "light"
          },
          "paper_bgcolor": "white",
          "plot_bgcolor": "#E5ECF6",
          "polar": {
           "angularaxis": {
            "gridcolor": "white",
            "linecolor": "white",
            "ticks": ""
           },
           "bgcolor": "#E5ECF6",
           "radialaxis": {
            "gridcolor": "white",
            "linecolor": "white",
            "ticks": ""
           }
          },
          "scene": {
           "xaxis": {
            "backgroundcolor": "#E5ECF6",
            "gridcolor": "white",
            "gridwidth": 2,
            "linecolor": "white",
            "showbackground": true,
            "ticks": "",
            "zerolinecolor": "white"
           },
           "yaxis": {
            "backgroundcolor": "#E5ECF6",
            "gridcolor": "white",
            "gridwidth": 2,
            "linecolor": "white",
            "showbackground": true,
            "ticks": "",
            "zerolinecolor": "white"
           },
           "zaxis": {
            "backgroundcolor": "#E5ECF6",
            "gridcolor": "white",
            "gridwidth": 2,
            "linecolor": "white",
            "showbackground": true,
            "ticks": "",
            "zerolinecolor": "white"
           }
          },
          "shapedefaults": {
           "line": {
            "color": "#2a3f5f"
           }
          },
          "ternary": {
           "aaxis": {
            "gridcolor": "white",
            "linecolor": "white",
            "ticks": ""
           },
           "baxis": {
            "gridcolor": "white",
            "linecolor": "white",
            "ticks": ""
           },
           "bgcolor": "#E5ECF6",
           "caxis": {
            "gridcolor": "white",
            "linecolor": "white",
            "ticks": ""
           }
          },
          "title": {
           "x": 0.05
          },
          "xaxis": {
           "automargin": true,
           "gridcolor": "white",
           "linecolor": "white",
           "ticks": "",
           "title": {
            "standoff": 15
           },
           "zerolinecolor": "white",
           "zerolinewidth": 2
          },
          "yaxis": {
           "automargin": true,
           "gridcolor": "white",
           "linecolor": "white",
           "ticks": "",
           "title": {
            "standoff": 15
           },
           "zerolinecolor": "white",
           "zerolinewidth": 2
          }
         }
        },
        "width": 1000,
        "xaxis": {
         "tickangle": -45
        }
       }
      },
      "text/html": [
       "<div>                            <div id=\"c33fd5ee-1f2d-4636-8104-c339c95609fa\" class=\"plotly-graph-div\" style=\"height:800px; width:1000px;\"></div>            <script type=\"text/javascript\">                require([\"plotly\"], function(Plotly) {                    window.PLOTLYENV=window.PLOTLYENV || {};                                    if (document.getElementById(\"c33fd5ee-1f2d-4636-8104-c339c95609fa\")) {                    Plotly.newPlot(                        \"c33fd5ee-1f2d-4636-8104-c339c95609fa\",                        [{\"name\":\"Argentina\",\"x\":[\"YPF \"],\"y\":[13.02],\"type\":\"bar\"},{\"name\":\"Australia\",\"x\":[\"BHP Group\"],\"y\":[65.55],\"type\":\"bar\"},{\"name\":\"Austria\",\"x\":[\"OMV Group\"],\"y\":[42.02],\"type\":\"bar\"},{\"name\":\"Bahrain\",\"x\":[\"Ahli United Bank\"],\"y\":[1.56],\"type\":\"bar\"},{\"name\":\"Belgium\",\"x\":[\"Anheuser-Busch InBev\"],\"y\":[54.33],\"type\":\"bar\"},{\"name\":\"Bermuda\",\"x\":[\"Jardine Matheson\"],\"y\":[35.86],\"type\":\"bar\"},{\"name\":\"Brazil\",\"x\":[\"Petrobras\"],\"y\":[83.89],\"type\":\"bar\"},{\"name\":\"Canada\",\"x\":[\"The Home Depot\"],\"y\":[151.16],\"type\":\"bar\"},{\"name\":\"Cayman Islands\",\"x\":[\"Nu Holdings\"],\"y\":[1.4],\"type\":\"bar\"},{\"name\":\"Chile\",\"x\":[\"AntarChile\"],\"y\":[24.9],\"type\":\"bar\"},{\"name\":\"China\",\"x\":[\"Sinopec\"],\"y\":[384.82],\"type\":\"bar\"},{\"name\":\"Colombia\",\"x\":[\"Ecopetrol\"],\"y\":[23.43],\"type\":\"bar\"},{\"name\":\"Czech Republic\",\"x\":[\"CEZ Group\"],\"y\":[10.9],\"type\":\"bar\"},{\"name\":\"Denmark\",\"x\":[\"M\\u00f8ller-Maersk\"],\"y\":[61.95],\"type\":\"bar\"},{\"name\":\"Egypt\",\"x\":[\"Commercial International Bank\"],\"y\":[3.22],\"type\":\"bar\"},{\"name\":\"Finland\",\"x\":[\"Fortum\"],\"y\":[132.85],\"type\":\"bar\"},{\"name\":\"France\",\"x\":[\"Total\"],\"y\":[185.12],\"type\":\"bar\"},{\"name\":\"Germany\",\"x\":[\"Volkswagen Group\"],\"y\":[295.73],\"type\":\"bar\"},{\"name\":\"Greece\",\"x\":[\"Piraeus Financial Holdings\"],\"y\":[3.33],\"type\":\"bar\"},{\"name\":\"Hong Kong\",\"x\":[\"China Mobile\"],\"y\":[131.49],\"type\":\"bar\"},{\"name\":\"Hungary\",\"x\":[\"MOL Hungarian Oil\"],\"y\":[19.64],\"type\":\"bar\"},{\"name\":\"India\",\"x\":[\"Reliance Industries\"],\"y\":[86.85],\"type\":\"bar\"},{\"name\":\"Indonesia\",\"x\":[\"Bank Rakyat Indonesia (BRI)\"],\"y\":[12.77],\"type\":\"bar\"},{\"name\":\"Ireland\",\"x\":[\"Accenture\"],\"y\":[56.7],\"type\":\"bar\"},{\"name\":\"Israel\",\"x\":[\"Teva Pharmaceutical\"],\"y\":[15.85],\"type\":\"bar\"},{\"name\":\"Italy\",\"x\":[\"Generali Group\"],\"y\":[102.13],\"type\":\"bar\"},{\"name\":\"Japan\",\"x\":[\"Toyota Motor\"],\"y\":[281.75],\"type\":\"bar\"},{\"name\":\"Kazakhstan\",\"x\":[\"Halyk Bank\"],\"y\":[2.93],\"type\":\"bar\"},{\"name\":\"Kuwait\",\"x\":[\"National Bank of Kuwait \"],\"y\":[3.82],\"type\":\"bar\"},{\"name\":\"Luxembourg\",\"x\":[\"ArcelorMittal\"],\"y\":[76.65],\"type\":\"bar\"},{\"name\":\"Malaysia\",\"x\":[\"Tenaga Nasional\"],\"y\":[12.7],\"type\":\"bar\"},{\"name\":\"Mexico\",\"x\":[\"Am\\u00e9rica M\\u00f3vil\"],\"y\":[48.37],\"type\":\"bar\"},{\"name\":\"Morocco\",\"x\":[\"Attijariwafa Bank\"],\"y\":[4.71],\"type\":\"bar\"},{\"name\":\"Netherlands\",\"x\":[\"Stellantis\"],\"y\":[176.61],\"type\":\"bar\"},{\"name\":\"Nigeria\",\"x\":[\"Dangote Cement\"],\"y\":[3.38],\"type\":\"bar\"},{\"name\":\"Norway\",\"x\":[\"Equinor\"],\"y\":[88.37],\"type\":\"bar\"},{\"name\":\"Peru\",\"x\":[\"Credicorp\"],\"y\":[4.89],\"type\":\"bar\"},{\"name\":\"Philippines\",\"x\":[\"Top Frontier Investment Holdings\"],\"y\":[17.34],\"type\":\"bar\"},{\"name\":\"Poland\",\"x\":[\"PKN Orlen\"],\"y\":[34.07],\"type\":\"bar\"},{\"name\":\"Portugal\",\"x\":[\"Jeronimo Martins\"],\"y\":[24.69],\"type\":\"bar\"},{\"name\":\"Qatar\",\"x\":[\"Qatar National Bank\"],\"y\":[14.2],\"type\":\"bar\"},{\"name\":\"Russia\",\"x\":[\"LukOil\"],\"y\":[125.11],\"type\":\"bar\"},{\"name\":\"Saudi Arabia\",\"x\":[\"Saudi Arabian Oil Company (Saudi Aramco)\"],\"y\":[400.38],\"type\":\"bar\"},{\"name\":\"Singapore\",\"x\":[\"Wilmar International\"],\"y\":[65.84],\"type\":\"bar\"},{\"name\":\"South Africa\",\"x\":[\"Old Mutual\"],\"y\":[16.76],\"type\":\"bar\"},{\"name\":\"South Korea\",\"x\":[\"Samsung Group\"],\"y\":[244.16],\"type\":\"bar\"},{\"name\":\"Spain\",\"x\":[\"Santander\"],\"y\":[78.22],\"type\":\"bar\"},{\"name\":\"Sweden\",\"x\":[\"Volvo Group\"],\"y\":[43.36],\"type\":\"bar\"},{\"name\":\"Switzerland\",\"x\":[\"Glencore International\"],\"y\":[203.41],\"type\":\"bar\"},{\"name\":\"Taiwan\",\"x\":[\"Hon Hai Precision \"],\"y\":[214.6],\"type\":\"bar\"},{\"name\":\"Thailand\",\"x\":[\"PTT \"],\"y\":[70.55],\"type\":\"bar\"},{\"name\":\"Turkey\",\"x\":[\"Ko\\u00e7 Holding\"],\"y\":[38.84],\"type\":\"bar\"},{\"name\":\"United Arab Emirates\",\"x\":[\"Etisalat\"],\"y\":[14.52],\"type\":\"bar\"},{\"name\":\"United Kingdom\",\"x\":[\"Shell\"],\"y\":[261.76],\"type\":\"bar\"},{\"name\":\"United States\",\"x\":[\"Walmart\"],\"y\":[572.75],\"type\":\"bar\"},{\"name\":\"Uruguay\",\"x\":[\"MercadoLibre\"],\"y\":[7.07],\"type\":\"bar\"},{\"name\":\"Vietnam\",\"x\":[\"Hoa Phat Group\"],\"y\":[6.53],\"type\":\"bar\"}],                        {\"template\":{\"data\":{\"bar\":[{\"error_x\":{\"color\":\"#2a3f5f\"},\"error_y\":{\"color\":\"#2a3f5f\"},\"marker\":{\"line\":{\"color\":\"#E5ECF6\",\"width\":0.5},\"pattern\":{\"fillmode\":\"overlay\",\"size\":10,\"solidity\":0.2}},\"type\":\"bar\"}],\"barpolar\":[{\"marker\":{\"line\":{\"color\":\"#E5ECF6\",\"width\":0.5},\"pattern\":{\"fillmode\":\"overlay\",\"size\":10,\"solidity\":0.2}},\"type\":\"barpolar\"}],\"carpet\":[{\"aaxis\":{\"endlinecolor\":\"#2a3f5f\",\"gridcolor\":\"white\",\"linecolor\":\"white\",\"minorgridcolor\":\"white\",\"startlinecolor\":\"#2a3f5f\"},\"baxis\":{\"endlinecolor\":\"#2a3f5f\",\"gridcolor\":\"white\",\"linecolor\":\"white\",\"minorgridcolor\":\"white\",\"startlinecolor\":\"#2a3f5f\"},\"type\":\"carpet\"}],\"choropleth\":[{\"colorbar\":{\"outlinewidth\":0,\"ticks\":\"\"},\"type\":\"choropleth\"}],\"contour\":[{\"colorbar\":{\"outlinewidth\":0,\"ticks\":\"\"},\"colorscale\":[[0.0,\"#0d0887\"],[0.1111111111111111,\"#46039f\"],[0.2222222222222222,\"#7201a8\"],[0.3333333333333333,\"#9c179e\"],[0.4444444444444444,\"#bd3786\"],[0.5555555555555556,\"#d8576b\"],[0.6666666666666666,\"#ed7953\"],[0.7777777777777778,\"#fb9f3a\"],[0.8888888888888888,\"#fdca26\"],[1.0,\"#f0f921\"]],\"type\":\"contour\"}],\"contourcarpet\":[{\"colorbar\":{\"outlinewidth\":0,\"ticks\":\"\"},\"type\":\"contourcarpet\"}],\"heatmap\":[{\"colorbar\":{\"outlinewidth\":0,\"ticks\":\"\"},\"colorscale\":[[0.0,\"#0d0887\"],[0.1111111111111111,\"#46039f\"],[0.2222222222222222,\"#7201a8\"],[0.3333333333333333,\"#9c179e\"],[0.4444444444444444,\"#bd3786\"],[0.5555555555555556,\"#d8576b\"],[0.6666666666666666,\"#ed7953\"],[0.7777777777777778,\"#fb9f3a\"],[0.8888888888888888,\"#fdca26\"],[1.0,\"#f0f921\"]],\"type\":\"heatmap\"}],\"heatmapgl\":[{\"colorbar\":{\"outlinewidth\":0,\"ticks\":\"\"},\"colorscale\":[[0.0,\"#0d0887\"],[0.1111111111111111,\"#46039f\"],[0.2222222222222222,\"#7201a8\"],[0.3333333333333333,\"#9c179e\"],[0.4444444444444444,\"#bd3786\"],[0.5555555555555556,\"#d8576b\"],[0.6666666666666666,\"#ed7953\"],[0.7777777777777778,\"#fb9f3a\"],[0.8888888888888888,\"#fdca26\"],[1.0,\"#f0f921\"]],\"type\":\"heatmapgl\"}],\"histogram\":[{\"marker\":{\"pattern\":{\"fillmode\":\"overlay\",\"size\":10,\"solidity\":0.2}},\"type\":\"histogram\"}],\"histogram2d\":[{\"colorbar\":{\"outlinewidth\":0,\"ticks\":\"\"},\"colorscale\":[[0.0,\"#0d0887\"],[0.1111111111111111,\"#46039f\"],[0.2222222222222222,\"#7201a8\"],[0.3333333333333333,\"#9c179e\"],[0.4444444444444444,\"#bd3786\"],[0.5555555555555556,\"#d8576b\"],[0.6666666666666666,\"#ed7953\"],[0.7777777777777778,\"#fb9f3a\"],[0.8888888888888888,\"#fdca26\"],[1.0,\"#f0f921\"]],\"type\":\"histogram2d\"}],\"histogram2dcontour\":[{\"colorbar\":{\"outlinewidth\":0,\"ticks\":\"\"},\"colorscale\":[[0.0,\"#0d0887\"],[0.1111111111111111,\"#46039f\"],[0.2222222222222222,\"#7201a8\"],[0.3333333333333333,\"#9c179e\"],[0.4444444444444444,\"#bd3786\"],[0.5555555555555556,\"#d8576b\"],[0.6666666666666666,\"#ed7953\"],[0.7777777777777778,\"#fb9f3a\"],[0.8888888888888888,\"#fdca26\"],[1.0,\"#f0f921\"]],\"type\":\"histogram2dcontour\"}],\"mesh3d\":[{\"colorbar\":{\"outlinewidth\":0,\"ticks\":\"\"},\"type\":\"mesh3d\"}],\"parcoords\":[{\"line\":{\"colorbar\":{\"outlinewidth\":0,\"ticks\":\"\"}},\"type\":\"parcoords\"}],\"pie\":[{\"automargin\":true,\"type\":\"pie\"}],\"scatter\":[{\"marker\":{\"colorbar\":{\"outlinewidth\":0,\"ticks\":\"\"}},\"type\":\"scatter\"}],\"scatter3d\":[{\"line\":{\"colorbar\":{\"outlinewidth\":0,\"ticks\":\"\"}},\"marker\":{\"colorbar\":{\"outlinewidth\":0,\"ticks\":\"\"}},\"type\":\"scatter3d\"}],\"scattercarpet\":[{\"marker\":{\"colorbar\":{\"outlinewidth\":0,\"ticks\":\"\"}},\"type\":\"scattercarpet\"}],\"scattergeo\":[{\"marker\":{\"colorbar\":{\"outlinewidth\":0,\"ticks\":\"\"}},\"type\":\"scattergeo\"}],\"scattergl\":[{\"marker\":{\"colorbar\":{\"outlinewidth\":0,\"ticks\":\"\"}},\"type\":\"scattergl\"}],\"scattermapbox\":[{\"marker\":{\"colorbar\":{\"outlinewidth\":0,\"ticks\":\"\"}},\"type\":\"scattermapbox\"}],\"scatterpolar\":[{\"marker\":{\"colorbar\":{\"outlinewidth\":0,\"ticks\":\"\"}},\"type\":\"scatterpolar\"}],\"scatterpolargl\":[{\"marker\":{\"colorbar\":{\"outlinewidth\":0,\"ticks\":\"\"}},\"type\":\"scatterpolargl\"}],\"scatterternary\":[{\"marker\":{\"colorbar\":{\"outlinewidth\":0,\"ticks\":\"\"}},\"type\":\"scatterternary\"}],\"surface\":[{\"colorbar\":{\"outlinewidth\":0,\"ticks\":\"\"},\"colorscale\":[[0.0,\"#0d0887\"],[0.1111111111111111,\"#46039f\"],[0.2222222222222222,\"#7201a8\"],[0.3333333333333333,\"#9c179e\"],[0.4444444444444444,\"#bd3786\"],[0.5555555555555556,\"#d8576b\"],[0.6666666666666666,\"#ed7953\"],[0.7777777777777778,\"#fb9f3a\"],[0.8888888888888888,\"#fdca26\"],[1.0,\"#f0f921\"]],\"type\":\"surface\"}],\"table\":[{\"cells\":{\"fill\":{\"color\":\"#EBF0F8\"},\"line\":{\"color\":\"white\"}},\"header\":{\"fill\":{\"color\":\"#C8D4E3\"},\"line\":{\"color\":\"white\"}},\"type\":\"table\"}]},\"layout\":{\"annotationdefaults\":{\"arrowcolor\":\"#2a3f5f\",\"arrowhead\":0,\"arrowwidth\":1},\"autotypenumbers\":\"strict\",\"coloraxis\":{\"colorbar\":{\"outlinewidth\":0,\"ticks\":\"\"}},\"colorscale\":{\"diverging\":[[0,\"#8e0152\"],[0.1,\"#c51b7d\"],[0.2,\"#de77ae\"],[0.3,\"#f1b6da\"],[0.4,\"#fde0ef\"],[0.5,\"#f7f7f7\"],[0.6,\"#e6f5d0\"],[0.7,\"#b8e186\"],[0.8,\"#7fbc41\"],[0.9,\"#4d9221\"],[1,\"#276419\"]],\"sequential\":[[0.0,\"#0d0887\"],[0.1111111111111111,\"#46039f\"],[0.2222222222222222,\"#7201a8\"],[0.3333333333333333,\"#9c179e\"],[0.4444444444444444,\"#bd3786\"],[0.5555555555555556,\"#d8576b\"],[0.6666666666666666,\"#ed7953\"],[0.7777777777777778,\"#fb9f3a\"],[0.8888888888888888,\"#fdca26\"],[1.0,\"#f0f921\"]],\"sequentialminus\":[[0.0,\"#0d0887\"],[0.1111111111111111,\"#46039f\"],[0.2222222222222222,\"#7201a8\"],[0.3333333333333333,\"#9c179e\"],[0.4444444444444444,\"#bd3786\"],[0.5555555555555556,\"#d8576b\"],[0.6666666666666666,\"#ed7953\"],[0.7777777777777778,\"#fb9f3a\"],[0.8888888888888888,\"#fdca26\"],[1.0,\"#f0f921\"]]},\"colorway\":[\"#636efa\",\"#EF553B\",\"#00cc96\",\"#ab63fa\",\"#FFA15A\",\"#19d3f3\",\"#FF6692\",\"#B6E880\",\"#FF97FF\",\"#FECB52\"],\"font\":{\"color\":\"#2a3f5f\"},\"geo\":{\"bgcolor\":\"white\",\"lakecolor\":\"white\",\"landcolor\":\"#E5ECF6\",\"showlakes\":true,\"showland\":true,\"subunitcolor\":\"white\"},\"hoverlabel\":{\"align\":\"left\"},\"hovermode\":\"closest\",\"mapbox\":{\"style\":\"light\"},\"paper_bgcolor\":\"white\",\"plot_bgcolor\":\"#E5ECF6\",\"polar\":{\"angularaxis\":{\"gridcolor\":\"white\",\"linecolor\":\"white\",\"ticks\":\"\"},\"bgcolor\":\"#E5ECF6\",\"radialaxis\":{\"gridcolor\":\"white\",\"linecolor\":\"white\",\"ticks\":\"\"}},\"scene\":{\"xaxis\":{\"backgroundcolor\":\"#E5ECF6\",\"gridcolor\":\"white\",\"gridwidth\":2,\"linecolor\":\"white\",\"showbackground\":true,\"ticks\":\"\",\"zerolinecolor\":\"white\"},\"yaxis\":{\"backgroundcolor\":\"#E5ECF6\",\"gridcolor\":\"white\",\"gridwidth\":2,\"linecolor\":\"white\",\"showbackground\":true,\"ticks\":\"\",\"zerolinecolor\":\"white\"},\"zaxis\":{\"backgroundcolor\":\"#E5ECF6\",\"gridcolor\":\"white\",\"gridwidth\":2,\"linecolor\":\"white\",\"showbackground\":true,\"ticks\":\"\",\"zerolinecolor\":\"white\"}},\"shapedefaults\":{\"line\":{\"color\":\"#2a3f5f\"}},\"ternary\":{\"aaxis\":{\"gridcolor\":\"white\",\"linecolor\":\"white\",\"ticks\":\"\"},\"baxis\":{\"gridcolor\":\"white\",\"linecolor\":\"white\",\"ticks\":\"\"},\"bgcolor\":\"#E5ECF6\",\"caxis\":{\"gridcolor\":\"white\",\"linecolor\":\"white\",\"ticks\":\"\"}},\"title\":{\"x\":0.05},\"xaxis\":{\"automargin\":true,\"gridcolor\":\"white\",\"linecolor\":\"white\",\"ticks\":\"\",\"title\":{\"standoff\":15},\"zerolinecolor\":\"white\",\"zerolinewidth\":2},\"yaxis\":{\"automargin\":true,\"gridcolor\":\"white\",\"linecolor\":\"white\",\"ticks\":\"\",\"title\":{\"standoff\":15},\"zerolinecolor\":\"white\",\"zerolinewidth\":2}}},\"xaxis\":{\"tickangle\":-45},\"autosize\":false,\"width\":1000,\"height\":800},                        {\"responsive\": true}                    ).then(function(){\n",
       "                            \n",
       "var gd = document.getElementById('c33fd5ee-1f2d-4636-8104-c339c95609fa');\n",
       "var x = new MutationObserver(function (mutations, observer) {{\n",
       "        var display = window.getComputedStyle(gd).display;\n",
       "        if (!display || display === 'none') {{\n",
       "            console.log([gd, 'removed!']);\n",
       "            Plotly.purge(gd);\n",
       "            observer.disconnect();\n",
       "        }}\n",
       "}});\n",
       "\n",
       "// Listen for the removal of the full notebook cells\n",
       "var notebookContainer = gd.closest('#notebook-container');\n",
       "if (notebookContainer) {{\n",
       "    x.observe(notebookContainer, {childList: true});\n",
       "}}\n",
       "\n",
       "// Listen for the clearing of the current output cell\n",
       "var outputEl = gd.closest('.output');\n",
       "if (outputEl) {{\n",
       "    x.observe(outputEl, {childList: true});\n",
       "}}\n",
       "\n",
       "                        })                };                });            </script>        </div>"
      ]
     },
     "metadata": {},
     "output_type": "display_data"
    }
   ],
   "source": [
    "import plotly.graph_objects as go\n",
    "\n",
    "fig = go.Figure()\n",
    "for country in top_rev_by_country['Country']:\n",
    "    country_df = top_rev_by_country[top_rev_by_country['Country'] == country]\n",
    "    country_df = country_df.sort_values(by = 'Revenue (Billions)', ascending = False)\n",
    "    fig.add_trace(go.Bar(x=country_df['Organization Name'], y = country_df['Revenue (Billions)'],\n",
    "                        name = country))\n",
    "\n",
    "fig.update_layout(autosize = False, width = 1000, height = 800, xaxis_tickangle = -45)\n",
    "fig.show()"
   ]
  },
  {
   "cell_type": "markdown",
   "id": "041fa468",
   "metadata": {},
   "source": [
    "### Net Top 10 Companies in US by Profit Share"
   ]
  },
  {
   "cell_type": "code",
   "execution_count": 28,
   "id": "de97aa3c",
   "metadata": {},
   "outputs": [
    {
     "data": {
      "text/html": [
       "<div>\n",
       "<style scoped>\n",
       "    .dataframe tbody tr th:only-of-type {\n",
       "        vertical-align: middle;\n",
       "    }\n",
       "\n",
       "    .dataframe tbody tr th {\n",
       "        vertical-align: top;\n",
       "    }\n",
       "\n",
       "    .dataframe thead th {\n",
       "        text-align: right;\n",
       "    }\n",
       "</style>\n",
       "<table border=\"1\" class=\"dataframe\">\n",
       "  <thead>\n",
       "    <tr style=\"text-align: right;\">\n",
       "      <th></th>\n",
       "      <th>2022 Ranking</th>\n",
       "      <th>Organization Name</th>\n",
       "      <th>Industry</th>\n",
       "      <th>Country</th>\n",
       "      <th>Year Founded</th>\n",
       "      <th>CEO</th>\n",
       "      <th>Revenue (Billions)</th>\n",
       "      <th>Profits (Billions)</th>\n",
       "      <th>Assets (Billions)</th>\n",
       "      <th>Market Value (Billions)</th>\n",
       "      <th>Total Employees</th>\n",
       "      <th>Copy of Total Employees</th>\n",
       "    </tr>\n",
       "  </thead>\n",
       "  <tbody>\n",
       "    <tr>\n",
       "      <th>6</th>\n",
       "      <td>7</td>\n",
       "      <td>Apple</td>\n",
       "      <td>Technology Hardware &amp; Equipment</td>\n",
       "      <td>United States</td>\n",
       "      <td>1976</td>\n",
       "      <td>Tim Cook</td>\n",
       "      <td>378.70</td>\n",
       "      <td>100.56</td>\n",
       "      <td>381.19</td>\n",
       "      <td>2640.32</td>\n",
       "      <td>154000.0</td>\n",
       "      <td>154000.0</td>\n",
       "    </tr>\n",
       "    <tr>\n",
       "      <th>0</th>\n",
       "      <td>1</td>\n",
       "      <td>Berkshire Hathaway</td>\n",
       "      <td>Diversified Financials</td>\n",
       "      <td>United States</td>\n",
       "      <td>1939</td>\n",
       "      <td>Warren Edward Buffett</td>\n",
       "      <td>276.09</td>\n",
       "      <td>89.80</td>\n",
       "      <td>958.78</td>\n",
       "      <td>741.48</td>\n",
       "      <td>372000.0</td>\n",
       "      <td>372000.0</td>\n",
       "    </tr>\n",
       "    <tr>\n",
       "      <th>10</th>\n",
       "      <td>11</td>\n",
       "      <td>Alphabet</td>\n",
       "      <td>IT Software &amp; Services</td>\n",
       "      <td>United States</td>\n",
       "      <td>1998</td>\n",
       "      <td>Sundar Pichai</td>\n",
       "      <td>257.49</td>\n",
       "      <td>76.03</td>\n",
       "      <td>359.27</td>\n",
       "      <td>1581.72</td>\n",
       "      <td>156500.0</td>\n",
       "      <td>156500.0</td>\n",
       "    </tr>\n",
       "    <tr>\n",
       "      <th>11</th>\n",
       "      <td>12</td>\n",
       "      <td>Microsoft</td>\n",
       "      <td>IT Software &amp; Services</td>\n",
       "      <td>United States</td>\n",
       "      <td>1975</td>\n",
       "      <td>Satya Nadella</td>\n",
       "      <td>184.90</td>\n",
       "      <td>71.18</td>\n",
       "      <td>340.39</td>\n",
       "      <td>2054.37</td>\n",
       "      <td>181000.0</td>\n",
       "      <td>181000.0</td>\n",
       "    </tr>\n",
       "    <tr>\n",
       "      <th>3</th>\n",
       "      <td>4</td>\n",
       "      <td>JPMorgan Chase</td>\n",
       "      <td>Diversified Financials</td>\n",
       "      <td>United States</td>\n",
       "      <td>2000</td>\n",
       "      <td>Jamie Dimon</td>\n",
       "      <td>124.54</td>\n",
       "      <td>42.12</td>\n",
       "      <td>3954.69</td>\n",
       "      <td>374.45</td>\n",
       "      <td>271025.0</td>\n",
       "      <td>271025.0</td>\n",
       "    </tr>\n",
       "    <tr>\n",
       "      <th>33</th>\n",
       "      <td>34</td>\n",
       "      <td>Meta Platforms</td>\n",
       "      <td>IT Software &amp; Services</td>\n",
       "      <td>United States</td>\n",
       "      <td>2004</td>\n",
       "      <td>Mark Elliot Zuckerberg</td>\n",
       "      <td>117.93</td>\n",
       "      <td>39.37</td>\n",
       "      <td>165.99</td>\n",
       "      <td>499.86</td>\n",
       "      <td>71970.0</td>\n",
       "      <td>71970.0</td>\n",
       "    </tr>\n",
       "    <tr>\n",
       "      <th>5</th>\n",
       "      <td>6</td>\n",
       "      <td>Amazon</td>\n",
       "      <td>Retailing</td>\n",
       "      <td>United States</td>\n",
       "      <td>1994</td>\n",
       "      <td>Andy Jassy</td>\n",
       "      <td>469.82</td>\n",
       "      <td>33.36</td>\n",
       "      <td>420.55</td>\n",
       "      <td>1468.40</td>\n",
       "      <td>1608000.0</td>\n",
       "      <td>1608000.0</td>\n",
       "    </tr>\n",
       "    <tr>\n",
       "      <th>8</th>\n",
       "      <td>9</td>\n",
       "      <td>Bank of America</td>\n",
       "      <td>Banking</td>\n",
       "      <td>United States</td>\n",
       "      <td>1998</td>\n",
       "      <td>Brian Moynihan</td>\n",
       "      <td>96.83</td>\n",
       "      <td>31.00</td>\n",
       "      <td>3238.22</td>\n",
       "      <td>303.10</td>\n",
       "      <td>208000.0</td>\n",
       "      <td>208000.0</td>\n",
       "    </tr>\n",
       "    <tr>\n",
       "      <th>14</th>\n",
       "      <td>15</td>\n",
       "      <td>ExxonMobil</td>\n",
       "      <td>Oil &amp; Gas Operations</td>\n",
       "      <td>United States</td>\n",
       "      <td>1999</td>\n",
       "      <td>Darren W. Woods</td>\n",
       "      <td>280.51</td>\n",
       "      <td>23.04</td>\n",
       "      <td>338.92</td>\n",
       "      <td>359.73</td>\n",
       "      <td>63000.0</td>\n",
       "      <td>63000.0</td>\n",
       "    </tr>\n",
       "    <tr>\n",
       "      <th>337</th>\n",
       "      <td>338</td>\n",
       "      <td>Fannie Mae</td>\n",
       "      <td>Business Services &amp; Supplies</td>\n",
       "      <td>United States</td>\n",
       "      <td>1938</td>\n",
       "      <td>David C. Benson</td>\n",
       "      <td>100.33</td>\n",
       "      <td>22.18</td>\n",
       "      <td>4229.90</td>\n",
       "      <td>0.88</td>\n",
       "      <td>7400.0</td>\n",
       "      <td>7400.0</td>\n",
       "    </tr>\n",
       "  </tbody>\n",
       "</table>\n",
       "</div>"
      ],
      "text/plain": [
       "     2022 Ranking   Organization Name                         Industry  \\\n",
       "6               7               Apple  Technology Hardware & Equipment   \n",
       "0               1  Berkshire Hathaway           Diversified Financials   \n",
       "10             11            Alphabet           IT Software & Services   \n",
       "11             12           Microsoft           IT Software & Services   \n",
       "3               4      JPMorgan Chase           Diversified Financials   \n",
       "33             34      Meta Platforms           IT Software & Services   \n",
       "5               6              Amazon                        Retailing   \n",
       "8               9     Bank of America                          Banking   \n",
       "14             15          ExxonMobil             Oil & Gas Operations   \n",
       "337           338          Fannie Mae     Business Services & Supplies   \n",
       "\n",
       "           Country  Year Founded                     CEO  Revenue (Billions)  \\\n",
       "6    United States          1976                Tim Cook              378.70   \n",
       "0    United States          1939   Warren Edward Buffett              276.09   \n",
       "10   United States          1998           Sundar Pichai              257.49   \n",
       "11   United States          1975           Satya Nadella              184.90   \n",
       "3    United States          2000             Jamie Dimon              124.54   \n",
       "33   United States          2004  Mark Elliot Zuckerberg              117.93   \n",
       "5    United States          1994              Andy Jassy              469.82   \n",
       "8    United States          1998          Brian Moynihan               96.83   \n",
       "14   United States          1999         Darren W. Woods              280.51   \n",
       "337  United States          1938         David C. Benson              100.33   \n",
       "\n",
       "     Profits (Billions)  Assets (Billions)  Market Value (Billions)  \\\n",
       "6                100.56             381.19                  2640.32   \n",
       "0                 89.80             958.78                   741.48   \n",
       "10                76.03             359.27                  1581.72   \n",
       "11                71.18             340.39                  2054.37   \n",
       "3                 42.12            3954.69                   374.45   \n",
       "33                39.37             165.99                   499.86   \n",
       "5                 33.36             420.55                  1468.40   \n",
       "8                 31.00            3238.22                   303.10   \n",
       "14                23.04             338.92                   359.73   \n",
       "337               22.18            4229.90                     0.88   \n",
       "\n",
       "     Total Employees  Copy of Total Employees  \n",
       "6           154000.0                 154000.0  \n",
       "0           372000.0                 372000.0  \n",
       "10          156500.0                 156500.0  \n",
       "11          181000.0                 181000.0  \n",
       "3           271025.0                 271025.0  \n",
       "33           71970.0                  71970.0  \n",
       "5          1608000.0                1608000.0  \n",
       "8           208000.0                 208000.0  \n",
       "14           63000.0                  63000.0  \n",
       "337           7400.0                   7400.0  "
      ]
     },
     "execution_count": 28,
     "metadata": {},
     "output_type": "execute_result"
    }
   ],
   "source": [
    "top_united_states = data[data['Country'] == 'United States']\n",
    "top_united_states = top_united_states.sort_values(by = ['Profits (Billions)'], ascending = False)\n",
    "top_united_states.head(10)"
   ]
  },
  {
   "cell_type": "code",
   "execution_count": 29,
   "id": "abb5eab1",
   "metadata": {},
   "outputs": [
    {
     "data": {
      "image/png": "[encoded data removed]",
      "text/plain": [
       "<Figure size 720x576 with 1 Axes>"
      ]
     },
     "metadata": {},
     "output_type": "display_data"
    }
   ],
   "source": [
    "fig, ax = plt.subplots(figsize = (10,8))\n",
    "plt.pie(top_united_states['Profits (Billions)'][:10],\n",
    "        labels = top_united_states['Organization Name'][:10], autopct = '%.2f')\n",
    "plt.show();"
   ]
  },
  {
   "cell_type": "code",
   "execution_count": null,
   "id": "07d2cc43",
   "metadata": {},
   "outputs": [],
   "source": []
  }
 ],
 "metadata": {
  "kernelspec": {
   "display_name": "Python 3 (ipykernel)",
   "language": "python",
   "name": "python3"
  },
  "language_info": {
   "codemirror_mode": {
    "name": "ipython",
    "version": 3
   },
   "file_extension": ".py",
   "mimetype": "text/x-python",
   "name": "python",
   "nbconvert_exporter": "python",
   "pygments_lexer": "ipython3",
   "version": "3.9.12"
  }
 },
 "nbformat": 4,
 "nbformat_minor": 5
}
